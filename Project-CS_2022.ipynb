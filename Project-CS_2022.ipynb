{
 "cells": [
  {
   "cell_type": "markdown",
   "id": "9af81cfb",
   "metadata": {},
   "source": [
    "# Foundations of Computer Science - progetto 2022/23"
   ]
  },
  {
   "cell_type": "markdown",
   "id": "852af1f3",
   "metadata": {},
   "source": [
    "- Mattia Birti [897092] \n",
    "- Alberto Porrini [826306]\n",
    "- Gloria Longo [864579]"
   ]
  },
  {
   "cell_type": "markdown",
   "id": "f53dd412",
   "metadata": {},
   "source": [
    "You have to work on the Dogs adoptions dataset:\n",
    "*  [Dogs](https://github.com/mat1218B/ProjectOfComputerScience/blob/main/adoptions/dogs.csv)\n",
    "*  [Dog Travel](https://github.com/mat1218B/ProjectOfComputerScience/blob/main/adoptions/dogTravel.csv)\n",
    "*  [NST-EST2021-POP](https://github.com/mat1218B/ProjectOfComputerScience/blob/main/adoptions/NST-EST2021-POP.csv)\n",
    "\n",
    "### Notes\n",
    "\n",
    "1. It is mandatory to use GitHub for developing the project.\n",
    "1. The project must be a jupyter notebook.\n",
    "1. There is no restriction on the libraries that can be used, nor on the Python version.\n",
    "1. All questions on the project must be asked in a public channel on Zulip.\n",
    "1. At most 3 students can be in each group. You must create the groups by yourself.\n",
    "1. You do not have to send me the project before the discussion.s"
   ]
  },
  {
   "cell_type": "markdown",
   "id": "e98afc1a",
   "metadata": {},
   "source": [
    "## Libraries"
   ]
  },
  {
   "cell_type": "code",
   "execution_count": 3,
   "id": "02c6c7b8",
   "metadata": {},
   "outputs": [],
   "source": [
    "import pandas as pd"
   ]
  },
  {
   "cell_type": "markdown",
   "id": "aca61992",
   "metadata": {},
   "source": [
    "### Import data from GitHub"
   ]
  },
  {
   "cell_type": "markdown",
   "id": "a04897af",
   "metadata": {},
   "source": [
    "#### Dogs.csv"
   ]
  },
  {
   "cell_type": "code",
   "execution_count": 4,
   "id": "fac780e3",
   "metadata": {},
   "outputs": [],
   "source": [
    "dogs = pd.read_csv(\"https://raw.githubusercontent.com/mat1218B/ProjectOfComputerScience/main/adoptions/dogs.csv\", sep=\",\", encoding='latin-1')"
   ]
  },
  {
   "cell_type": "code",
   "execution_count": 5,
   "id": "4623bf4e",
   "metadata": {},
   "outputs": [
    {
     "data": {
      "text/plain": [
       "(58180, 37)"
      ]
     },
     "execution_count": 5,
     "metadata": {},
     "output_type": "execute_result"
    }
   ],
   "source": [
    "dogs.shape"
   ]
  },
  {
   "cell_type": "code",
   "execution_count": 6,
   "id": "028a543b",
   "metadata": {},
   "outputs": [
    {
     "data": {
      "text/html": [
       "<div>\n",
       "<style scoped>\n",
       "    .dataframe tbody tr th:only-of-type {\n",
       "        vertical-align: middle;\n",
       "    }\n",
       "\n",
       "    .dataframe tbody tr th {\n",
       "        vertical-align: top;\n",
       "    }\n",
       "\n",
       "    .dataframe thead th {\n",
       "        text-align: right;\n",
       "    }\n",
       "</style>\n",
       "<table border=\"1\" class=\"dataframe\">\n",
       "  <thead>\n",
       "    <tr style=\"text-align: right;\">\n",
       "      <th></th>\n",
       "      <th>id</th>\n",
       "      <th>org_id</th>\n",
       "      <th>url</th>\n",
       "      <th>type.x</th>\n",
       "      <th>species</th>\n",
       "      <th>breed_primary</th>\n",
       "      <th>breed_secondary</th>\n",
       "      <th>breed_mixed</th>\n",
       "      <th>breed_unknown</th>\n",
       "      <th>color_primary</th>\n",
       "      <th>...</th>\n",
       "      <th>contact_city</th>\n",
       "      <th>contact_state</th>\n",
       "      <th>contact_zip</th>\n",
       "      <th>contact_country</th>\n",
       "      <th>stateQ</th>\n",
       "      <th>accessed</th>\n",
       "      <th>type.y</th>\n",
       "      <th>description</th>\n",
       "      <th>stay_duration</th>\n",
       "      <th>stay_cost</th>\n",
       "    </tr>\n",
       "  </thead>\n",
       "  <tbody>\n",
       "    <tr>\n",
       "      <th>0</th>\n",
       "      <td>46042150</td>\n",
       "      <td>NV163</td>\n",
       "      <td>https://www.petfinder.com/dog/harley-46042150/...</td>\n",
       "      <td>Dog</td>\n",
       "      <td>Dog</td>\n",
       "      <td>American Staffordshire Terrier</td>\n",
       "      <td>Mixed Breed</td>\n",
       "      <td>True</td>\n",
       "      <td>False</td>\n",
       "      <td>White / Cream</td>\n",
       "      <td>...</td>\n",
       "      <td>Las Vegas</td>\n",
       "      <td>NV</td>\n",
       "      <td>89147</td>\n",
       "      <td>US</td>\n",
       "      <td>89009</td>\n",
       "      <td>2019-09-20</td>\n",
       "      <td>Dog</td>\n",
       "      <td>Harley is not sure how he wound up at shelter ...</td>\n",
       "      <td>70</td>\n",
       "      <td>124.81</td>\n",
       "    </tr>\n",
       "    <tr>\n",
       "      <th>1</th>\n",
       "      <td>46042002</td>\n",
       "      <td>NV163</td>\n",
       "      <td>https://www.petfinder.com/dog/biggie-46042002/...</td>\n",
       "      <td>Dog</td>\n",
       "      <td>Dog</td>\n",
       "      <td>Pit Bull Terrier</td>\n",
       "      <td>Mixed Breed</td>\n",
       "      <td>True</td>\n",
       "      <td>False</td>\n",
       "      <td>Brown / Chocolate</td>\n",
       "      <td>...</td>\n",
       "      <td>Las Vegas</td>\n",
       "      <td>NV</td>\n",
       "      <td>89147</td>\n",
       "      <td>US</td>\n",
       "      <td>89009</td>\n",
       "      <td>2019-09-20</td>\n",
       "      <td>Dog</td>\n",
       "      <td>6 year old Biggie has lost his home and really...</td>\n",
       "      <td>49</td>\n",
       "      <td>122.07</td>\n",
       "    </tr>\n",
       "    <tr>\n",
       "      <th>2</th>\n",
       "      <td>46040898</td>\n",
       "      <td>NV99</td>\n",
       "      <td>https://www.petfinder.com/dog/ziggy-46040898/n...</td>\n",
       "      <td>Dog</td>\n",
       "      <td>Dog</td>\n",
       "      <td>Shepherd</td>\n",
       "      <td>NaN</td>\n",
       "      <td>False</td>\n",
       "      <td>False</td>\n",
       "      <td>Brindle</td>\n",
       "      <td>...</td>\n",
       "      <td>Mesquite</td>\n",
       "      <td>NV</td>\n",
       "      <td>89027</td>\n",
       "      <td>US</td>\n",
       "      <td>89009</td>\n",
       "      <td>2019-09-20</td>\n",
       "      <td>Dog</td>\n",
       "      <td>Approx 2 years old.\\n Did I catch your eye? I ...</td>\n",
       "      <td>87</td>\n",
       "      <td>281.51</td>\n",
       "    </tr>\n",
       "    <tr>\n",
       "      <th>3</th>\n",
       "      <td>46039877</td>\n",
       "      <td>NV202</td>\n",
       "      <td>https://www.petfinder.com/dog/gypsy-46039877/n...</td>\n",
       "      <td>Dog</td>\n",
       "      <td>Dog</td>\n",
       "      <td>German Shepherd Dog</td>\n",
       "      <td>NaN</td>\n",
       "      <td>False</td>\n",
       "      <td>False</td>\n",
       "      <td>NaN</td>\n",
       "      <td>...</td>\n",
       "      <td>Pahrump</td>\n",
       "      <td>NV</td>\n",
       "      <td>89048</td>\n",
       "      <td>US</td>\n",
       "      <td>89009</td>\n",
       "      <td>2019-09-20</td>\n",
       "      <td>Dog</td>\n",
       "      <td>NaN</td>\n",
       "      <td>62</td>\n",
       "      <td>145.83</td>\n",
       "    </tr>\n",
       "    <tr>\n",
       "      <th>4</th>\n",
       "      <td>46039306</td>\n",
       "      <td>NV184</td>\n",
       "      <td>https://www.petfinder.com/dog/theo-46039306/nv...</td>\n",
       "      <td>Dog</td>\n",
       "      <td>Dog</td>\n",
       "      <td>Dachshund</td>\n",
       "      <td>NaN</td>\n",
       "      <td>False</td>\n",
       "      <td>False</td>\n",
       "      <td>NaN</td>\n",
       "      <td>...</td>\n",
       "      <td>Henderson</td>\n",
       "      <td>NV</td>\n",
       "      <td>89052</td>\n",
       "      <td>US</td>\n",
       "      <td>89009</td>\n",
       "      <td>2019-09-20</td>\n",
       "      <td>Dog</td>\n",
       "      <td>Theo is a friendly dachshund mix who gets alon...</td>\n",
       "      <td>93</td>\n",
       "      <td>241.09</td>\n",
       "    </tr>\n",
       "  </tbody>\n",
       "</table>\n",
       "<p>5 rows × 37 columns</p>\n",
       "</div>"
      ],
      "text/plain": [
       "         id org_id                                                url type.x  \\\n",
       "0  46042150  NV163  https://www.petfinder.com/dog/harley-46042150/...    Dog   \n",
       "1  46042002  NV163  https://www.petfinder.com/dog/biggie-46042002/...    Dog   \n",
       "2  46040898   NV99  https://www.petfinder.com/dog/ziggy-46040898/n...    Dog   \n",
       "3  46039877  NV202  https://www.petfinder.com/dog/gypsy-46039877/n...    Dog   \n",
       "4  46039306  NV184  https://www.petfinder.com/dog/theo-46039306/nv...    Dog   \n",
       "\n",
       "  species                   breed_primary breed_secondary  breed_mixed  \\\n",
       "0     Dog  American Staffordshire Terrier     Mixed Breed         True   \n",
       "1     Dog                Pit Bull Terrier     Mixed Breed         True   \n",
       "2     Dog                        Shepherd             NaN        False   \n",
       "3     Dog             German Shepherd Dog             NaN        False   \n",
       "4     Dog                       Dachshund             NaN        False   \n",
       "\n",
       "   breed_unknown      color_primary  ... contact_city contact_state  \\\n",
       "0          False      White / Cream  ...    Las Vegas            NV   \n",
       "1          False  Brown / Chocolate  ...    Las Vegas            NV   \n",
       "2          False            Brindle  ...     Mesquite            NV   \n",
       "3          False                NaN  ...      Pahrump            NV   \n",
       "4          False                NaN  ...    Henderson            NV   \n",
       "\n",
       "  contact_zip contact_country stateQ    accessed  type.y  \\\n",
       "0       89147              US  89009  2019-09-20     Dog   \n",
       "1       89147              US  89009  2019-09-20     Dog   \n",
       "2       89027              US  89009  2019-09-20     Dog   \n",
       "3       89048              US  89009  2019-09-20     Dog   \n",
       "4       89052              US  89009  2019-09-20     Dog   \n",
       "\n",
       "                                         description  stay_duration  stay_cost  \n",
       "0  Harley is not sure how he wound up at shelter ...             70     124.81  \n",
       "1  6 year old Biggie has lost his home and really...             49     122.07  \n",
       "2  Approx 2 years old.\\n Did I catch your eye? I ...             87     281.51  \n",
       "3                                                NaN             62     145.83  \n",
       "4  Theo is a friendly dachshund mix who gets alon...             93     241.09  \n",
       "\n",
       "[5 rows x 37 columns]"
      ]
     },
     "execution_count": 6,
     "metadata": {},
     "output_type": "execute_result"
    }
   ],
   "source": [
    "dogs.head()"
   ]
  },
  {
   "cell_type": "markdown",
   "id": "d8392cf3",
   "metadata": {},
   "source": [
    "#### DogTravel.csv"
   ]
  },
  {
   "cell_type": "code",
   "execution_count": 5,
   "id": "c5e16de5",
   "metadata": {},
   "outputs": [],
   "source": [
    "dogTravel = pd.read_csv(\"https://raw.githubusercontent.com/mat1218B/ProjectOfComputerScience/main/adoptions/dogTravel.csv\", sep=\",\", encoding='latin-1')"
   ]
  },
  {
   "cell_type": "code",
   "execution_count": 6,
   "id": "96f00d8a",
   "metadata": {},
   "outputs": [
    {
     "data": {
      "text/plain": [
       "(6194, 9)"
      ]
     },
     "execution_count": 6,
     "metadata": {},
     "output_type": "execute_result"
    }
   ],
   "source": [
    "dogTravel.shape"
   ]
  },
  {
   "cell_type": "code",
   "execution_count": 7,
   "id": "10227a8a",
   "metadata": {},
   "outputs": [
    {
     "data": {
      "text/html": [
       "<div>\n",
       "<style scoped>\n",
       "    .dataframe tbody tr th:only-of-type {\n",
       "        vertical-align: middle;\n",
       "    }\n",
       "\n",
       "    .dataframe tbody tr th {\n",
       "        vertical-align: top;\n",
       "    }\n",
       "\n",
       "    .dataframe thead th {\n",
       "        text-align: right;\n",
       "    }\n",
       "</style>\n",
       "<table border=\"1\" class=\"dataframe\">\n",
       "  <thead>\n",
       "    <tr style=\"text-align: right;\">\n",
       "      <th></th>\n",
       "      <th>index</th>\n",
       "      <th>id</th>\n",
       "      <th>contact_city</th>\n",
       "      <th>contact_state</th>\n",
       "      <th>description</th>\n",
       "      <th>found</th>\n",
       "      <th>manual</th>\n",
       "      <th>remove</th>\n",
       "      <th>still_there</th>\n",
       "    </tr>\n",
       "  </thead>\n",
       "  <tbody>\n",
       "    <tr>\n",
       "      <th>0</th>\n",
       "      <td>0</td>\n",
       "      <td>44520267</td>\n",
       "      <td>Anoka</td>\n",
       "      <td>MN</td>\n",
       "      <td>Boris is a handsome mini schnauzer who made hi...</td>\n",
       "      <td>Arkansas</td>\n",
       "      <td>NaN</td>\n",
       "      <td>NaN</td>\n",
       "      <td>NaN</td>\n",
       "    </tr>\n",
       "    <tr>\n",
       "      <th>1</th>\n",
       "      <td>1</td>\n",
       "      <td>44698509</td>\n",
       "      <td>Groveland</td>\n",
       "      <td>FL</td>\n",
       "      <td>Duke is an almost 2 year old Potcake from Abac...</td>\n",
       "      <td>Abacos</td>\n",
       "      <td>Bahamas</td>\n",
       "      <td>NaN</td>\n",
       "      <td>NaN</td>\n",
       "    </tr>\n",
       "    <tr>\n",
       "      <th>2</th>\n",
       "      <td>2</td>\n",
       "      <td>45983838</td>\n",
       "      <td>Adamstown</td>\n",
       "      <td>MD</td>\n",
       "      <td>Zac Woof-ron is a heartthrob movie star lookin...</td>\n",
       "      <td>Adam</td>\n",
       "      <td>Maryland</td>\n",
       "      <td>NaN</td>\n",
       "      <td>NaN</td>\n",
       "    </tr>\n",
       "    <tr>\n",
       "      <th>3</th>\n",
       "      <td>3</td>\n",
       "      <td>44475904</td>\n",
       "      <td>Saint Cloud</td>\n",
       "      <td>MN</td>\n",
       "      <td>~~Came in to the shelter as a transfer from an...</td>\n",
       "      <td>Adaptil</td>\n",
       "      <td>NaN</td>\n",
       "      <td>True</td>\n",
       "      <td>NaN</td>\n",
       "    </tr>\n",
       "    <tr>\n",
       "      <th>4</th>\n",
       "      <td>4</td>\n",
       "      <td>43877389</td>\n",
       "      <td>Pueblo</td>\n",
       "      <td>CO</td>\n",
       "      <td>Palang is such a sweetheart. She loves her peo...</td>\n",
       "      <td>Afghanistan</td>\n",
       "      <td>NaN</td>\n",
       "      <td>NaN</td>\n",
       "      <td>NaN</td>\n",
       "    </tr>\n",
       "  </tbody>\n",
       "</table>\n",
       "</div>"
      ],
      "text/plain": [
       "   index        id contact_city contact_state  \\\n",
       "0      0  44520267        Anoka            MN   \n",
       "1      1  44698509    Groveland            FL   \n",
       "2      2  45983838    Adamstown            MD   \n",
       "3      3  44475904  Saint Cloud            MN   \n",
       "4      4  43877389       Pueblo            CO   \n",
       "\n",
       "                                         description        found    manual  \\\n",
       "0  Boris is a handsome mini schnauzer who made hi...     Arkansas       NaN   \n",
       "1  Duke is an almost 2 year old Potcake from Abac...       Abacos   Bahamas   \n",
       "2  Zac Woof-ron is a heartthrob movie star lookin...         Adam  Maryland   \n",
       "3  ~~Came in to the shelter as a transfer from an...      Adaptil       NaN   \n",
       "4  Palang is such a sweetheart. She loves her peo...  Afghanistan       NaN   \n",
       "\n",
       "  remove still_there  \n",
       "0    NaN         NaN  \n",
       "1    NaN         NaN  \n",
       "2    NaN         NaN  \n",
       "3   True         NaN  \n",
       "4    NaN         NaN  "
      ]
     },
     "execution_count": 7,
     "metadata": {},
     "output_type": "execute_result"
    }
   ],
   "source": [
    "dogTravel.head()"
   ]
  },
  {
   "cell_type": "markdown",
   "id": "cd6243e0",
   "metadata": {},
   "source": [
    "#### NST-EST.csv"
   ]
  },
  {
   "cell_type": "code",
   "execution_count": 8,
   "id": "f9868fdf",
   "metadata": {},
   "outputs": [],
   "source": [
    "nstest = pd.read_csv(\"https://raw.githubusercontent.com/mat1218B/ProjectOfComputerScience/main/adoptions/NST-EST2021-POP.csv\", header=None, sep=\",\", encoding='latin-1')"
   ]
  },
  {
   "cell_type": "code",
   "execution_count": 9,
   "id": "cbd3d644",
   "metadata": {},
   "outputs": [
    {
     "data": {
      "text/plain": [
       "(51, 2)"
      ]
     },
     "execution_count": 9,
     "metadata": {},
     "output_type": "execute_result"
    }
   ],
   "source": [
    "nstest.shape"
   ]
  },
  {
   "cell_type": "code",
   "execution_count": 10,
   "id": "8f07f77e",
   "metadata": {},
   "outputs": [
    {
     "data": {
      "text/html": [
       "<div>\n",
       "<style scoped>\n",
       "    .dataframe tbody tr th:only-of-type {\n",
       "        vertical-align: middle;\n",
       "    }\n",
       "\n",
       "    .dataframe tbody tr th {\n",
       "        vertical-align: top;\n",
       "    }\n",
       "\n",
       "    .dataframe thead th {\n",
       "        text-align: right;\n",
       "    }\n",
       "</style>\n",
       "<table border=\"1\" class=\"dataframe\">\n",
       "  <thead>\n",
       "    <tr style=\"text-align: right;\">\n",
       "      <th></th>\n",
       "      <th>0</th>\n",
       "      <th>1</th>\n",
       "    </tr>\n",
       "  </thead>\n",
       "  <tbody>\n",
       "    <tr>\n",
       "      <th>0</th>\n",
       "      <td>Alabama</td>\n",
       "      <td>5.024.279</td>\n",
       "    </tr>\n",
       "    <tr>\n",
       "      <th>1</th>\n",
       "      <td>Alaska</td>\n",
       "      <td>733.391</td>\n",
       "    </tr>\n",
       "    <tr>\n",
       "      <th>2</th>\n",
       "      <td>Arizona</td>\n",
       "      <td>7.151.502</td>\n",
       "    </tr>\n",
       "    <tr>\n",
       "      <th>3</th>\n",
       "      <td>Arkansas</td>\n",
       "      <td>3.011.524</td>\n",
       "    </tr>\n",
       "    <tr>\n",
       "      <th>4</th>\n",
       "      <td>California</td>\n",
       "      <td>39.538.223</td>\n",
       "    </tr>\n",
       "  </tbody>\n",
       "</table>\n",
       "</div>"
      ],
      "text/plain": [
       "            0           1\n",
       "0     Alabama   5.024.279\n",
       "1      Alaska     733.391\n",
       "2     Arizona   7.151.502\n",
       "3    Arkansas   3.011.524\n",
       "4  California  39.538.223"
      ]
     },
     "execution_count": 10,
     "metadata": {},
     "output_type": "execute_result"
    }
   ],
   "source": [
    "nstest.head()"
   ]
  },
  {
   "cell_type": "markdown",
   "id": "500717f3",
   "metadata": {},
   "source": [
    "## 1. Extract all dogs with status that is not adoptable"
   ]
  },
  {
   "cell_type": "code",
   "execution_count": null,
   "id": "45498b93",
   "metadata": {},
   "outputs": [],
   "source": []
  },
  {
   "cell_type": "markdown",
   "id": "e8c70a9c",
   "metadata": {},
   "source": [
    "## 2. For each (primary) breed, determine the number of dogs"
   ]
  },
  {
   "cell_type": "code",
   "execution_count": 11,
   "id": "e90ea6af",
   "metadata": {},
   "outputs": [
    {
     "data": {
      "text/plain": [
       "breed_primary\n",
       "Affenpinscher                         17\n",
       "Afghan Hound                           4\n",
       "Airedale Terrier                      19\n",
       "Akbash                                 3\n",
       "Akita                                181\n",
       "                                    ... \n",
       "Wirehaired Pointing Griffon            1\n",
       "Wirehaired Terrier                    60\n",
       "Xoloitzcuintli / Mexican Hairless     11\n",
       "Yellow Labrador Retriever            158\n",
       "Yorkshire Terrier                    360\n",
       "Name: id, Length: 216, dtype: int64"
      ]
     },
     "execution_count": 11,
     "metadata": {},
     "output_type": "execute_result"
    }
   ],
   "source": [
    "dogs.groupby('breed_primary').count()['id']"
   ]
  },
  {
   "cell_type": "markdown",
   "id": "9f479cf0",
   "metadata": {},
   "source": [
    "## 3. For each (primary) breed, determine the ratio between the number of dogs of Mixed Breed and those not of Mixed Breed. Hint: look at the secondary_breed."
   ]
  },
  {
   "cell_type": "markdown",
   "id": "b7811f79",
   "metadata": {},
   "source": [
    "Let's see all the primary breed with a groupBy:"
   ]
  },
  {
   "cell_type": "code",
   "execution_count": 12,
   "id": "a0aea096",
   "metadata": {},
   "outputs": [
    {
     "data": {
      "text/html": [
       "<div>\n",
       "<style scoped>\n",
       "    .dataframe tbody tr th:only-of-type {\n",
       "        vertical-align: middle;\n",
       "    }\n",
       "\n",
       "    .dataframe tbody tr th {\n",
       "        vertical-align: top;\n",
       "    }\n",
       "\n",
       "    .dataframe thead th {\n",
       "        text-align: right;\n",
       "    }\n",
       "</style>\n",
       "<table border=\"1\" class=\"dataframe\">\n",
       "  <thead>\n",
       "    <tr style=\"text-align: right;\">\n",
       "      <th></th>\n",
       "      <th>species</th>\n",
       "      <th>breed_secondary</th>\n",
       "    </tr>\n",
       "    <tr>\n",
       "      <th>breed_primary</th>\n",
       "      <th></th>\n",
       "      <th></th>\n",
       "    </tr>\n",
       "  </thead>\n",
       "  <tbody>\n",
       "    <tr>\n",
       "      <th>Affenpinscher</th>\n",
       "      <td>17</td>\n",
       "      <td>2</td>\n",
       "    </tr>\n",
       "    <tr>\n",
       "      <th>Afghan Hound</th>\n",
       "      <td>4</td>\n",
       "      <td>1</td>\n",
       "    </tr>\n",
       "    <tr>\n",
       "      <th>Airedale Terrier</th>\n",
       "      <td>19</td>\n",
       "      <td>9</td>\n",
       "    </tr>\n",
       "    <tr>\n",
       "      <th>Akbash</th>\n",
       "      <td>3</td>\n",
       "      <td>0</td>\n",
       "    </tr>\n",
       "    <tr>\n",
       "      <th>Akita</th>\n",
       "      <td>181</td>\n",
       "      <td>52</td>\n",
       "    </tr>\n",
       "    <tr>\n",
       "      <th>...</th>\n",
       "      <td>...</td>\n",
       "      <td>...</td>\n",
       "    </tr>\n",
       "    <tr>\n",
       "      <th>Wirehaired Pointing Griffon</th>\n",
       "      <td>1</td>\n",
       "      <td>0</td>\n",
       "    </tr>\n",
       "    <tr>\n",
       "      <th>Wirehaired Terrier</th>\n",
       "      <td>60</td>\n",
       "      <td>18</td>\n",
       "    </tr>\n",
       "    <tr>\n",
       "      <th>Xoloitzcuintli / Mexican Hairless</th>\n",
       "      <td>11</td>\n",
       "      <td>4</td>\n",
       "    </tr>\n",
       "    <tr>\n",
       "      <th>Yellow Labrador Retriever</th>\n",
       "      <td>158</td>\n",
       "      <td>62</td>\n",
       "    </tr>\n",
       "    <tr>\n",
       "      <th>Yorkshire Terrier</th>\n",
       "      <td>360</td>\n",
       "      <td>129</td>\n",
       "    </tr>\n",
       "  </tbody>\n",
       "</table>\n",
       "<p>216 rows × 2 columns</p>\n",
       "</div>"
      ],
      "text/plain": [
       "                                   species  breed_secondary\n",
       "breed_primary                                              \n",
       "Affenpinscher                           17                2\n",
       "Afghan Hound                             4                1\n",
       "Airedale Terrier                        19                9\n",
       "Akbash                                   3                0\n",
       "Akita                                  181               52\n",
       "...                                    ...              ...\n",
       "Wirehaired Pointing Griffon              1                0\n",
       "Wirehaired Terrier                      60               18\n",
       "Xoloitzcuintli / Mexican Hairless       11                4\n",
       "Yellow Labrador Retriever              158               62\n",
       "Yorkshire Terrier                      360              129\n",
       "\n",
       "[216 rows x 2 columns]"
      ]
     },
     "execution_count": 12,
     "metadata": {},
     "output_type": "execute_result"
    }
   ],
   "source": [
    "nBreed = dogs.groupby('breed_primary').count()[['species','breed_secondary']]\n",
    "nBreed"
   ]
  },
  {
   "cell_type": "markdown",
   "id": "fa127f0e",
   "metadata": {},
   "source": [
    "As we can see we can use \"species\" as total number of individues for this species.\n",
    "Affenpischer are in total 17 dogs, 2 of those are mixed breed."
   ]
  },
  {
   "cell_type": "markdown",
   "id": "a5e7a4da",
   "metadata": {},
   "source": [
    "Rename colums"
   ]
  },
  {
   "cell_type": "code",
   "execution_count": 13,
   "id": "5b8c076e",
   "metadata": {},
   "outputs": [
    {
     "data": {
      "text/html": [
       "<div>\n",
       "<style scoped>\n",
       "    .dataframe tbody tr th:only-of-type {\n",
       "        vertical-align: middle;\n",
       "    }\n",
       "\n",
       "    .dataframe tbody tr th {\n",
       "        vertical-align: top;\n",
       "    }\n",
       "\n",
       "    .dataframe thead th {\n",
       "        text-align: right;\n",
       "    }\n",
       "</style>\n",
       "<table border=\"1\" class=\"dataframe\">\n",
       "  <thead>\n",
       "    <tr style=\"text-align: right;\">\n",
       "      <th></th>\n",
       "      <th>total</th>\n",
       "      <th>nSecondary</th>\n",
       "    </tr>\n",
       "    <tr>\n",
       "      <th>breed_primary</th>\n",
       "      <th></th>\n",
       "      <th></th>\n",
       "    </tr>\n",
       "  </thead>\n",
       "  <tbody>\n",
       "    <tr>\n",
       "      <th>Affenpinscher</th>\n",
       "      <td>17</td>\n",
       "      <td>2</td>\n",
       "    </tr>\n",
       "    <tr>\n",
       "      <th>Afghan Hound</th>\n",
       "      <td>4</td>\n",
       "      <td>1</td>\n",
       "    </tr>\n",
       "    <tr>\n",
       "      <th>Airedale Terrier</th>\n",
       "      <td>19</td>\n",
       "      <td>9</td>\n",
       "    </tr>\n",
       "    <tr>\n",
       "      <th>Akbash</th>\n",
       "      <td>3</td>\n",
       "      <td>0</td>\n",
       "    </tr>\n",
       "    <tr>\n",
       "      <th>Akita</th>\n",
       "      <td>181</td>\n",
       "      <td>52</td>\n",
       "    </tr>\n",
       "    <tr>\n",
       "      <th>...</th>\n",
       "      <td>...</td>\n",
       "      <td>...</td>\n",
       "    </tr>\n",
       "    <tr>\n",
       "      <th>Wirehaired Pointing Griffon</th>\n",
       "      <td>1</td>\n",
       "      <td>0</td>\n",
       "    </tr>\n",
       "    <tr>\n",
       "      <th>Wirehaired Terrier</th>\n",
       "      <td>60</td>\n",
       "      <td>18</td>\n",
       "    </tr>\n",
       "    <tr>\n",
       "      <th>Xoloitzcuintli / Mexican Hairless</th>\n",
       "      <td>11</td>\n",
       "      <td>4</td>\n",
       "    </tr>\n",
       "    <tr>\n",
       "      <th>Yellow Labrador Retriever</th>\n",
       "      <td>158</td>\n",
       "      <td>62</td>\n",
       "    </tr>\n",
       "    <tr>\n",
       "      <th>Yorkshire Terrier</th>\n",
       "      <td>360</td>\n",
       "      <td>129</td>\n",
       "    </tr>\n",
       "  </tbody>\n",
       "</table>\n",
       "<p>216 rows × 2 columns</p>\n",
       "</div>"
      ],
      "text/plain": [
       "                                   total  nSecondary\n",
       "breed_primary                                       \n",
       "Affenpinscher                         17           2\n",
       "Afghan Hound                           4           1\n",
       "Airedale Terrier                      19           9\n",
       "Akbash                                 3           0\n",
       "Akita                                181          52\n",
       "...                                  ...         ...\n",
       "Wirehaired Pointing Griffon            1           0\n",
       "Wirehaired Terrier                    60          18\n",
       "Xoloitzcuintli / Mexican Hairless     11           4\n",
       "Yellow Labrador Retriever            158          62\n",
       "Yorkshire Terrier                    360         129\n",
       "\n",
       "[216 rows x 2 columns]"
      ]
     },
     "execution_count": 13,
     "metadata": {},
     "output_type": "execute_result"
    }
   ],
   "source": [
    "nBreed = nBreed.rename( columns = {'species':'total', 'breed_secondary':'nSecondary'})\n",
    "nBreed"
   ]
  },
  {
   "cell_type": "markdown",
   "id": "0ab2d92f",
   "metadata": {},
   "source": [
    "We have to compute how many are primary breed:"
   ]
  },
  {
   "cell_type": "code",
   "execution_count": 14,
   "id": "026ea727",
   "metadata": {},
   "outputs": [
    {
     "data": {
      "text/html": [
       "<div>\n",
       "<style scoped>\n",
       "    .dataframe tbody tr th:only-of-type {\n",
       "        vertical-align: middle;\n",
       "    }\n",
       "\n",
       "    .dataframe tbody tr th {\n",
       "        vertical-align: top;\n",
       "    }\n",
       "\n",
       "    .dataframe thead th {\n",
       "        text-align: right;\n",
       "    }\n",
       "</style>\n",
       "<table border=\"1\" class=\"dataframe\">\n",
       "  <thead>\n",
       "    <tr style=\"text-align: right;\">\n",
       "      <th></th>\n",
       "      <th>total</th>\n",
       "      <th>nSecondary</th>\n",
       "      <th>nPrimary</th>\n",
       "    </tr>\n",
       "    <tr>\n",
       "      <th>breed_primary</th>\n",
       "      <th></th>\n",
       "      <th></th>\n",
       "      <th></th>\n",
       "    </tr>\n",
       "  </thead>\n",
       "  <tbody>\n",
       "    <tr>\n",
       "      <th>Affenpinscher</th>\n",
       "      <td>17</td>\n",
       "      <td>2</td>\n",
       "      <td>15</td>\n",
       "    </tr>\n",
       "    <tr>\n",
       "      <th>Afghan Hound</th>\n",
       "      <td>4</td>\n",
       "      <td>1</td>\n",
       "      <td>3</td>\n",
       "    </tr>\n",
       "    <tr>\n",
       "      <th>Airedale Terrier</th>\n",
       "      <td>19</td>\n",
       "      <td>9</td>\n",
       "      <td>10</td>\n",
       "    </tr>\n",
       "    <tr>\n",
       "      <th>Akbash</th>\n",
       "      <td>3</td>\n",
       "      <td>0</td>\n",
       "      <td>3</td>\n",
       "    </tr>\n",
       "    <tr>\n",
       "      <th>Akita</th>\n",
       "      <td>181</td>\n",
       "      <td>52</td>\n",
       "      <td>129</td>\n",
       "    </tr>\n",
       "    <tr>\n",
       "      <th>...</th>\n",
       "      <td>...</td>\n",
       "      <td>...</td>\n",
       "      <td>...</td>\n",
       "    </tr>\n",
       "    <tr>\n",
       "      <th>Wirehaired Pointing Griffon</th>\n",
       "      <td>1</td>\n",
       "      <td>0</td>\n",
       "      <td>1</td>\n",
       "    </tr>\n",
       "    <tr>\n",
       "      <th>Wirehaired Terrier</th>\n",
       "      <td>60</td>\n",
       "      <td>18</td>\n",
       "      <td>42</td>\n",
       "    </tr>\n",
       "    <tr>\n",
       "      <th>Xoloitzcuintli / Mexican Hairless</th>\n",
       "      <td>11</td>\n",
       "      <td>4</td>\n",
       "      <td>7</td>\n",
       "    </tr>\n",
       "    <tr>\n",
       "      <th>Yellow Labrador Retriever</th>\n",
       "      <td>158</td>\n",
       "      <td>62</td>\n",
       "      <td>96</td>\n",
       "    </tr>\n",
       "    <tr>\n",
       "      <th>Yorkshire Terrier</th>\n",
       "      <td>360</td>\n",
       "      <td>129</td>\n",
       "      <td>231</td>\n",
       "    </tr>\n",
       "  </tbody>\n",
       "</table>\n",
       "<p>216 rows × 3 columns</p>\n",
       "</div>"
      ],
      "text/plain": [
       "                                   total  nSecondary  nPrimary\n",
       "breed_primary                                                 \n",
       "Affenpinscher                         17           2        15\n",
       "Afghan Hound                           4           1         3\n",
       "Airedale Terrier                      19           9        10\n",
       "Akbash                                 3           0         3\n",
       "Akita                                181          52       129\n",
       "...                                  ...         ...       ...\n",
       "Wirehaired Pointing Griffon            1           0         1\n",
       "Wirehaired Terrier                    60          18        42\n",
       "Xoloitzcuintli / Mexican Hairless     11           4         7\n",
       "Yellow Labrador Retriever            158          62        96\n",
       "Yorkshire Terrier                    360         129       231\n",
       "\n",
       "[216 rows x 3 columns]"
      ]
     },
     "execution_count": 14,
     "metadata": {},
     "output_type": "execute_result"
    }
   ],
   "source": [
    "nBreed['nPrimary'] = nBreed['total'] - nBreed['nSecondary']\n",
    "nBreed"
   ]
  },
  {
   "cell_type": "markdown",
   "id": "fdc4e947",
   "metadata": {},
   "source": [
    "It's time to compute the ratio between Primary and Secondary Breed."
   ]
  },
  {
   "cell_type": "code",
   "execution_count": 15,
   "id": "21239240",
   "metadata": {},
   "outputs": [
    {
     "data": {
      "text/html": [
       "<div>\n",
       "<style scoped>\n",
       "    .dataframe tbody tr th:only-of-type {\n",
       "        vertical-align: middle;\n",
       "    }\n",
       "\n",
       "    .dataframe tbody tr th {\n",
       "        vertical-align: top;\n",
       "    }\n",
       "\n",
       "    .dataframe thead th {\n",
       "        text-align: right;\n",
       "    }\n",
       "</style>\n",
       "<table border=\"1\" class=\"dataframe\">\n",
       "  <thead>\n",
       "    <tr style=\"text-align: right;\">\n",
       "      <th></th>\n",
       "      <th>total</th>\n",
       "      <th>nSecondary</th>\n",
       "      <th>nPrimary</th>\n",
       "      <th>ratioBreed</th>\n",
       "    </tr>\n",
       "    <tr>\n",
       "      <th>breed_primary</th>\n",
       "      <th></th>\n",
       "      <th></th>\n",
       "      <th></th>\n",
       "      <th></th>\n",
       "    </tr>\n",
       "  </thead>\n",
       "  <tbody>\n",
       "    <tr>\n",
       "      <th>Affenpinscher</th>\n",
       "      <td>17</td>\n",
       "      <td>2</td>\n",
       "      <td>15</td>\n",
       "      <td>7.500000</td>\n",
       "    </tr>\n",
       "    <tr>\n",
       "      <th>Afghan Hound</th>\n",
       "      <td>4</td>\n",
       "      <td>1</td>\n",
       "      <td>3</td>\n",
       "      <td>3.000000</td>\n",
       "    </tr>\n",
       "    <tr>\n",
       "      <th>Airedale Terrier</th>\n",
       "      <td>19</td>\n",
       "      <td>9</td>\n",
       "      <td>10</td>\n",
       "      <td>1.111111</td>\n",
       "    </tr>\n",
       "    <tr>\n",
       "      <th>Akbash</th>\n",
       "      <td>3</td>\n",
       "      <td>0</td>\n",
       "      <td>3</td>\n",
       "      <td>inf</td>\n",
       "    </tr>\n",
       "    <tr>\n",
       "      <th>Akita</th>\n",
       "      <td>181</td>\n",
       "      <td>52</td>\n",
       "      <td>129</td>\n",
       "      <td>2.480769</td>\n",
       "    </tr>\n",
       "    <tr>\n",
       "      <th>...</th>\n",
       "      <td>...</td>\n",
       "      <td>...</td>\n",
       "      <td>...</td>\n",
       "      <td>...</td>\n",
       "    </tr>\n",
       "    <tr>\n",
       "      <th>Wirehaired Pointing Griffon</th>\n",
       "      <td>1</td>\n",
       "      <td>0</td>\n",
       "      <td>1</td>\n",
       "      <td>inf</td>\n",
       "    </tr>\n",
       "    <tr>\n",
       "      <th>Wirehaired Terrier</th>\n",
       "      <td>60</td>\n",
       "      <td>18</td>\n",
       "      <td>42</td>\n",
       "      <td>2.333333</td>\n",
       "    </tr>\n",
       "    <tr>\n",
       "      <th>Xoloitzcuintli / Mexican Hairless</th>\n",
       "      <td>11</td>\n",
       "      <td>4</td>\n",
       "      <td>7</td>\n",
       "      <td>1.750000</td>\n",
       "    </tr>\n",
       "    <tr>\n",
       "      <th>Yellow Labrador Retriever</th>\n",
       "      <td>158</td>\n",
       "      <td>62</td>\n",
       "      <td>96</td>\n",
       "      <td>1.548387</td>\n",
       "    </tr>\n",
       "    <tr>\n",
       "      <th>Yorkshire Terrier</th>\n",
       "      <td>360</td>\n",
       "      <td>129</td>\n",
       "      <td>231</td>\n",
       "      <td>1.790698</td>\n",
       "    </tr>\n",
       "  </tbody>\n",
       "</table>\n",
       "<p>216 rows × 4 columns</p>\n",
       "</div>"
      ],
      "text/plain": [
       "                                   total  nSecondary  nPrimary  ratioBreed\n",
       "breed_primary                                                             \n",
       "Affenpinscher                         17           2        15    7.500000\n",
       "Afghan Hound                           4           1         3    3.000000\n",
       "Airedale Terrier                      19           9        10    1.111111\n",
       "Akbash                                 3           0         3         inf\n",
       "Akita                                181          52       129    2.480769\n",
       "...                                  ...         ...       ...         ...\n",
       "Wirehaired Pointing Griffon            1           0         1         inf\n",
       "Wirehaired Terrier                    60          18        42    2.333333\n",
       "Xoloitzcuintli / Mexican Hairless     11           4         7    1.750000\n",
       "Yellow Labrador Retriever            158          62        96    1.548387\n",
       "Yorkshire Terrier                    360         129       231    1.790698\n",
       "\n",
       "[216 rows x 4 columns]"
      ]
     },
     "execution_count": 15,
     "metadata": {},
     "output_type": "execute_result"
    }
   ],
   "source": [
    "nBreed['ratioBreed'] = nBreed['nPrimary'] / nBreed['nSecondary']\n",
    "nBreed"
   ]
  },
  {
   "cell_type": "markdown",
   "id": "6c182af3",
   "metadata": {},
   "source": [
    "As we can see, there are many 'inf' values. It is correct because for that breed there are not any secondary breed."
   ]
  },
  {
   "cell_type": "markdown",
   "id": "8f6e22b3",
   "metadata": {},
   "source": [
    "## 4. For each (primary) breed, determine the earliest and the latest posted timestamp."
   ]
  },
  {
   "cell_type": "code",
   "execution_count": null,
   "id": "19411741",
   "metadata": {},
   "outputs": [],
   "source": []
  },
  {
   "cell_type": "markdown",
   "id": "0fafaf8d",
   "metadata": {},
   "source": [
    "## 5. For each state, compute the sex imbalance, that is the difference between male and female dogs. In which state this imbalance is largest?"
   ]
  },
  {
   "cell_type": "markdown",
   "id": "e6994df9",
   "metadata": {},
   "source": [
    "we create a table with count of male dogs for each state (contanct_state) "
   ]
  },
  {
   "cell_type": "code",
   "execution_count": 14,
   "id": "5b16b042",
   "metadata": {},
   "outputs": [
    {
     "data": {
      "text/html": [
       "<div>\n",
       "<style scoped>\n",
       "    .dataframe tbody tr th:only-of-type {\n",
       "        vertical-align: middle;\n",
       "    }\n",
       "\n",
       "    .dataframe tbody tr th {\n",
       "        vertical-align: top;\n",
       "    }\n",
       "\n",
       "    .dataframe thead th {\n",
       "        text-align: right;\n",
       "    }\n",
       "</style>\n",
       "<table border=\"1\" class=\"dataframe\">\n",
       "  <thead>\n",
       "    <tr style=\"text-align: right;\">\n",
       "      <th></th>\n",
       "      <th>sex</th>\n",
       "    </tr>\n",
       "    <tr>\n",
       "      <th>contact_state</th>\n",
       "      <th></th>\n",
       "    </tr>\n",
       "  </thead>\n",
       "  <tbody>\n",
       "    <tr>\n",
       "      <th>VT</th>\n",
       "      <td>276</td>\n",
       "    </tr>\n",
       "    <tr>\n",
       "      <th>WA</th>\n",
       "      <td>682</td>\n",
       "    </tr>\n",
       "    <tr>\n",
       "      <th>WI</th>\n",
       "      <td>277</td>\n",
       "    </tr>\n",
       "    <tr>\n",
       "      <th>WV</th>\n",
       "      <td>333</td>\n",
       "    </tr>\n",
       "    <tr>\n",
       "      <th>WY</th>\n",
       "      <td>31</td>\n",
       "    </tr>\n",
       "  </tbody>\n",
       "</table>\n",
       "</div>"
      ],
      "text/plain": [
       "               sex\n",
       "contact_state     \n",
       "VT             276\n",
       "WA             682\n",
       "WI             277\n",
       "WV             333\n",
       "WY              31"
      ]
     },
     "execution_count": 14,
     "metadata": {},
     "output_type": "execute_result"
    }
   ],
   "source": [
    "dog_male=dogs[dogs['sex']=='Male']\n",
    "dog_male=dog_male.groupby(['contact_state'])[['sex']].count()\n",
    "dog_male.tail()"
   ]
  },
  {
   "cell_type": "markdown",
   "id": "f4a9b39f",
   "metadata": {},
   "source": [
    "we recreate the same table that we have done before with female dogs for each state"
   ]
  },
  {
   "cell_type": "code",
   "execution_count": 15,
   "id": "d367dbe0",
   "metadata": {},
   "outputs": [
    {
     "data": {
      "text/html": [
       "<div>\n",
       "<style scoped>\n",
       "    .dataframe tbody tr th:only-of-type {\n",
       "        vertical-align: middle;\n",
       "    }\n",
       "\n",
       "    .dataframe tbody tr th {\n",
       "        vertical-align: top;\n",
       "    }\n",
       "\n",
       "    .dataframe thead th {\n",
       "        text-align: right;\n",
       "    }\n",
       "</style>\n",
       "<table border=\"1\" class=\"dataframe\">\n",
       "  <thead>\n",
       "    <tr style=\"text-align: right;\">\n",
       "      <th></th>\n",
       "      <th>sex</th>\n",
       "    </tr>\n",
       "    <tr>\n",
       "      <th>contact_state</th>\n",
       "      <th></th>\n",
       "    </tr>\n",
       "  </thead>\n",
       "  <tbody>\n",
       "    <tr>\n",
       "      <th>VT</th>\n",
       "      <td>234</td>\n",
       "    </tr>\n",
       "    <tr>\n",
       "      <th>WA</th>\n",
       "      <td>595</td>\n",
       "    </tr>\n",
       "    <tr>\n",
       "      <th>WI</th>\n",
       "      <td>265</td>\n",
       "    </tr>\n",
       "    <tr>\n",
       "      <th>WV</th>\n",
       "      <td>232</td>\n",
       "    </tr>\n",
       "    <tr>\n",
       "      <th>WY</th>\n",
       "      <td>21</td>\n",
       "    </tr>\n",
       "  </tbody>\n",
       "</table>\n",
       "</div>"
      ],
      "text/plain": [
       "               sex\n",
       "contact_state     \n",
       "VT             234\n",
       "WA             595\n",
       "WI             265\n",
       "WV             232\n",
       "WY              21"
      ]
     },
     "execution_count": 15,
     "metadata": {},
     "output_type": "execute_result"
    }
   ],
   "source": [
    "dog_female=dogs[dogs['sex']=='Female']\n",
    "dog_female=dog_female.groupby(['contact_state'])[['sex']].count()\n",
    "dog_female.tail()"
   ]
  },
  {
   "cell_type": "markdown",
   "id": "72a08e6d",
   "metadata": {},
   "source": [
    "we create a new table call \"dog_sex\" thanks to merge between male dogs and female dogs on contact_state"
   ]
  },
  {
   "cell_type": "code",
   "execution_count": 11,
   "id": "59904e41",
   "metadata": {},
   "outputs": [
    {
     "data": {
      "text/html": [
       "<div>\n",
       "<style scoped>\n",
       "    .dataframe tbody tr th:only-of-type {\n",
       "        vertical-align: middle;\n",
       "    }\n",
       "\n",
       "    .dataframe tbody tr th {\n",
       "        vertical-align: top;\n",
       "    }\n",
       "\n",
       "    .dataframe thead th {\n",
       "        text-align: right;\n",
       "    }\n",
       "</style>\n",
       "<table border=\"1\" class=\"dataframe\">\n",
       "  <thead>\n",
       "    <tr style=\"text-align: right;\">\n",
       "      <th></th>\n",
       "      <th>tot_male</th>\n",
       "      <th>tot_female</th>\n",
       "    </tr>\n",
       "    <tr>\n",
       "      <th>contact_state</th>\n",
       "      <th></th>\n",
       "      <th></th>\n",
       "    </tr>\n",
       "  </thead>\n",
       "  <tbody>\n",
       "    <tr>\n",
       "      <th>VT</th>\n",
       "      <td>276</td>\n",
       "      <td>234</td>\n",
       "    </tr>\n",
       "    <tr>\n",
       "      <th>WA</th>\n",
       "      <td>682</td>\n",
       "      <td>595</td>\n",
       "    </tr>\n",
       "    <tr>\n",
       "      <th>WI</th>\n",
       "      <td>277</td>\n",
       "      <td>265</td>\n",
       "    </tr>\n",
       "    <tr>\n",
       "      <th>WV</th>\n",
       "      <td>333</td>\n",
       "      <td>232</td>\n",
       "    </tr>\n",
       "    <tr>\n",
       "      <th>WY</th>\n",
       "      <td>31</td>\n",
       "      <td>21</td>\n",
       "    </tr>\n",
       "  </tbody>\n",
       "</table>\n",
       "</div>"
      ],
      "text/plain": [
       "               tot_male  tot_female\n",
       "contact_state                      \n",
       "VT                  276         234\n",
       "WA                  682         595\n",
       "WI                  277         265\n",
       "WV                  333         232\n",
       "WY                   31          21"
      ]
     },
     "execution_count": 11,
     "metadata": {},
     "output_type": "execute_result"
    }
   ],
   "source": [
    "dog_sex=pd.merge(dog_male,dog_female,on=\"contact_state\")\n",
    "dog_sex.rename( columns = {'sex_x':'tot_male','sex_y':'tot_female'})\n",
    "dog_sex=dog_sex.rename( columns = {'sex_x':'tot_male','sex_y':'tot_female'})\n",
    "dog_sex.tail()"
   ]
  },
  {
   "cell_type": "markdown",
   "id": "5173d73f",
   "metadata": {},
   "source": [
    "we compute the imbalance like difference between male and female dogs and after we calculate the absolute value of the imbalance given that we consider only positive value of imbalance for each contact_state"
   ]
  },
  {
   "cell_type": "code",
   "execution_count": 12,
   "id": "80614e1b",
   "metadata": {},
   "outputs": [
    {
     "data": {
      "text/html": [
       "<div>\n",
       "<style scoped>\n",
       "    .dataframe tbody tr th:only-of-type {\n",
       "        vertical-align: middle;\n",
       "    }\n",
       "\n",
       "    .dataframe tbody tr th {\n",
       "        vertical-align: top;\n",
       "    }\n",
       "\n",
       "    .dataframe thead th {\n",
       "        text-align: right;\n",
       "    }\n",
       "</style>\n",
       "<table border=\"1\" class=\"dataframe\">\n",
       "  <thead>\n",
       "    <tr style=\"text-align: right;\">\n",
       "      <th></th>\n",
       "      <th>tot_male</th>\n",
       "      <th>tot_female</th>\n",
       "      <th>imbalance</th>\n",
       "    </tr>\n",
       "    <tr>\n",
       "      <th>contact_state</th>\n",
       "      <th></th>\n",
       "      <th></th>\n",
       "      <th></th>\n",
       "    </tr>\n",
       "  </thead>\n",
       "  <tbody>\n",
       "    <tr>\n",
       "      <th>VT</th>\n",
       "      <td>276</td>\n",
       "      <td>234</td>\n",
       "      <td>42</td>\n",
       "    </tr>\n",
       "    <tr>\n",
       "      <th>WA</th>\n",
       "      <td>682</td>\n",
       "      <td>595</td>\n",
       "      <td>87</td>\n",
       "    </tr>\n",
       "    <tr>\n",
       "      <th>WI</th>\n",
       "      <td>277</td>\n",
       "      <td>265</td>\n",
       "      <td>12</td>\n",
       "    </tr>\n",
       "    <tr>\n",
       "      <th>WV</th>\n",
       "      <td>333</td>\n",
       "      <td>232</td>\n",
       "      <td>101</td>\n",
       "    </tr>\n",
       "    <tr>\n",
       "      <th>WY</th>\n",
       "      <td>31</td>\n",
       "      <td>21</td>\n",
       "      <td>10</td>\n",
       "    </tr>\n",
       "  </tbody>\n",
       "</table>\n",
       "</div>"
      ],
      "text/plain": [
       "               tot_male  tot_female  imbalance\n",
       "contact_state                                 \n",
       "VT                  276         234         42\n",
       "WA                  682         595         87\n",
       "WI                  277         265         12\n",
       "WV                  333         232        101\n",
       "WY                   31          21         10"
      ]
     },
     "execution_count": 12,
     "metadata": {},
     "output_type": "execute_result"
    }
   ],
   "source": [
    "dog_sex[\"imbalance\"]=dog_sex[\"tot_male\"]-dog_sex[\"tot_female\"]\n",
    "dog_sex[\"imbalance\"]=abs(dog_sex[\"imbalance\"])\n",
    "dog_sex.tail()"
   ]
  },
  {
   "cell_type": "markdown",
   "id": "e626bee8",
   "metadata": {},
   "source": [
    "we found the state with the largest imbalance"
   ]
  },
  {
   "cell_type": "code",
   "execution_count": 13,
   "id": "4c45f1eb",
   "metadata": {},
   "outputs": [
    {
     "data": {
      "text/html": [
       "<div>\n",
       "<style scoped>\n",
       "    .dataframe tbody tr th:only-of-type {\n",
       "        vertical-align: middle;\n",
       "    }\n",
       "\n",
       "    .dataframe tbody tr th {\n",
       "        vertical-align: top;\n",
       "    }\n",
       "\n",
       "    .dataframe thead th {\n",
       "        text-align: right;\n",
       "    }\n",
       "</style>\n",
       "<table border=\"1\" class=\"dataframe\">\n",
       "  <thead>\n",
       "    <tr style=\"text-align: right;\">\n",
       "      <th></th>\n",
       "      <th>tot_male</th>\n",
       "      <th>tot_female</th>\n",
       "      <th>imbalance</th>\n",
       "    </tr>\n",
       "    <tr>\n",
       "      <th>contact_state</th>\n",
       "      <th></th>\n",
       "      <th></th>\n",
       "      <th></th>\n",
       "    </tr>\n",
       "  </thead>\n",
       "  <tbody>\n",
       "    <tr>\n",
       "      <th>OH</th>\n",
       "      <td>1439</td>\n",
       "      <td>1231</td>\n",
       "      <td>208</td>\n",
       "    </tr>\n",
       "  </tbody>\n",
       "</table>\n",
       "</div>"
      ],
      "text/plain": [
       "               tot_male  tot_female  imbalance\n",
       "contact_state                                 \n",
       "OH                 1439        1231        208"
      ]
     },
     "execution_count": 13,
     "metadata": {},
     "output_type": "execute_result"
    }
   ],
   "source": [
    "dog_sex[dog_sex[\"imbalance\"]==dog_sex[\"imbalance\"].max()]"
   ]
  },
  {
   "cell_type": "markdown",
   "id": "191c87c7",
   "metadata": {},
   "source": [
    "## 6. For each pair (age, size), determine the average duration of the stay and the average cost of stay."
   ]
  },
  {
   "cell_type": "markdown",
   "id": "cb709be2",
   "metadata": {},
   "source": [
    "Explore the dog's column names"
   ]
  },
  {
   "cell_type": "code",
   "execution_count": 18,
   "id": "e434c6ec",
   "metadata": {},
   "outputs": [
    {
     "data": {
      "text/plain": [
       "Index(['id', 'org_id', 'url', 'type.x', 'species', 'breed_primary',\n",
       "       'breed_secondary', 'breed_mixed', 'breed_unknown', 'color_primary',\n",
       "       'color_secondary', 'color_tertiary', 'age', 'sex', 'size', 'coat',\n",
       "       'fixed', 'house_trained', 'declawed', 'special_needs', 'shots_current',\n",
       "       'env_children', 'env_dogs', 'env_cats', 'name', 'status', 'posted',\n",
       "       'contact_city', 'contact_state', 'contact_zip', 'contact_country',\n",
       "       'stateQ', 'accessed', 'type.y', 'description', 'stay_duration',\n",
       "       'stay_cost'],\n",
       "      dtype='object')"
      ]
     },
     "execution_count": 18,
     "metadata": {},
     "output_type": "execute_result"
    }
   ],
   "source": [
    "dogs.columns"
   ]
  },
  {
   "cell_type": "markdown",
   "id": "30ecce63",
   "metadata": {},
   "source": [
    "Compute the mean of the stay duration and stay cost for the pair AGE, SIZE;"
   ]
  },
  {
   "cell_type": "code",
   "execution_count": 25,
   "id": "dc608de9",
   "metadata": {},
   "outputs": [
    {
     "data": {
      "text/html": [
       "<div>\n",
       "<style scoped>\n",
       "    .dataframe tbody tr th:only-of-type {\n",
       "        vertical-align: middle;\n",
       "    }\n",
       "\n",
       "    .dataframe tbody tr th {\n",
       "        vertical-align: top;\n",
       "    }\n",
       "\n",
       "    .dataframe thead th {\n",
       "        text-align: right;\n",
       "    }\n",
       "</style>\n",
       "<table border=\"1\" class=\"dataframe\">\n",
       "  <thead>\n",
       "    <tr style=\"text-align: right;\">\n",
       "      <th></th>\n",
       "      <th></th>\n",
       "      <th>stay_duration</th>\n",
       "      <th>stay_cost</th>\n",
       "    </tr>\n",
       "    <tr>\n",
       "      <th>age</th>\n",
       "      <th>size</th>\n",
       "      <th></th>\n",
       "      <th></th>\n",
       "    </tr>\n",
       "  </thead>\n",
       "  <tbody>\n",
       "    <tr>\n",
       "      <th rowspan=\"4\" valign=\"top\">Adult</th>\n",
       "      <th>Extra Large</th>\n",
       "      <td>89.015414</td>\n",
       "      <td>232.591561</td>\n",
       "    </tr>\n",
       "    <tr>\n",
       "      <th>Large</th>\n",
       "      <td>89.531943</td>\n",
       "      <td>238.661141</td>\n",
       "    </tr>\n",
       "    <tr>\n",
       "      <th>Medium</th>\n",
       "      <td>89.421036</td>\n",
       "      <td>238.258977</td>\n",
       "    </tr>\n",
       "    <tr>\n",
       "      <th>Small</th>\n",
       "      <td>89.407479</td>\n",
       "      <td>238.974838</td>\n",
       "    </tr>\n",
       "    <tr>\n",
       "      <th rowspan=\"4\" valign=\"top\">Baby</th>\n",
       "      <th>Extra Large</th>\n",
       "      <td>87.032967</td>\n",
       "      <td>237.180879</td>\n",
       "    </tr>\n",
       "    <tr>\n",
       "      <th>Large</th>\n",
       "      <td>89.701564</td>\n",
       "      <td>238.698827</td>\n",
       "    </tr>\n",
       "    <tr>\n",
       "      <th>Medium</th>\n",
       "      <td>89.577668</td>\n",
       "      <td>237.108131</td>\n",
       "    </tr>\n",
       "    <tr>\n",
       "      <th>Small</th>\n",
       "      <td>89.958291</td>\n",
       "      <td>239.083810</td>\n",
       "    </tr>\n",
       "    <tr>\n",
       "      <th rowspan=\"4\" valign=\"top\">Senior</th>\n",
       "      <th>Extra Large</th>\n",
       "      <td>88.861111</td>\n",
       "      <td>235.232361</td>\n",
       "    </tr>\n",
       "    <tr>\n",
       "      <th>Large</th>\n",
       "      <td>88.984298</td>\n",
       "      <td>237.507364</td>\n",
       "    </tr>\n",
       "    <tr>\n",
       "      <th>Medium</th>\n",
       "      <td>89.810052</td>\n",
       "      <td>238.514615</td>\n",
       "    </tr>\n",
       "    <tr>\n",
       "      <th>Small</th>\n",
       "      <td>89.073626</td>\n",
       "      <td>238.282286</td>\n",
       "    </tr>\n",
       "    <tr>\n",
       "      <th rowspan=\"4\" valign=\"top\">Young</th>\n",
       "      <th>Extra Large</th>\n",
       "      <td>90.586345</td>\n",
       "      <td>245.835582</td>\n",
       "    </tr>\n",
       "    <tr>\n",
       "      <th>Large</th>\n",
       "      <td>90.104206</td>\n",
       "      <td>238.149506</td>\n",
       "    </tr>\n",
       "    <tr>\n",
       "      <th>Medium</th>\n",
       "      <td>89.515123</td>\n",
       "      <td>239.304603</td>\n",
       "    </tr>\n",
       "    <tr>\n",
       "      <th>Small</th>\n",
       "      <td>89.814275</td>\n",
       "      <td>241.540069</td>\n",
       "    </tr>\n",
       "  </tbody>\n",
       "</table>\n",
       "</div>"
      ],
      "text/plain": [
       "                    stay_duration   stay_cost\n",
       "age    size                                  \n",
       "Adult  Extra Large      89.015414  232.591561\n",
       "       Large            89.531943  238.661141\n",
       "       Medium           89.421036  238.258977\n",
       "       Small            89.407479  238.974838\n",
       "Baby   Extra Large      87.032967  237.180879\n",
       "       Large            89.701564  238.698827\n",
       "       Medium           89.577668  237.108131\n",
       "       Small            89.958291  239.083810\n",
       "Senior Extra Large      88.861111  235.232361\n",
       "       Large            88.984298  237.507364\n",
       "       Medium           89.810052  238.514615\n",
       "       Small            89.073626  238.282286\n",
       "Young  Extra Large      90.586345  245.835582\n",
       "       Large            90.104206  238.149506\n",
       "       Medium           89.515123  239.304603\n",
       "       Small            89.814275  241.540069"
      ]
     },
     "execution_count": 25,
     "metadata": {},
     "output_type": "execute_result"
    }
   ],
   "source": [
    "AgeSize = dogs.groupby(['age', 'size'])[['stay_duration','stay_cost']].mean()\n",
    "AgeSize"
   ]
  },
  {
   "cell_type": "markdown",
   "id": "66f34567",
   "metadata": {},
   "source": [
    "## 7. Find the dogs involved in at least 3 travels. Also list the breed of those dogs."
   ]
  },
  {
   "cell_type": "code",
   "execution_count": null,
   "id": "e5e99036",
   "metadata": {},
   "outputs": [],
   "source": []
  },
  {
   "cell_type": "markdown",
   "id": "19baf871",
   "metadata": {},
   "source": [
    "## 8. Fix the travels table so that the correct state is computed from the manual and the found fields. If manual is not missing, then it overrides what is stored in found."
   ]
  },
  {
   "cell_type": "code",
   "execution_count": null,
   "id": "5eaea716",
   "metadata": {},
   "outputs": [],
   "source": []
  },
  {
   "cell_type": "markdown",
   "id": "0db10e2f",
   "metadata": {},
   "source": [
    "## 9. For each state, compute the ratio between the number of travels and the population."
   ]
  },
  {
   "cell_type": "code",
   "execution_count": null,
   "id": "628efd48",
   "metadata": {},
   "outputs": [],
   "source": []
  },
  {
   "cell_type": "markdown",
   "id": "cee0a5ec",
   "metadata": {},
   "source": [
    "## 10. For each dog, compute the number of days from the posted day to the day of last access."
   ]
  },
  {
   "cell_type": "code",
   "execution_count": null,
   "id": "76c27e22",
   "metadata": {},
   "outputs": [],
   "source": []
  },
  {
   "cell_type": "markdown",
   "id": "9dec9040",
   "metadata": {},
   "source": [
    "## 11. Partition the dogs according to the number of weeks from the posted day to the day of last access."
   ]
  },
  {
   "cell_type": "code",
   "execution_count": null,
   "id": "4c2af0ec",
   "metadata": {},
   "outputs": [],
   "source": []
  },
  {
   "cell_type": "markdown",
   "id": "bd42d6f1",
   "metadata": {},
   "source": [
    "## 12. Find for duplicates in the dogs dataset. Two records are duplicates if they have (1) same breeds and sex, and (2) they share at least 90% of the words in the description field. Extra points if you find and implement a more refined for determining if two rows are duplicates."
   ]
  },
  {
   "cell_type": "code",
   "execution_count": null,
   "id": "69004352",
   "metadata": {},
   "outputs": [],
   "source": []
  }
 ],
 "metadata": {
  "kernelspec": {
   "display_name": "Python 3 (ipykernel)",
   "language": "python",
   "name": "python3"
  },
  "language_info": {
   "codemirror_mode": {
    "name": "ipython",
    "version": 3
   },
   "file_extension": ".py",
   "mimetype": "text/x-python",
   "name": "python",
   "nbconvert_exporter": "python",
   "pygments_lexer": "ipython3",
   "version": "3.9.12"
  }
 },
 "nbformat": 4,
 "nbformat_minor": 5
}
