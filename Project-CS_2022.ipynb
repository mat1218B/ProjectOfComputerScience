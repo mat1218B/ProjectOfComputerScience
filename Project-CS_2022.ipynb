{
 "cells": [
  {
   "cell_type": "markdown",
   "id": "9af81cfb",
   "metadata": {},
   "source": [
    "# Foundations of Computer Science - progetto 2022/23"
   ]
  },
  {
   "cell_type": "markdown",
   "id": "852af1f3",
   "metadata": {},
   "source": [
    "- Mattia Birti [897092] \n",
    "- Alberto Porrini [826306]\n",
    "- Gloria Longo [864579]"
   ]
  },
  {
   "cell_type": "markdown",
   "id": "f53dd412",
   "metadata": {},
   "source": [
    "You have to work on the Dogs adoptions dataset:\n",
    "*  [Dogs](https://github.com/mat1218B/ProjectOfComputerScience/blob/main/adoptions/dogs.csv)\n",
    "*  [Dog Travel](https://github.com/mat1218B/ProjectOfComputerScience/blob/main/adoptions/dogTravel.csv)\n",
    "*  [NST-EST2021-POP](https://github.com/mat1218B/ProjectOfComputerScience/blob/main/adoptions/NST-EST2021-POP.csv)\n",
    "\n",
    "### Notes\n",
    "\n",
    "1. It is mandatory to use GitHub for developing the project.\n",
    "1. The project must be a jupyter notebook.\n",
    "1. There is no restriction on the libraries that can be used, nor on the Python version.\n",
    "1. All questions on the project must be asked in a public channel on Zulip.\n",
    "1. At most 3 students can be in each group. You must create the groups by yourself.\n",
    "1. You do not have to send me the project before the discussion.s"
   ]
  },
  {
   "cell_type": "markdown",
   "id": "e98afc1a",
   "metadata": {},
   "source": [
    "## Libraries"
   ]
  },
  {
   "cell_type": "code",
   "execution_count": 1,
   "id": "02c6c7b8",
   "metadata": {},
   "outputs": [],
   "source": [
    "import pandas as pd\n",
    "from datetime import datetime\n",
    "from difflib import SequenceMatcher"
   ]
  },
  {
   "cell_type": "markdown",
   "id": "aca61992",
   "metadata": {},
   "source": [
    "### Import data from GitHub"
   ]
  },
  {
   "cell_type": "markdown",
   "id": "a04897af",
   "metadata": {},
   "source": [
    "#### Dogs.csv"
   ]
  },
  {
   "cell_type": "code",
   "execution_count": 2,
   "id": "fac780e3",
   "metadata": {},
   "outputs": [],
   "source": [
    "dogs = pd.read_csv(\"https://raw.githubusercontent.com/mat1218B/ProjectOfComputerScience/main/adoptions/dogs.csv\", sep=\",\", encoding='latin-1')"
   ]
  },
  {
   "cell_type": "code",
   "execution_count": null,
   "id": "4623bf4e",
   "metadata": {},
   "outputs": [],
   "source": [
    "dogs.shape"
   ]
  },
  {
   "cell_type": "code",
   "execution_count": null,
   "id": "028a543b",
   "metadata": {},
   "outputs": [],
   "source": [
    "dogs.head()"
   ]
  },
  {
   "cell_type": "markdown",
   "id": "d8392cf3",
   "metadata": {},
   "source": [
    "#### DogTravel.csv"
   ]
  },
  {
   "cell_type": "code",
   "execution_count": null,
   "id": "c5e16de5",
   "metadata": {},
   "outputs": [],
   "source": [
    "dogTravel = pd.read_csv(\"https://raw.githubusercontent.com/mat1218B/ProjectOfComputerScience/main/adoptions/dogTravel.csv\", sep=\",\", encoding='latin-1')"
   ]
  },
  {
   "cell_type": "code",
   "execution_count": null,
   "id": "96f00d8a",
   "metadata": {},
   "outputs": [],
   "source": [
    "dogTravel.shape"
   ]
  },
  {
   "cell_type": "code",
   "execution_count": null,
   "id": "10227a8a",
   "metadata": {},
   "outputs": [],
   "source": [
    "dogTravel.head()"
   ]
  },
  {
   "cell_type": "markdown",
   "id": "cd6243e0",
   "metadata": {},
   "source": [
    "#### NST-EST.csv"
   ]
  },
  {
   "cell_type": "code",
   "execution_count": null,
   "id": "f9868fdf",
   "metadata": {},
   "outputs": [],
   "source": [
    "nstest = pd.read_csv(\"https://raw.githubusercontent.com/mat1218B/ProjectOfComputerScience/main/adoptions/NST-EST2021-POP.csv\", header=None, sep=\",\", encoding='latin-1')"
   ]
  },
  {
   "cell_type": "code",
   "execution_count": null,
   "id": "cbd3d644",
   "metadata": {},
   "outputs": [],
   "source": [
    "nstest.shape"
   ]
  },
  {
   "cell_type": "code",
   "execution_count": null,
   "id": "9f111eb6",
   "metadata": {},
   "outputs": [],
   "source": [
    "nstest.head()"
   ]
  },
  {
   "cell_type": "markdown",
   "id": "500717f3",
   "metadata": {},
   "source": [
    "## 1. Extract all dogs with status that is not adoptable"
   ]
  },
  {
   "cell_type": "markdown",
   "id": "c84b5de4",
   "metadata": {},
   "source": [
    "Explore the dog's column names"
   ]
  },
  {
   "cell_type": "code",
   "execution_count": null,
   "id": "45498b93",
   "metadata": {},
   "outputs": [],
   "source": [
    "dogs.columns"
   ]
  },
  {
   "cell_type": "markdown",
   "id": "4941925c",
   "metadata": {},
   "source": [
    "Explore the first row"
   ]
  },
  {
   "cell_type": "code",
   "execution_count": null,
   "id": "2b1d9619",
   "metadata": {},
   "outputs": [],
   "source": [
    "dogs.iloc[0,:]"
   ]
  },
  {
   "cell_type": "markdown",
   "id": "3f7d2146",
   "metadata": {},
   "source": [
    "We can see that there are two variables (posted, accessed) that contain dates, let's check if they are in the right format"
   ]
  },
  {
   "cell_type": "code",
   "execution_count": null,
   "id": "63ea6429",
   "metadata": {},
   "outputs": [],
   "source": [
    "type(dogs.loc[0, 'posted'])\n",
    "type(dogs.loc[0, 'accessed'])"
   ]
  },
  {
   "cell_type": "markdown",
   "id": "14f00305",
   "metadata": {},
   "source": [
    "Since they are in string format, we convert them to date format"
   ]
  },
  {
   "cell_type": "code",
   "execution_count": null,
   "id": "1bea5bef",
   "metadata": {},
   "outputs": [],
   "source": [
    "#for i in range(len(dogs)):\n",
    "        #dogs.loc[i, 'posted']=datetime.strptime(dogs.loc[i,'posted'], \"%Y-%m-%dT%H:%M:%S+0000\")\n",
    "        #dogs.loc[i,'accessed']=datetime.strptime(dogs.loc[i,'accessed'], \"%Y-%m-%d\")"
   ]
  },
  {
   "cell_type": "markdown",
   "id": "e287db32",
   "metadata": {},
   "source": [
    "We can see that there are some variables that do not contain a date, let's see which ones"
   ]
  },
  {
   "cell_type": "code",
   "execution_count": null,
   "id": "ed24e1f4",
   "metadata": {},
   "outputs": [],
   "source": [
    "for i in range(len(dogs)):\n",
    "    if(len(dogs.loc[i,'posted'])!=24):\n",
    "        print(dogs.iloc[i,])"
   ]
  },
  {
   "cell_type": "markdown",
   "id": "a1676532",
   "metadata": {},
   "source": [
    "The problem with these rows is that they have not been split properly in cell 'name'. Let's solve the problem and transform the dates into datatime format"
   ]
  },
  {
   "cell_type": "code",
   "execution_count": null,
   "id": "e710aff9",
   "metadata": {},
   "outputs": [],
   "source": [
    "for i in range(len(dogs)):\n",
    "    if(len(dogs.loc[i,'posted'])==24):\n",
    "        dogs.loc[i, 'posted']=datetime.strptime(dogs.loc[i,'posted'], \"%Y-%m-%dT%H:%M:%S+0000\")\n",
    "        dogs.loc[i,'accessed']=datetime.strptime(dogs.loc[i,'accessed'], \"%Y-%m-%d\")\n",
    "    else :\n",
    "        j=26\n",
    "        l=(dogs.iloc[i,24]).split(' ',1)\n",
    "        prov=dogs.iloc[i,25]\n",
    "        dogs.iloc[i,25]=l[1]\n",
    "        dogs.iloc[i,24]=l[0]\n",
    "        while(j<34):\n",
    "            prov2=dogs.iloc[i,j]\n",
    "            dogs.iloc[i,j]=prov\n",
    "            prov=prov2\n",
    "            j=j+1\n",
    "        dogs.loc[i, 'posted']=datetime.strptime(dogs.loc[i,'posted'], \"%Y-%m-%dT%H:%M:%S+0000\")\n",
    "        dogs.loc[i,'accessed']=datetime.strptime(dogs.loc[i,'accessed'], \"%Y-%m-%d\")"
   ]
  },
  {
   "cell_type": "markdown",
   "id": "982ac98a",
   "metadata": {},
   "source": [
    "Now we can solve this task using a 'while' loop which scrolls through all the rows of the dataframe and stores only the identification code of the dogs that have a status other than adoptable"
   ]
  },
  {
   "cell_type": "code",
   "execution_count": null,
   "id": "cf1e9db1",
   "metadata": {},
   "outputs": [],
   "source": [
    "lista=[]\n",
    "i=0\n",
    "while(i<len(dogs)):\n",
    "    if (dogs.loc[i,'status']!='adoptable'):\n",
    "        lista.append(dogs.loc[i,'id'])\n",
    "    i=i+1\n",
    "lista"
   ]
  },
  {
   "cell_type": "markdown",
   "id": "e8c70a9c",
   "metadata": {},
   "source": [
    "## 2. For each (primary) breed, determine the number of dogs"
   ]
  },
  {
   "cell_type": "code",
   "execution_count": null,
   "id": "e90ea6af",
   "metadata": {},
   "outputs": [],
   "source": [
    "dogs.groupby('breed_primary').count()['id']"
   ]
  },
  {
   "cell_type": "markdown",
   "id": "9f479cf0",
   "metadata": {},
   "source": [
    "## 3. For each (primary) breed, determine the ratio between the number of dogs of Mixed Breed and those not of Mixed Breed. Hint: look at the secondary_breed."
   ]
  },
  {
   "cell_type": "markdown",
   "id": "b7811f79",
   "metadata": {},
   "source": [
    "Let's see all the primary breed with a groupBy:"
   ]
  },
  {
   "cell_type": "code",
   "execution_count": null,
   "id": "a0aea096",
   "metadata": {},
   "outputs": [],
   "source": [
    "nBreed = dogs.groupby('breed_primary').count()[['species','breed_secondary']]\n",
    "nBreed"
   ]
  },
  {
   "cell_type": "markdown",
   "id": "fa127f0e",
   "metadata": {},
   "source": [
    "As we can see we can use \"species\" as total number of individues for this species.\n",
    "Affenpischer are in total 17 dogs, 2 of those are mixed breed."
   ]
  },
  {
   "cell_type": "markdown",
   "id": "a5e7a4da",
   "metadata": {},
   "source": [
    "Rename colums"
   ]
  },
  {
   "cell_type": "code",
   "execution_count": null,
   "id": "5b8c076e",
   "metadata": {},
   "outputs": [],
   "source": [
    "nBreed = nBreed.rename( columns = {'species':'total', 'breed_secondary':'nSecondary'})\n",
    "nBreed"
   ]
  },
  {
   "cell_type": "markdown",
   "id": "0ab2d92f",
   "metadata": {},
   "source": [
    "We have to compute how many are primary breed:"
   ]
  },
  {
   "cell_type": "code",
   "execution_count": null,
   "id": "026ea727",
   "metadata": {},
   "outputs": [],
   "source": [
    "nBreed['nPrimary'] = nBreed['total'] - nBreed['nSecondary']\n",
    "nBreed"
   ]
  },
  {
   "cell_type": "markdown",
   "id": "fdc4e947",
   "metadata": {},
   "source": [
    "It's time to compute the ratio between Primary and Secondary Breed."
   ]
  },
  {
   "cell_type": "code",
   "execution_count": null,
   "id": "21239240",
   "metadata": {},
   "outputs": [],
   "source": [
    "nBreed['ratioBreed'] = nBreed['nPrimary'] / nBreed['nSecondary']\n",
    "nBreed"
   ]
  },
  {
   "cell_type": "markdown",
   "id": "6c182af3",
   "metadata": {},
   "source": [
    "As we can see, there are many 'inf' values. It is correct because for that breed there are not any secondary breed."
   ]
  },
  {
   "cell_type": "markdown",
   "id": "8f6e22b3",
   "metadata": {},
   "source": [
    "## 4. For each (primary) breed, determine the earliest and the latest posted timestamp."
   ]
  },
  {
   "cell_type": "markdown",
   "id": "da374518",
   "metadata": {},
   "source": [
    "We use the group by method to solve this task starting from the latest posted timestamp."
   ]
  },
  {
   "cell_type": "code",
   "execution_count": null,
   "id": "1ad51b58",
   "metadata": {},
   "outputs": [],
   "source": [
    "df_new = dogs[dogs.groupby('breed_primary')['posted'].transform('max') == dogs['posted']]\n",
    "df_new.loc[ :, ['breed_primary', 'posted']]"
   ]
  },
  {
   "cell_type": "code",
   "execution_count": null,
   "id": "1af7d24c",
   "metadata": {},
   "outputs": [],
   "source": [
    "df_new = dogs[dogs.groupby('breed_primary')['posted'].transform('min') == dogs['posted']]\n",
    "df_new.loc[ :, ['breed_primary', 'posted']]"
   ]
  },
  {
   "cell_type": "markdown",
   "id": "0fafaf8d",
   "metadata": {},
   "source": [
    "## 5. For each state, compute the sex imbalance, that is the difference between male and female dogs. In which state this imbalance is largest?"
   ]
  },
  {
   "cell_type": "markdown",
   "id": "e6994df9",
   "metadata": {},
   "source": [
    "we create a table with count of male dogs for each state (contanct_state) "
   ]
  },
  {
   "cell_type": "code",
   "execution_count": null,
   "id": "5b16b042",
   "metadata": {},
   "outputs": [],
   "source": [
    "dog_male=dogs[dogs['sex']=='Male']\n",
    "dog_male=dog_male.groupby(['contact_state'])[['sex']].count()\n",
    "dog_male.tail()"
   ]
  },
  {
   "cell_type": "markdown",
   "id": "f4a9b39f",
   "metadata": {},
   "source": [
    "we recreate the same table that we have done before with female dogs for each state"
   ]
  },
  {
   "cell_type": "code",
   "execution_count": null,
   "id": "d367dbe0",
   "metadata": {},
   "outputs": [],
   "source": [
    "dog_female=dogs[dogs['sex']=='Female']\n",
    "dog_female=dog_female.groupby(['contact_state'])[['sex']].count()\n",
    "dog_female.tail()"
   ]
  },
  {
   "cell_type": "markdown",
   "id": "72a08e6d",
   "metadata": {},
   "source": [
    "we create a new table call \"dog_sex\" thanks to merge between male dogs and female dogs on contact_state"
   ]
  },
  {
   "cell_type": "code",
   "execution_count": null,
   "id": "59904e41",
   "metadata": {},
   "outputs": [],
   "source": [
    "dog_sex=pd.merge(dog_male,dog_female,on=\"contact_state\")\n",
    "dog_sex.rename( columns = {'sex_x':'tot_male','sex_y':'tot_female'})\n",
    "dog_sex=dog_sex.rename( columns = {'sex_x':'tot_male','sex_y':'tot_female'})\n",
    "dog_sex.tail()"
   ]
  },
  {
   "cell_type": "markdown",
   "id": "5173d73f",
   "metadata": {},
   "source": [
    "we compute the imbalance like difference between male and female dogs and after we calculate the absolute value of the imbalance given that we consider only positive value of imbalance for each contact_state"
   ]
  },
  {
   "cell_type": "code",
   "execution_count": null,
   "id": "80614e1b",
   "metadata": {},
   "outputs": [],
   "source": [
    "dog_sex[\"imbalance\"]=dog_sex[\"tot_male\"]-dog_sex[\"tot_female\"]\n",
    "dog_sex[\"imbalance\"]=abs(dog_sex[\"imbalance\"])\n",
    "dog_sex.tail()"
   ]
  },
  {
   "cell_type": "markdown",
   "id": "e626bee8",
   "metadata": {},
   "source": [
    "we found the state with the largest imbalance"
   ]
  },
  {
   "cell_type": "code",
   "execution_count": null,
   "id": "4c45f1eb",
   "metadata": {},
   "outputs": [],
   "source": [
    "dog_sex[dog_sex[\"imbalance\"]==dog_sex[\"imbalance\"].max()]"
   ]
  },
  {
   "cell_type": "code",
   "execution_count": null,
   "id": "2e632481",
   "metadata": {},
   "outputs": [],
   "source": [
    "dog_sex[\"imbalance\"].nlargest(1)"
   ]
  },
  {
   "cell_type": "markdown",
   "id": "191c87c7",
   "metadata": {},
   "source": [
    "## 6. For each pair (age, size), determine the average duration of the stay and the average cost of stay."
   ]
  },
  {
   "cell_type": "markdown",
   "id": "cb709be2",
   "metadata": {},
   "source": [
    "Explore the dog's column names"
   ]
  },
  {
   "cell_type": "code",
   "execution_count": null,
   "id": "e434c6ec",
   "metadata": {},
   "outputs": [],
   "source": [
    "dogs.columns"
   ]
  },
  {
   "cell_type": "markdown",
   "id": "30ecce63",
   "metadata": {},
   "source": [
    "Compute the mean of the stay duration and stay cost for the pair AGE, SIZE;"
   ]
  },
  {
   "cell_type": "code",
   "execution_count": null,
   "id": "dc608de9",
   "metadata": {},
   "outputs": [],
   "source": [
    "AgeSize = dogs.groupby(['age', 'size'])[['stay_duration','stay_cost']].mean()\n",
    "AgeSize"
   ]
  },
  {
   "cell_type": "markdown",
   "id": "66f34567",
   "metadata": {},
   "source": [
    "## 7. Find the dogs involved in at least 3 travels. Also list the breed of those dogs."
   ]
  },
  {
   "cell_type": "markdown",
   "id": "eb899836",
   "metadata": {},
   "source": [
    "Let's start grouping the dataset by the variable id"
   ]
  },
  {
   "cell_type": "code",
   "execution_count": null,
   "id": "4b1cbd93",
   "metadata": {},
   "outputs": [],
   "source": [
    "count=dogTravel.groupby('id').count()"
   ]
  },
  {
   "cell_type": "markdown",
   "id": "7474f6fc",
   "metadata": {},
   "source": [
    "We reset the index"
   ]
  },
  {
   "cell_type": "code",
   "execution_count": null,
   "id": "3e417a00",
   "metadata": {},
   "outputs": [],
   "source": [
    "count.reset_index(inplace=True)"
   ]
  },
  {
   "cell_type": "markdown",
   "id": "89d007b6",
   "metadata": {},
   "source": [
    "Now we compute a list of only dogs that have made at least 2 trips"
   ]
  },
  {
   "cell_type": "code",
   "execution_count": null,
   "id": "d50f450e",
   "metadata": {},
   "outputs": [],
   "source": [
    "list_index=(count[count['index']>2])['id'].tolist()"
   ]
  },
  {
   "cell_type": "markdown",
   "id": "f6d67755",
   "metadata": {},
   "source": [
    "Finally we build a dictionary having as key the identification code of the dog that has made at least 2 trips, and as value its primary breed. \n",
    "To do this a for loop will be used which compares each identification code of the dog in the staring dataset with those contained in the list created above\n",
    "\n"
   ]
  },
  {
   "cell_type": "code",
   "execution_count": null,
   "id": "53070755",
   "metadata": {},
   "outputs": [],
   "source": [
    "diz={}\n",
    "for index in list_index:\n",
    "    for i in range(len(dogs)):\n",
    "        if (dogs.loc[i, 'id']==index):\n",
    "            diz[dogs.loc[i, 'id']]= dogs.loc[i, 'breed_primary']\n",
    "diz"
   ]
  },
  {
   "cell_type": "markdown",
   "id": "19baf871",
   "metadata": {},
   "source": [
    "## 8. Fix the travels table so that the correct state is computed from the manual and the found fields. If manual is not missing, then it overrides what is stored in found."
   ]
  },
  {
   "cell_type": "markdown",
   "id": "58972a0a",
   "metadata": {},
   "source": [
    "To resolve the question, we create two different tables, the first table is compose with only observation field manual full."
   ]
  },
  {
   "cell_type": "code",
   "execution_count": null,
   "id": "392f4e47",
   "metadata": {},
   "outputs": [],
   "source": [
    "manual_not_na=dogTravel[dogTravel['manual'].notna()]\n",
    "manual_not_na"
   ]
  },
  {
   "cell_type": "markdown",
   "id": "67c0f62f",
   "metadata": {},
   "source": [
    "in this table we create a new column (\"correct_state\") with the same values in manual (cause are the values that will be overrides in found column)"
   ]
  },
  {
   "cell_type": "code",
   "execution_count": null,
   "id": "850375e7",
   "metadata": {},
   "outputs": [],
   "source": [
    "manual_not_na[\"correct_state\"] = manual_not_na[\"manual\"]\n",
    "manual_not_na"
   ]
  },
  {
   "cell_type": "markdown",
   "id": "44c7a201",
   "metadata": {},
   "source": [
    "on second table, we subset only the observations with empty manual values"
   ]
  },
  {
   "cell_type": "code",
   "execution_count": null,
   "id": "2a182223",
   "metadata": {},
   "outputs": [],
   "source": [
    "manual_na=dogTravel[dogTravel['manual'].isna()]\n",
    "manual_na"
   ]
  },
  {
   "cell_type": "markdown",
   "id": "a67db6d6",
   "metadata": {},
   "source": [
    "in this table we create a new column (\"correct_state\") with the same values in found (cause are the values that will be not overrides)"
   ]
  },
  {
   "cell_type": "code",
   "execution_count": null,
   "id": "6cb6a2fd",
   "metadata": {},
   "outputs": [],
   "source": [
    "manual_na[\"correct_state\"] = manual_na[\"found\"]\n",
    "manual_na"
   ]
  },
  {
   "cell_type": "markdown",
   "id": "73e6bcc8",
   "metadata": {},
   "source": [
    "subsequantly we recreate a new df with the concatenate of the two tables that we had created before, and we order them with index sort"
   ]
  },
  {
   "cell_type": "code",
   "execution_count": null,
   "id": "7e15e3d7",
   "metadata": {},
   "outputs": [],
   "source": [
    "df=pd.concat([manual_na,manual_not_na])\n",
    "df=df.sort_index()\n",
    "df"
   ]
  },
  {
   "cell_type": "markdown",
   "id": "b66183e0",
   "metadata": {},
   "source": [
    "now we have got a column correct_state complete with the values overrides and not overrides, so we replace that values at the column found of dogTravel dataframe and we ending the point"
   ]
  },
  {
   "cell_type": "code",
   "execution_count": null,
   "id": "1567af28",
   "metadata": {},
   "outputs": [],
   "source": [
    "dogTravel[\"found\"]=df[\"correct_state\"]\n",
    "dogTravel"
   ]
  },
  {
   "cell_type": "markdown",
   "id": "9b2db82c",
   "metadata": {},
   "source": [
    "In the last result, we have got in found column the manual values only if they are not \"NaN\" "
   ]
  },
  {
   "cell_type": "markdown",
   "id": "0db10e2f",
   "metadata": {},
   "source": [
    "## 9. For each state, compute the ratio between the number of travels and the population."
   ]
  },
  {
   "cell_type": "code",
   "execution_count": null,
   "id": "2b929956",
   "metadata": {},
   "outputs": [],
   "source": [
    "import pycountry #have to install it (pip install pycountry)"
   ]
  },
  {
   "cell_type": "markdown",
   "id": "6949b27c",
   "metadata": {},
   "source": [
    "### First Dataset Analysis"
   ]
  },
  {
   "cell_type": "code",
   "execution_count": null,
   "id": "a33adadf",
   "metadata": {},
   "outputs": [],
   "source": [
    "dogTravel.shape #number of total travell done"
   ]
  },
  {
   "cell_type": "code",
   "execution_count": null,
   "id": "81949ea7",
   "metadata": {},
   "outputs": [],
   "source": [
    "dogTravel.groupby(['contact_state']).count().shape \n",
    "#number of countries that have made trips"
   ]
  },
  {
   "cell_type": "code",
   "execution_count": null,
   "id": "0e4e4731",
   "metadata": {},
   "outputs": [],
   "source": [
    "nstest.shape #number of country in csv population"
   ]
  },
  {
   "cell_type": "markdown",
   "id": "b2c0fe32",
   "metadata": {},
   "source": [
    "51 states, 45 states that have made trips, total trips 6149"
   ]
  },
  {
   "cell_type": "code",
   "execution_count": null,
   "id": "3c287474",
   "metadata": {},
   "outputs": [],
   "source": [
    "#change label\n",
    "nTravelForState = dogTravel.groupby(['contact_state']).count()[['index']].reset_index().rename(columns={'contact_state':'state', 'index':'nTravel'})\n",
    "nTravelForState.head()"
   ]
  },
  {
   "cell_type": "code",
   "execution_count": null,
   "id": "f65eaa71",
   "metadata": {},
   "outputs": [],
   "source": [
    "nTravelForState['nTravel'].sum() #sum is correct"
   ]
  },
  {
   "cell_type": "code",
   "execution_count": null,
   "id": "a6d91ad4",
   "metadata": {},
   "outputs": [],
   "source": [
    "nTravelForState.shape"
   ]
  },
  {
   "cell_type": "markdown",
   "id": "c70b59f8",
   "metadata": {},
   "source": [
    "### There is an error"
   ]
  },
  {
   "cell_type": "code",
   "execution_count": null,
   "id": "57aac80c",
   "metadata": {},
   "outputs": [],
   "source": [
    "dogTravel[dogTravel['contact_state'] == '17325']"
   ]
  },
  {
   "cell_type": "markdown",
   "id": "2f147635",
   "metadata": {},
   "source": [
    "The number refers to state of Pensylvania. It needs to be corrected"
   ]
  },
  {
   "cell_type": "code",
   "execution_count": null,
   "id": "f07386fb",
   "metadata": {},
   "outputs": [],
   "source": [
    "nTravelForState[nTravelForState['state']=='PA']"
   ]
  },
  {
   "cell_type": "code",
   "execution_count": null,
   "id": "f8022991",
   "metadata": {},
   "outputs": [],
   "source": [
    "#take the 2 values\n",
    "PAerr = nTravelForState[nTravelForState['state'] == '17325']['nTravel']\n",
    "PAcorr = nTravelForState[nTravelForState['state'] == 'PA']['nTravel']"
   ]
  },
  {
   "cell_type": "code",
   "execution_count": null,
   "id": "464a8cc4",
   "metadata": {},
   "outputs": [],
   "source": [
    "#delete the wrong row\n",
    "nTravelForState = nTravelForState.drop(nTravelForState.index[nTravelForState['state'] == '17325']).reset_index()"
   ]
  },
  {
   "cell_type": "code",
   "execution_count": null,
   "id": "a24ee1a4",
   "metadata": {},
   "outputs": [],
   "source": [
    "nTravelForState.head()"
   ]
  },
  {
   "cell_type": "code",
   "execution_count": null,
   "id": "9820a9da",
   "metadata": {},
   "outputs": [],
   "source": [
    "#Add the right value\n",
    "nTravelForState.loc[nTravelForState['state']=='PA', 'nTravel'] = sum(PAcorr, PAerr).values\n",
    "nTravelForState[nTravelForState['state'] == 'PA']"
   ]
  },
  {
   "cell_type": "markdown",
   "id": "770ac5a9",
   "metadata": {},
   "source": [
    "#### Country that have made trips become 43"
   ]
  },
  {
   "cell_type": "markdown",
   "id": "1ccf44b5",
   "metadata": {},
   "source": [
    "### Table State and Popolation"
   ]
  },
  {
   "cell_type": "code",
   "execution_count": null,
   "id": "1d2b4ed4",
   "metadata": {},
   "outputs": [],
   "source": [
    "nstest[1] = nstest[1].str.replace('.','')"
   ]
  },
  {
   "cell_type": "code",
   "execution_count": null,
   "id": "5e14a719",
   "metadata": {
    "scrolled": true
   },
   "outputs": [],
   "source": [
    "state = nstest.rename(columns = {0:'state', 1:'nPopulation'})\n",
    "state.head()"
   ]
  },
  {
   "cell_type": "markdown",
   "id": "fcb8021c",
   "metadata": {},
   "source": [
    "#### Add state code"
   ]
  },
  {
   "cell_type": "code",
   "execution_count": null,
   "id": "a545ad55",
   "metadata": {},
   "outputs": [],
   "source": [
    "def findCountryAlpha2 (country_name):\n",
    "    try:\n",
    "        sub = pycountry.subdivisions.lookup(country_name)\n",
    "        sample_str = sub.code\n",
    "        stateCode = sub.code[-2:]\n",
    "        return stateCode\n",
    "    except:\n",
    "        return (\"not founded!\")\n",
    "\n",
    "state['state_code'] = state.apply(lambda row: findCountryAlpha2(row.state) , axis = 1)\n",
    "state.head()"
   ]
  },
  {
   "cell_type": "markdown",
   "id": "44a736e9",
   "metadata": {},
   "source": [
    "### Still errors"
   ]
  },
  {
   "cell_type": "markdown",
   "id": "d6670408",
   "metadata": {},
   "source": [
    "#### MT"
   ]
  },
  {
   "cell_type": "code",
   "execution_count": null,
   "id": "36d3bfc8",
   "metadata": {},
   "outputs": [],
   "source": [
    "#Library pycountry has a code wrong for Montana state\n",
    "state[state['state']=='Montana']"
   ]
  },
  {
   "cell_type": "code",
   "execution_count": null,
   "id": "bb4c3bd9",
   "metadata": {},
   "outputs": [],
   "source": [
    "state.loc[state['state']=='Montana', 'state_code'] = 'MT'\n",
    "state[state['state']=='Montana']"
   ]
  },
  {
   "cell_type": "markdown",
   "id": "a5cd9192",
   "metadata": {},
   "source": [
    "#### MY"
   ]
  },
  {
   "cell_type": "code",
   "execution_count": null,
   "id": "bd4e1ec9",
   "metadata": {},
   "outputs": [],
   "source": [
    "# another error in library pycountry referred to Maryland code state\n",
    "state[state['state']=='Maryland']"
   ]
  },
  {
   "cell_type": "code",
   "execution_count": null,
   "id": "cd582489",
   "metadata": {},
   "outputs": [],
   "source": [
    "state.loc[state['state']=='Maryland', 'state_code'] = 'MD'\n",
    "state[state['state']=='Maryland']"
   ]
  },
  {
   "cell_type": "markdown",
   "id": "f647bc88",
   "metadata": {},
   "source": [
    "#### CSV nstest"
   ]
  },
  {
   "cell_type": "code",
   "execution_count": null,
   "id": "48a15b04",
   "metadata": {},
   "outputs": [],
   "source": [
    "#there are some state_code NB which are the same state that NJ\n",
    "nTravelForState[nTravelForState['state']=='NB']"
   ]
  },
  {
   "cell_type": "code",
   "execution_count": null,
   "id": "ec7c54c5",
   "metadata": {},
   "outputs": [],
   "source": [
    "nTravelForState[nTravelForState['state']=='NJ']"
   ]
  },
  {
   "cell_type": "code",
   "execution_count": null,
   "id": "8bcd3251",
   "metadata": {},
   "outputs": [],
   "source": [
    "NJerr = nTravelForState[nTravelForState['state'] == 'NB']['nTravel']\n",
    "NJcorr = nTravelForState[nTravelForState['state'] == 'NJ']['nTravel']"
   ]
  },
  {
   "cell_type": "code",
   "execution_count": null,
   "id": "919be192",
   "metadata": {},
   "outputs": [],
   "source": [
    "#delete the wrong row\n",
    "nTravelForState = nTravelForState.drop(nTravelForState.index[nTravelForState['state'] == 'NB']).reset_index()"
   ]
  },
  {
   "cell_type": "code",
   "execution_count": null,
   "id": "3e6ea3de",
   "metadata": {},
   "outputs": [],
   "source": [
    "#salvo il valore in NJ\n",
    "nTravelForState.loc[nTravelForState['state']=='NJ', 'nTravel'] = sum(NJcorr, NJerr).values\n",
    "nTravelForState[nTravelForState['state'] == 'NJ']"
   ]
  },
  {
   "cell_type": "markdown",
   "id": "41e61aa0",
   "metadata": {},
   "source": [
    "#### Now the number of country that have done trips are 43"
   ]
  },
  {
   "cell_type": "markdown",
   "id": "0a2e42da",
   "metadata": {},
   "source": [
    "### Merging time"
   ]
  },
  {
   "cell_type": "code",
   "execution_count": null,
   "id": "ae5c3511",
   "metadata": {},
   "outputs": [],
   "source": [
    "table_travel_for_state = pd.merge(state, nTravelForState, left_on='state_code', right_on='state')[['state_x', 'nPopulation', 'nTravel']]\n",
    "table_travel_for_state.head()"
   ]
  },
  {
   "cell_type": "code",
   "execution_count": null,
   "id": "eb87e903",
   "metadata": {},
   "outputs": [],
   "source": [
    "#check if sum is correct\n",
    "table_travel_for_state['nTravel'].sum()"
   ]
  },
  {
   "cell_type": "markdown",
   "id": "835cbb62",
   "metadata": {},
   "source": [
    "### Add ratio between the number of travels and the population"
   ]
  },
  {
   "cell_type": "code",
   "execution_count": null,
   "id": "593b94e8",
   "metadata": {},
   "outputs": [],
   "source": [
    "table_travel_for_state['nPopulation'] = table_travel_for_state['nPopulation'].apply(pd.to_numeric)"
   ]
  },
  {
   "cell_type": "code",
   "execution_count": null,
   "id": "6c75d92b",
   "metadata": {},
   "outputs": [],
   "source": [
    "table_travel_for_state['ratio_Travel_Population'] = table_travel_for_state['nPopulation'] / table_travel_for_state['nTravel']\n",
    "table_travel_for_state.head()"
   ]
  },
  {
   "cell_type": "markdown",
   "id": "cee0a5ec",
   "metadata": {},
   "source": [
    "## 10. For each dog, compute the number of days from the posted day to the day of last access."
   ]
  },
  {
   "cell_type": "markdown",
   "id": "e1ab6a6c",
   "metadata": {},
   "source": [
    "To solve this task the difference between the column 'posted' and the column 'accessed' will be calculated.\n",
    "The information obtained will be stored in a dictionary having the dog's identification code as the key and \n",
    "the days between the posted day and the last access as value.\n",
    "\n"
   ]
  },
  {
   "cell_type": "code",
   "execution_count": null,
   "id": "76c27e22",
   "metadata": {},
   "outputs": [],
   "source": [
    "diz={}\n",
    "for i in range(len(dogs)):\n",
    "    diz[dogs.loc[i,'id']]= -1*(dogs.loc[i, 'posted'] - dogs.loc[i, 'accessed']).days\n",
    "diz"
   ]
  },
  {
   "cell_type": "markdown",
   "id": "9dec9040",
   "metadata": {},
   "source": [
    "## 11. Partition the dogs according to the number of weeks from the posted day to the day of last access."
   ]
  },
  {
   "cell_type": "code",
   "execution_count": null,
   "id": "4c2af0ec",
   "metadata": {},
   "outputs": [],
   "source": []
  },
  {
   "cell_type": "markdown",
   "id": "bd42d6f1",
   "metadata": {},
   "source": [
    "## 12. Find for duplicates in the dogs dataset. Two records are duplicates if they have (1) same breeds and sex, and (2) they share at least 90% of the words in the description field. Extra points if you find and implement a more refined for determining if two rows are duplicates."
   ]
  },
  {
   "cell_type": "code",
   "execution_count": 3,
   "id": "00356259",
   "metadata": {},
   "outputs": [
    {
     "data": {
      "text/html": [
       "<div>\n",
       "<style scoped>\n",
       "    .dataframe tbody tr th:only-of-type {\n",
       "        vertical-align: middle;\n",
       "    }\n",
       "\n",
       "    .dataframe tbody tr th {\n",
       "        vertical-align: top;\n",
       "    }\n",
       "\n",
       "    .dataframe thead th {\n",
       "        text-align: right;\n",
       "    }\n",
       "</style>\n",
       "<table border=\"1\" class=\"dataframe\">\n",
       "  <thead>\n",
       "    <tr style=\"text-align: right;\">\n",
       "      <th></th>\n",
       "      <th>id</th>\n",
       "      <th>sex</th>\n",
       "      <th>breed_primary</th>\n",
       "      <th>description</th>\n",
       "    </tr>\n",
       "  </thead>\n",
       "  <tbody>\n",
       "    <tr>\n",
       "      <th>0</th>\n",
       "      <td>46042150</td>\n",
       "      <td>Male</td>\n",
       "      <td>American Staffordshire Terrier</td>\n",
       "      <td>Harley is not sure how he wound up at shelter ...</td>\n",
       "    </tr>\n",
       "    <tr>\n",
       "      <th>1</th>\n",
       "      <td>46042002</td>\n",
       "      <td>Male</td>\n",
       "      <td>Pit Bull Terrier</td>\n",
       "      <td>6 year old Biggie has lost his home and really...</td>\n",
       "    </tr>\n",
       "    <tr>\n",
       "      <th>2</th>\n",
       "      <td>46040898</td>\n",
       "      <td>Male</td>\n",
       "      <td>Shepherd</td>\n",
       "      <td>Approx 2 years old.\\n Did I catch your eye? I ...</td>\n",
       "    </tr>\n",
       "    <tr>\n",
       "      <th>3</th>\n",
       "      <td>46039877</td>\n",
       "      <td>Female</td>\n",
       "      <td>German Shepherd Dog</td>\n",
       "      <td>NaN</td>\n",
       "    </tr>\n",
       "    <tr>\n",
       "      <th>4</th>\n",
       "      <td>46039306</td>\n",
       "      <td>Male</td>\n",
       "      <td>Dachshund</td>\n",
       "      <td>Theo is a friendly dachshund mix who gets alon...</td>\n",
       "    </tr>\n",
       "    <tr>\n",
       "      <th>...</th>\n",
       "      <td>...</td>\n",
       "      <td>...</td>\n",
       "      <td>...</td>\n",
       "      <td>...</td>\n",
       "    </tr>\n",
       "    <tr>\n",
       "      <th>58175</th>\n",
       "      <td>44605893</td>\n",
       "      <td>Male</td>\n",
       "      <td>Border Collie</td>\n",
       "      <td>Due to the small size of our volunteer base, w...</td>\n",
       "    </tr>\n",
       "    <tr>\n",
       "      <th>58176</th>\n",
       "      <td>44457061</td>\n",
       "      <td>Female</td>\n",
       "      <td>Australian Shepherd</td>\n",
       "      <td>NaN</td>\n",
       "    </tr>\n",
       "    <tr>\n",
       "      <th>58177</th>\n",
       "      <td>42865848</td>\n",
       "      <td>Female</td>\n",
       "      <td>Border Collie</td>\n",
       "      <td>Due to the small size of our volunteer base, w...</td>\n",
       "    </tr>\n",
       "    <tr>\n",
       "      <th>58178</th>\n",
       "      <td>42734734</td>\n",
       "      <td>Male</td>\n",
       "      <td>Boxer</td>\n",
       "      <td>NaN</td>\n",
       "    </tr>\n",
       "    <tr>\n",
       "      <th>58179</th>\n",
       "      <td>42663515</td>\n",
       "      <td>Male</td>\n",
       "      <td>Labrador Retriever</td>\n",
       "      <td>NaN</td>\n",
       "    </tr>\n",
       "  </tbody>\n",
       "</table>\n",
       "<p>58180 rows × 4 columns</p>\n",
       "</div>"
      ],
      "text/plain": [
       "             id     sex                   breed_primary  \\\n",
       "0      46042150    Male  American Staffordshire Terrier   \n",
       "1      46042002    Male                Pit Bull Terrier   \n",
       "2      46040898    Male                        Shepherd   \n",
       "3      46039877  Female             German Shepherd Dog   \n",
       "4      46039306    Male                       Dachshund   \n",
       "...         ...     ...                             ...   \n",
       "58175  44605893    Male                   Border Collie   \n",
       "58176  44457061  Female             Australian Shepherd   \n",
       "58177  42865848  Female                   Border Collie   \n",
       "58178  42734734    Male                           Boxer   \n",
       "58179  42663515    Male              Labrador Retriever   \n",
       "\n",
       "                                             description  \n",
       "0      Harley is not sure how he wound up at shelter ...  \n",
       "1      6 year old Biggie has lost his home and really...  \n",
       "2      Approx 2 years old.\\n Did I catch your eye? I ...  \n",
       "3                                                    NaN  \n",
       "4      Theo is a friendly dachshund mix who gets alon...  \n",
       "...                                                  ...  \n",
       "58175  Due to the small size of our volunteer base, w...  \n",
       "58176                                                NaN  \n",
       "58177  Due to the small size of our volunteer base, w...  \n",
       "58178                                                NaN  \n",
       "58179                                                NaN  \n",
       "\n",
       "[58180 rows x 4 columns]"
      ]
     },
     "execution_count": 3,
     "metadata": {},
     "output_type": "execute_result"
    }
   ],
   "source": [
    "# 1) creo una tabella con tutti gli elementi che hanno uguale breeed & sex \n",
    "duplicate_table = dogs.iloc[:, [0,13,5,34]]\n",
    "duplicate_table"
   ]
  },
  {
   "cell_type": "code",
   "execution_count": 4,
   "id": "f2cae1e6",
   "metadata": {},
   "outputs": [],
   "source": [
    "#elimino tutte le righe che hanno NaN come descrizione perché non possono essere duplicate \n",
    "duplicate_table = duplicate_table[duplicate_table['description'].notna()]"
   ]
  },
  {
   "cell_type": "code",
   "execution_count": 5,
   "id": "3e10dcaa",
   "metadata": {},
   "outputs": [],
   "source": [
    "duplicate_female = duplicate_table[duplicate_table['sex'] == 'Female']\n",
    "duplicate_male = duplicate_table[duplicate_table['sex'] == 'Male']"
   ]
  },
  {
   "cell_type": "code",
   "execution_count": 6,
   "id": "49ea57d4",
   "metadata": {},
   "outputs": [],
   "source": [
    "#riordino le righe per breed-primary\n",
    "duplicate_female = duplicate_female.sort_values(by = 'breed_primary').reset_index()\n",
    "duplicate_male = duplicate_male.sort_values(by = 'breed_primary').reset_index()"
   ]
  },
  {
   "cell_type": "code",
   "execution_count": 7,
   "id": "3258af55",
   "metadata": {},
   "outputs": [],
   "source": [
    "#controllo tutti i duplicati anche \n",
    "def scannerDuplicate(tab):\n",
    "    duplicate = {}\n",
    "    for i in range(len(tab)): # per scorrere tutte le righe\n",
    "        breed1 = tab.iloc[i]['breed_primary']\n",
    "        desc1 = tab.iloc[i]['description']\n",
    "        index1 = tab.iloc[i]['index']\n",
    "        identi1 = tab.iloc[i]['id']\n",
    "\n",
    "        for j in range(i+1,len(tab)): # scorrere le righe interne alla razza\n",
    "            breed2 = tab.iloc[j]['breed_primary']\n",
    "            desc2 = tab.iloc[j]['description']\n",
    "            index2 = tab.iloc[j]['index']\n",
    "            identi2 = tab.iloc[j]['id']\n",
    "\n",
    "            if breed1 == breed2: #se uguale razza allora faccio il confronto\n",
    "                if SequenceMatcher(None, desc1, desc2).ratio() >= 0.9: #se supera il 90% allora sono cloni e salvo i valori\n",
    "                    duplicate[index1]= str(identi1) + ' duplicate'\n",
    "                    duplicate[index2]= str(identi2) +' duplicate'\n",
    "            else: #razza diversa fermo j e mando avanti i\n",
    "                break\n",
    "            \n",
    "            \n",
    "    return duplicate\n",
    "\n",
    "\n",
    "#1) ho provato a fermare il ciclo quando incontro un duplicato, sensibilmente più veloce ma salto duplicati\n",
    "#  1.1) if index1 not in duplicate2: -> prima del secondo for\n",
    "#  1.2) break -> finito if sentencematcher\n",
    "#2) ho provato a riordinare in base all'indice e non più alla razza, sembra funzionare e va nettamente più veloce\n"
   ]
  },
  {
   "cell_type": "code",
   "execution_count": null,
   "id": "46f83a25",
   "metadata": {},
   "outputs": [],
   "source": []
  },
  {
   "cell_type": "code",
   "execution_count": 20,
   "id": "d6f5b71b",
   "metadata": {},
   "outputs": [],
   "source": [
    "#index_ordered = duplicate_female.iloc[0:10000]\n",
    "#index_ordered = index_ordered.sort_values(by='index')\n",
    "#index_ordered"
   ]
  },
  {
   "cell_type": "code",
   "execution_count": 15,
   "id": "e0984ef9",
   "metadata": {},
   "outputs": [],
   "source": [
    "#res_index_ordered = scannerDuplicate(index_ordered)#velocissimo"
   ]
  },
  {
   "cell_type": "code",
   "execution_count": 16,
   "id": "8bd45019",
   "metadata": {},
   "outputs": [
    {
     "data": {
      "text/plain": [
       "780"
      ]
     },
     "execution_count": 16,
     "metadata": {},
     "output_type": "execute_result"
    }
   ],
   "source": [
    "#len(res_index_ordered)"
   ]
  },
  {
   "cell_type": "code",
   "execution_count": 22,
   "id": "ddc0624f",
   "metadata": {},
   "outputs": [
    {
     "data": {
      "text/plain": [
       "1781"
      ]
     },
     "execution_count": 22,
     "metadata": {},
     "output_type": "execute_result"
    }
   ],
   "source": [
    "#provo a farlo con la tabella female\n",
    "female = duplicate_female.sort_values(by='index')\n",
    "res_female = scannerDuplicate(female)#velocissimo\n",
    "len(res_female)"
   ]
  },
  {
   "cell_type": "code",
   "execution_count": 21,
   "id": "8ba0c221",
   "metadata": {},
   "outputs": [
    {
     "data": {
      "text/plain": [
       "1624"
      ]
     },
     "execution_count": 21,
     "metadata": {},
     "output_type": "execute_result"
    }
   ],
   "source": [
    "#provo a farlo con la tabella male\n",
    "male = duplicate_male.sort_values(by='index')\n",
    "res_male = scannerDuplicate(male)#velocissimo\n",
    "len(res_male)"
   ]
  },
  {
   "cell_type": "code",
   "execution_count": 23,
   "id": "d76bb952",
   "metadata": {},
   "outputs": [
    {
     "data": {
      "text/plain": [
       "3405"
      ]
     },
     "execution_count": 23,
     "metadata": {},
     "output_type": "execute_result"
    }
   ],
   "source": [
    "len(res_male) + len(res_female)"
   ]
  },
  {
   "cell_type": "code",
   "execution_count": 24,
   "id": "eb36c04a",
   "metadata": {},
   "outputs": [
    {
     "data": {
      "text/plain": [
       "{57: '46027977 duplicate',\n",
       " 59: '46027921 duplicate',\n",
       " 65: '46026600 duplicate',\n",
       " 66: '46026454 duplicate',\n",
       " 103: '46005633 duplicate',\n",
       " 105: '46005531 duplicate',\n",
       " 166: '45945119 duplicate',\n",
       " 167: '45945109 duplicate',\n",
       " 219: '45901986 duplicate',\n",
       " 220: '45901989 duplicate',\n",
       " 225: '45901996 duplicate',\n",
       " 459: '45087241 duplicate',\n",
       " 460: '45086913 duplicate',\n",
       " 675: '36765299 duplicate',\n",
       " 680: '36761472 duplicate',\n",
       " 677: '36763186 duplicate',\n",
       " 1123: '45924253 duplicate',\n",
       " 1124: '45924252 duplicate',\n",
       " 1165: '45418758 duplicate',\n",
       " 1166: '45418548 duplicate',\n",
       " 1281: '46028332 duplicate',\n",
       " 1282: '46028331 duplicate',\n",
       " 1372: '45944212 duplicate',\n",
       " 1374: '45942694 duplicate',\n",
       " 1401: '45879902 duplicate',\n",
       " 1404: '45879817 duplicate',\n",
       " 1607: '43965829 duplicate',\n",
       " 1619: '43690918 duplicate',\n",
       " 1637: '42585306 duplicate',\n",
       " 1638: '42585279 duplicate',\n",
       " 1654: '41413105 duplicate',\n",
       " 1655: '41413090 duplicate',\n",
       " 1945: '46020162 duplicate',\n",
       " 1947: '46019974 duplicate',\n",
       " 1949: '46019762 duplicate',\n",
       " 2032: '45989372 duplicate',\n",
       " 2033: '45989299 duplicate',\n",
       " 2038: '45989046 duplicate',\n",
       " 2039: '45989044 duplicate',\n",
       " 2063: '45983979 duplicate',\n",
       " 2064: '45983945 duplicate',\n",
       " 2066: '45983929 duplicate',\n",
       " 2164: '45903011 duplicate',\n",
       " 2165: '45903001 duplicate',\n",
       " 2178: '45897570 duplicate',\n",
       " 2179: '45897563 duplicate',\n",
       " 2259: '45837731 duplicate',\n",
       " 2260: '45837676 duplicate',\n",
       " 2261: '45837664 duplicate',\n",
       " 2280: '45795675 duplicate',\n",
       " 2281: '45795582 duplicate',\n",
       " 2375: '45624469 duplicate',\n",
       " 2376: '45624470 duplicate',\n",
       " 2392: '45596728 duplicate',\n",
       " 2396: '45583580 duplicate',\n",
       " 2638: '44569819 duplicate',\n",
       " 2639: '44569801 duplicate',\n",
       " 2849: '39364055 duplicate',\n",
       " 2850: '39363812 duplicate',\n",
       " 3071: '45858433 duplicate',\n",
       " 3073: '45858448 duplicate',\n",
       " 3685: '46038338 duplicate',\n",
       " 3686: '46038087 duplicate',\n",
       " 3694: '46037960 duplicate',\n",
       " 3699: '46037915 duplicate',\n",
       " 3701: '46037850 duplicate',\n",
       " 3795: '46026825 duplicate',\n",
       " 3796: '46026824 duplicate',\n",
       " 4170: '45933591 duplicate',\n",
       " 4172: '45933557 duplicate',\n",
       " 4273: '45893235 duplicate',\n",
       " 4274: '45893241 duplicate',\n",
       " 4291: '45882817 duplicate',\n",
       " 4292: '45882733 duplicate',\n",
       " 4554: '45726559 duplicate',\n",
       " 4555: '45725924 duplicate',\n",
       " 4745: '45457272 duplicate',\n",
       " 4746: '45457271 duplicate',\n",
       " 6195: '45867658 duplicate',\n",
       " 6196: '45867656 duplicate',\n",
       " 6198: '45867654 duplicate',\n",
       " 6199: '45867653 duplicate',\n",
       " 6225: '45838614 duplicate',\n",
       " 6226: '45838615 duplicate',\n",
       " 6274: '45820436 duplicate',\n",
       " 6277: '45820454 duplicate',\n",
       " 6292: '45797530 duplicate',\n",
       " 6293: '45797434 duplicate',\n",
       " 6415: '45511376 duplicate',\n",
       " 6416: '45511224 duplicate',\n",
       " 6449: '45322060 duplicate',\n",
       " 6450: '45322040 duplicate',\n",
       " 6709: '38101306 duplicate',\n",
       " 6710: '38101301 duplicate',\n",
       " 6711: '38101299 duplicate',\n",
       " 6818: '46041508 duplicate',\n",
       " 6819: '46041502 duplicate',\n",
       " 6840: '46039244 duplicate',\n",
       " 6842: '46039252 duplicate',\n",
       " 6844: '46039238 duplicate',\n",
       " 6940: '46029930 duplicate',\n",
       " 6943: '46029928 duplicate',\n",
       " 6948: '46029092 duplicate',\n",
       " 6950: '46029095 duplicate',\n",
       " 6951: '46029093 duplicate',\n",
       " 6967: '46025413 duplicate',\n",
       " 6970: '46025408 duplicate',\n",
       " 6968: '46025414 duplicate',\n",
       " 6969: '46025409 duplicate',\n",
       " 6998: '46018482 duplicate',\n",
       " 6999: '46018483 duplicate',\n",
       " 7002: '46018363 duplicate',\n",
       " 7005: '46018361 duplicate',\n",
       " 7003: '46018362 duplicate',\n",
       " 7004: '46018360 duplicate',\n",
       " 7006: '46018329 duplicate',\n",
       " 7008: '46018327 duplicate',\n",
       " 7007: '46018328 duplicate',\n",
       " 7009: '46018326 duplicate',\n",
       " 7012: '46018205 duplicate',\n",
       " 7013: '46018206 duplicate',\n",
       " 7015: '46018204 duplicate',\n",
       " 7017: '46018201 duplicate',\n",
       " 7020: '46018198 duplicate',\n",
       " 7021: '46018199 duplicate',\n",
       " 7033: '46015094 duplicate',\n",
       " 7034: '46015088 duplicate',\n",
       " 7090: '46008045 duplicate',\n",
       " 7091: '46008044 duplicate',\n",
       " 7159: '45980828 duplicate',\n",
       " 7161: '45980817 duplicate',\n",
       " 7163: '45980816 duplicate',\n",
       " 7179: '45978299 duplicate',\n",
       " 7180: '45978300 duplicate',\n",
       " 7182: '45978296 duplicate',\n",
       " 7185: '45978287 duplicate',\n",
       " 7186: '45978288 duplicate',\n",
       " 7346: '45924371 duplicate',\n",
       " 7347: '45924351 duplicate',\n",
       " 7360: '45917782 duplicate',\n",
       " 7363: '45917783 duplicate',\n",
       " 7364: '45917778 duplicate',\n",
       " 7366: '45917775 duplicate',\n",
       " 7421: '45896450 duplicate',\n",
       " 7424: '45896447 duplicate',\n",
       " 7432: '45896100 duplicate',\n",
       " 7433: '45896111 duplicate',\n",
       " 7480: '45871533 duplicate',\n",
       " 7482: '45871531 duplicate',\n",
       " 7517: '45854559 duplicate',\n",
       " 7518: '45854557 duplicate',\n",
       " 7530: '45847522 duplicate',\n",
       " 7531: '45847517 duplicate',\n",
       " 7605: '45802795 duplicate',\n",
       " 7606: '45802666 duplicate',\n",
       " 7636: '45787541 duplicate',\n",
       " 7637: '45787409 duplicate',\n",
       " 7640: '45784601 duplicate',\n",
       " 7641: '45784600 duplicate',\n",
       " 7750: '45688802 duplicate',\n",
       " 7751: '45688796 duplicate',\n",
       " 7819: '45600372 duplicate',\n",
       " 7820: '45600377 duplicate',\n",
       " 7821: '45600378 duplicate',\n",
       " 7822: '45600382 duplicate',\n",
       " 7828: '45592742 duplicate',\n",
       " 7829: '45592741 duplicate',\n",
       " 7894: '45459981 duplicate',\n",
       " 7895: '45459978 duplicate',\n",
       " 7957: '45332026 duplicate',\n",
       " 7959: '45329136 duplicate',\n",
       " 8002: '45255573 duplicate',\n",
       " 8003: '45252099 duplicate',\n",
       " 8007: '45251494 duplicate',\n",
       " 8008: '45251496 duplicate',\n",
       " 8146: '44908008 duplicate',\n",
       " 8147: '44907983 duplicate',\n",
       " 8256: '44518435 duplicate',\n",
       " 8257: '44517341 duplicate',\n",
       " 8264: '44496212 duplicate',\n",
       " 8266: '44496203 duplicate',\n",
       " 8278: '44464897 duplicate',\n",
       " 8279: '44464896 duplicate',\n",
       " 8342: '44057993 duplicate',\n",
       " 8343: '44056359 duplicate',\n",
       " 8355: '43956068 duplicate',\n",
       " 8358: '43956071 duplicate',\n",
       " 8412: '43032075 duplicate',\n",
       " 8413: '43032076 duplicate',\n",
       " 8432: '42568685 duplicate',\n",
       " 8433: '42566644 duplicate',\n",
       " 8454: '42296292 duplicate',\n",
       " 8455: '42296294 duplicate',\n",
       " 8523: '40542625 duplicate',\n",
       " 8524: '40541775 duplicate',\n",
       " 8540: '38426542 duplicate',\n",
       " 8541: '38426540 duplicate',\n",
       " 8634: '46038097 duplicate',\n",
       " 8635: '46038089 duplicate',\n",
       " 8686: '46033606 duplicate',\n",
       " 8688: '46033538 duplicate',\n",
       " 8693: '46033360 duplicate',\n",
       " 8695: '46033075 duplicate',\n",
       " 8826: '46025086 duplicate',\n",
       " 8827: '46025022 duplicate',\n",
       " 8851: '46023642 duplicate',\n",
       " 8852: '46023606 duplicate',\n",
       " 8860: '46023037 duplicate',\n",
       " 8861: '46023018 duplicate',\n",
       " 8870: '46022599 duplicate',\n",
       " 8876: '46022597 duplicate',\n",
       " 8896: '46021361 duplicate',\n",
       " 8897: '46021331 duplicate',\n",
       " 8898: '46021276 duplicate',\n",
       " 9017: '46015658 duplicate',\n",
       " 9019: '46015636 duplicate',\n",
       " 9038: '46015279 duplicate',\n",
       " 9041: '46015269 duplicate',\n",
       " 9156: '46005791 duplicate',\n",
       " 9157: '46005780 duplicate',\n",
       " 9161: '46005672 duplicate',\n",
       " 9162: '46005639 duplicate',\n",
       " 9164: '46005564 duplicate',\n",
       " 9166: '46005542 duplicate',\n",
       " 9172: '46005473 duplicate',\n",
       " 9173: '46005456 duplicate',\n",
       " 9176: '46005439 duplicate',\n",
       " 9191: '46005089 duplicate',\n",
       " 9193: '46005050 duplicate',\n",
       " 9206: '46004601 duplicate',\n",
       " 9207: '46004597 duplicate',\n",
       " 9209: '46004600 duplicate',\n",
       " 9210: '46004438 duplicate',\n",
       " 9211: '46004437 duplicate',\n",
       " 9224: '45991019 duplicate',\n",
       " 9225: '45990985 duplicate',\n",
       " 9259: '45988385 duplicate',\n",
       " 9261: '45988193 duplicate',\n",
       " 9267: '45988216 duplicate',\n",
       " 9268: '45988200 duplicate',\n",
       " 9299: '45986895 duplicate',\n",
       " 9300: '45986889 duplicate',\n",
       " 9321: '45985897 duplicate',\n",
       " 9322: '45985898 duplicate',\n",
       " 9341: '45985256 duplicate',\n",
       " 9343: '45985252 duplicate',\n",
       " 9345: '45985232 duplicate',\n",
       " 9347: '45985219 duplicate',\n",
       " 9359: '45984979 duplicate',\n",
       " 9360: '45984971 duplicate',\n",
       " 9361: '45984972 duplicate',\n",
       " 9362: '45984973 duplicate',\n",
       " 9364: '45984975 duplicate',\n",
       " 9382: '45984103 duplicate',\n",
       " 9383: '45984100 duplicate',\n",
       " 9388: '45984035 duplicate',\n",
       " 9389: '45984034 duplicate',\n",
       " 9390: '45984031 duplicate',\n",
       " 9392: '45983996 duplicate',\n",
       " 9391: '45984028 duplicate',\n",
       " 9398: '45983636 duplicate',\n",
       " 9399: '45983635 duplicate',\n",
       " 9402: '45983558 duplicate',\n",
       " 9403: '45983544 duplicate',\n",
       " 9405: '45983527 duplicate',\n",
       " 9520: '45976719 duplicate',\n",
       " 9521: '45976679 duplicate',\n",
       " 9583: '45971160 duplicate',\n",
       " 9585: '45971159 duplicate',\n",
       " 9630: '45967615 duplicate',\n",
       " 9631: '45967590 duplicate',\n",
       " 9632: '45967548 duplicate',\n",
       " 9636: '45967528 duplicate',\n",
       " 9639: '45967500 duplicate',\n",
       " 9640: '45967489 duplicate',\n",
       " 9643: '45967458 duplicate',\n",
       " 9684: '45964140 duplicate',\n",
       " 9685: '45964112 duplicate',\n",
       " 9687: '45964099 duplicate',\n",
       " 9689: '45964055 duplicate',\n",
       " 9690: '45964047 duplicate',\n",
       " 9731: '45959967 duplicate',\n",
       " 9732: '45959963 duplicate',\n",
       " 9733: '45959919 duplicate',\n",
       " 9771: '45956454 duplicate',\n",
       " 9773: '45956440 duplicate',\n",
       " 9776: '45956415 duplicate',\n",
       " 9778: '45956106 duplicate',\n",
       " 9822: '45951254 duplicate',\n",
       " 9825: '45951107 duplicate',\n",
       " 9834: '45950419 duplicate',\n",
       " 9836: '45950403 duplicate',\n",
       " 9897: '45945428 duplicate',\n",
       " 9899: '45945427 duplicate',\n",
       " 9907: '45944286 duplicate',\n",
       " 9908: '45944106 duplicate',\n",
       " 9912: '45944047 duplicate',\n",
       " 9913: '45944031 duplicate',\n",
       " 9914: '45944021 duplicate',\n",
       " 9926: '45943136 duplicate',\n",
       " 9928: '45943137 duplicate',\n",
       " 9958: '45939885 duplicate',\n",
       " 9959: '45939880 duplicate',\n",
       " 10035: '45934672 duplicate',\n",
       " 10036: '45934653 duplicate',\n",
       " 10075: '45930109 duplicate',\n",
       " 10077: '45930077 duplicate',\n",
       " 10087: '45928685 duplicate',\n",
       " 10088: '45928666 duplicate',\n",
       " 10124: '45923586 duplicate',\n",
       " 10125: '45923565 duplicate',\n",
       " 10126: '45923567 duplicate',\n",
       " 10127: '45923542 duplicate',\n",
       " 10135: '45923413 duplicate',\n",
       " 10137: '45923305 duplicate',\n",
       " 10146: '45923013 duplicate',\n",
       " 10147: '45923000 duplicate',\n",
       " 10156: '45922452 duplicate',\n",
       " 10161: '45922354 duplicate',\n",
       " 10180: '45921408 duplicate',\n",
       " 10181: '45921407 duplicate',\n",
       " 10214: '45915002 duplicate',\n",
       " 10217: '45914797 duplicate',\n",
       " 10218: '45914787 duplicate',\n",
       " 10224: '45913177 duplicate',\n",
       " 10303: '45906745 duplicate',\n",
       " 10306: '45906445 duplicate',\n",
       " 10307: '45906397 duplicate',\n",
       " 10319: '45905659 duplicate',\n",
       " 10320: '45905644 duplicate',\n",
       " 10381: '45898199 duplicate',\n",
       " 10382: '45898200 duplicate',\n",
       " 10393: '45896129 duplicate',\n",
       " 10394: '45896122 duplicate',\n",
       " 10431: '45888998 duplicate',\n",
       " 10433: '45888773 duplicate',\n",
       " 10456: '45882639 duplicate',\n",
       " 10457: '45882608 duplicate',\n",
       " 10458: '45882591 duplicate',\n",
       " 10462: '45882544 duplicate',\n",
       " 10464: '45882220 duplicate',\n",
       " 10488: '45878915 duplicate',\n",
       " 10489: '45878711 duplicate',\n",
       " 10490: '45878753 duplicate',\n",
       " 10491: '45878721 duplicate',\n",
       " 10492: '45878680 duplicate',\n",
       " 10576: '45867611 duplicate',\n",
       " 10577: '45867595 duplicate',\n",
       " 10598: '45865687 duplicate',\n",
       " 10599: '45865683 duplicate',\n",
       " 10600: '45865484 duplicate',\n",
       " 10611: '45861568 duplicate',\n",
       " 10612: '45861567 duplicate',\n",
       " 10650: '45855417 duplicate',\n",
       " 10652: '45855358 duplicate',\n",
       " 10653: '45855343 duplicate',\n",
       " 10671: '45852897 duplicate',\n",
       " 10674: '45852568 duplicate',\n",
       " 10789: '45842891 duplicate',\n",
       " 10790: '45842728 duplicate',\n",
       " 10833: '45838716 duplicate',\n",
       " 10834: '45838709 duplicate',\n",
       " 10835: '45838715 duplicate',\n",
       " 10836: '45838710 duplicate',\n",
       " 10839: '45838401 duplicate',\n",
       " 10841: '45838222 duplicate',\n",
       " 10847: '45838138 duplicate',\n",
       " 10848: '45838111 duplicate',\n",
       " 10851: '45837947 duplicate',\n",
       " 10852: '45837927 duplicate',\n",
       " 10861: '45837618 duplicate',\n",
       " 10862: '45837615 duplicate',\n",
       " 10908: '45830495 duplicate',\n",
       " 10909: '45830492 duplicate',\n",
       " 10927: '45826001 duplicate',\n",
       " 10928: '45825991 duplicate',\n",
       " 11043: '45791197 duplicate',\n",
       " 11045: '45790938 duplicate',\n",
       " 11111: '45773921 duplicate',\n",
       " 11112: '45773919 duplicate',\n",
       " 11117: '45771445 duplicate',\n",
       " 11118: '45771438 duplicate',\n",
       " 11119: '45771403 duplicate',\n",
       " 11125: '45770057 duplicate',\n",
       " 11126: '45770042 duplicate',\n",
       " 11127: '45770038 duplicate',\n",
       " 11128: '45770026 duplicate',\n",
       " 11168: '45759589 duplicate',\n",
       " 11169: '45759569 duplicate',\n",
       " 11170: '45759539 duplicate',\n",
       " 11252: '45738887 duplicate',\n",
       " 11256: '45738874 duplicate',\n",
       " 11257: '45738885 duplicate',\n",
       " 11280: '45734056 duplicate',\n",
       " 11282: '45733881 duplicate',\n",
       " 11283: '45733878 duplicate',\n",
       " 11367: '45711640 duplicate',\n",
       " 11368: '45711609 duplicate',\n",
       " 11369: '45711587 duplicate',\n",
       " 11370: '45711576 duplicate',\n",
       " 11397: '45705154 duplicate',\n",
       " 11398: '45705153 duplicate',\n",
       " 11446: '45687676 duplicate',\n",
       " 11447: '45687669 duplicate',\n",
       " 11450: '45686349 duplicate',\n",
       " 11452: '45686085 duplicate',\n",
       " 11575: '45655810 duplicate',\n",
       " 11576: '45655637 duplicate',\n",
       " 11627: '45630281 duplicate',\n",
       " 11628: '45630276 duplicate',\n",
       " 11629: '45630135 duplicate',\n",
       " 11631: '45629697 duplicate',\n",
       " 11632: '45629667 duplicate',\n",
       " 11710: '45607744 duplicate',\n",
       " 11711: '45607741 duplicate',\n",
       " 11883: '45561923 duplicate',\n",
       " 11884: '45561887 duplicate',\n",
       " 11903: '45555725 duplicate',\n",
       " 11904: '45555726 duplicate',\n",
       " 11997: '45509606 duplicate',\n",
       " 11998: '45509469 duplicate',\n",
       " 12016: '45505339 duplicate',\n",
       " 12018: '45505302 duplicate',\n",
       " 12053: '45491605 duplicate',\n",
       " 12054: '45491578 duplicate',\n",
       " 12245: '45399428 duplicate',\n",
       " 12246: '45399429 duplicate',\n",
       " 12256: '45398355 duplicate',\n",
       " 12257: '45398347 duplicate',\n",
       " 12352: '45364284 duplicate',\n",
       " 12354: '45364286 duplicate',\n",
       " 12488: '45295066 duplicate',\n",
       " 12489: '45295035 duplicate',\n",
       " 12490: '45295002 duplicate',\n",
       " 12518: '45277947 duplicate',\n",
       " 12519: '45277900 duplicate',\n",
       " 12685: '45194166 duplicate',\n",
       " 12686: '45194066 duplicate',\n",
       " 13193: '44812892 duplicate',\n",
       " 13197: '44812872 duplicate',\n",
       " 13758: '44174656 duplicate',\n",
       " 13759: '44174649 duplicate',\n",
       " 13957: '43819633 duplicate',\n",
       " 13958: '43819613 duplicate',\n",
       " 13964: '43812426 duplicate',\n",
       " 13965: '43812427 duplicate',\n",
       " 14632: '41303812 duplicate',\n",
       " 14633: '41303385 duplicate',\n",
       " 14634: '41269949 duplicate',\n",
       " 14635: '41269910 duplicate',\n",
       " 14636: '41269817 duplicate',\n",
       " 14637: '41269774 duplicate',\n",
       " 14638: '41269674 duplicate',\n",
       " 14639: '41269632 duplicate',\n",
       " 14692: '41010932 duplicate',\n",
       " 14693: '41010864 duplicate',\n",
       " 14700: '40989938 duplicate',\n",
       " 14701: '40989871 duplicate',\n",
       " 14917: '38414495 duplicate',\n",
       " 14918: '38413572 duplicate',\n",
       " 14987: '37539135 duplicate',\n",
       " 14988: '37539122 duplicate',\n",
       " 14990: '37502900 duplicate',\n",
       " 14991: '37502898 duplicate',\n",
       " 14992: '37502869 duplicate',\n",
       " 14993: '37464392 duplicate',\n",
       " 14998: '37409581 duplicate',\n",
       " 14999: '37409549 duplicate',\n",
       " 15018: '37182020 duplicate',\n",
       " 15019: '37181985 duplicate',\n",
       " 15118: '34946538 duplicate',\n",
       " 15119: '34945742 duplicate',\n",
       " 15133: '34538956 duplicate',\n",
       " 15134: '34538877 duplicate',\n",
       " 15170: '33694649 duplicate',\n",
       " 15171: '33694642 duplicate',\n",
       " 15239: '30526042 duplicate',\n",
       " 15240: '30526029 duplicate',\n",
       " 15314: '46043099 duplicate',\n",
       " 15315: '46042618 duplicate',\n",
       " 15319: '46042587 duplicate',\n",
       " 15320: '46042569 duplicate',\n",
       " 15362: '46038340 duplicate',\n",
       " 15363: '46038304 duplicate',\n",
       " 15364: '46038279 duplicate',\n",
       " 15365: '46038273 duplicate',\n",
       " 15402: '46034962 duplicate',\n",
       " 15404: '46034897 duplicate',\n",
       " 15421: '46034352 duplicate',\n",
       " 15423: '46034335 duplicate',\n",
       " 15426: '46034253 duplicate',\n",
       " 15427: '46034255 duplicate',\n",
       " 15428: '46034254 duplicate',\n",
       " 15435: '46033599 duplicate',\n",
       " 15436: '46033572 duplicate',\n",
       " 15438: '46033504 duplicate',\n",
       " 15439: '46033505 duplicate',\n",
       " 15443: '46033116 duplicate',\n",
       " 15445: '46033117 duplicate',\n",
       " 15494: '45979050 duplicate',\n",
       " 15495: '45979075 duplicate',\n",
       " 15500: '46026336 duplicate',\n",
       " 15501: '46026337 duplicate',\n",
       " 15590: '46016307 duplicate',\n",
       " 15591: '46016306 duplicate',\n",
       " 15592: '46016305 duplicate',\n",
       " 15652: '46012119 duplicate',\n",
       " 15655: '46011473 duplicate',\n",
       " 15717: '46005811 duplicate',\n",
       " 15718: '46005812 duplicate',\n",
       " 15719: '46005814 duplicate',\n",
       " 15722: '46005817 duplicate',\n",
       " 15723: '46005818 duplicate',\n",
       " 15761: '45990842 duplicate',\n",
       " 15762: '45990836 duplicate',\n",
       " 15763: '45990813 duplicate',\n",
       " 15774: '45990335 duplicate',\n",
       " 15775: '45990334 duplicate',\n",
       " 15886: '45983028 duplicate',\n",
       " 15887: '45983027 duplicate',\n",
       " 15888: '45983026 duplicate',\n",
       " 16016: '45968485 duplicate',\n",
       " 16017: '45968373 duplicate',\n",
       " 16113: '45954990 duplicate',\n",
       " 16115: '45954989 duplicate',\n",
       " 16116: '45954993 duplicate',\n",
       " 16117: '45954994 duplicate',\n",
       " 16120: '45954341 duplicate',\n",
       " 16121: '45954144 duplicate',\n",
       " 16132: '45952886 duplicate',\n",
       " 16134: '45952692 duplicate',\n",
       " 16135: '45952694 duplicate',\n",
       " 16140: '45952305 duplicate',\n",
       " 16141: '45952306 duplicate',\n",
       " 16194: '45945879 duplicate',\n",
       " 16195: '45945877 duplicate',\n",
       " 16199: '45945020 duplicate',\n",
       " 16200: '45945013 duplicate',\n",
       " 16215: '45942794 duplicate',\n",
       " 16218: '45942792 duplicate',\n",
       " 16274: '45933284 duplicate',\n",
       " 16276: '45933054 duplicate',\n",
       " 16298: '45931207 duplicate',\n",
       " 16299: '45931204 duplicate',\n",
       " 16300: '45931203 duplicate',\n",
       " 16328: '45927193 duplicate',\n",
       " 16330: '45927031 duplicate',\n",
       " 16332: '45926679 duplicate',\n",
       " 16352: '45923129 duplicate',\n",
       " 16353: '45923095 duplicate',\n",
       " 16354: '45923079 duplicate',\n",
       " 16355: '45923029 duplicate',\n",
       " 16363: '45922477 duplicate',\n",
       " 16364: '45922308 duplicate',\n",
       " 16406: '45912862 duplicate',\n",
       " 16407: '45912847 duplicate',\n",
       " 16412: '45912673 duplicate',\n",
       " 16413: '45912675 duplicate',\n",
       " 16428: '45911286 duplicate',\n",
       " 16429: '45911204 duplicate',\n",
       " 16442: '45909743 duplicate',\n",
       " 16443: '45909744 duplicate',\n",
       " 16462: '45907356 duplicate',\n",
       " 16463: '45907358 duplicate',\n",
       " 16468: '45906427 duplicate',\n",
       " 16470: '45906402 duplicate',\n",
       " 16494: '45901451 duplicate',\n",
       " 16495: '45901432 duplicate',\n",
       " 16500: '45899030 duplicate',\n",
       " 16504: '45898990 duplicate',\n",
       " 16540: '45891405 duplicate',\n",
       " 16541: '45891399 duplicate',\n",
       " 16542: '45891259 duplicate',\n",
       " 16543: '45891143 duplicate',\n",
       " 16544: '45890930 duplicate',\n",
       " 16545: '45890929 duplicate',\n",
       " 16596: '45876581 duplicate',\n",
       " 16597: '45876420 duplicate',\n",
       " 16616: '45872589 duplicate',\n",
       " 16617: '45872590 duplicate',\n",
       " 16619: '45872538 duplicate',\n",
       " 16620: '45872539 duplicate',\n",
       " 16627: '45870449 duplicate',\n",
       " 16628: '45870447 duplicate',\n",
       " 16642: '45868214 duplicate',\n",
       " 16644: '45868153 duplicate',\n",
       " 16652: '45866542 duplicate',\n",
       " 16653: '45866543 duplicate',\n",
       " 16701: '45856113 duplicate',\n",
       " 16702: '45856064 duplicate',\n",
       " 16706: '45855767 duplicate',\n",
       " 16707: '45855638 duplicate',\n",
       " 16731: '45850659 duplicate',\n",
       " 16732: '45850645 duplicate',\n",
       " 16754: '45847413 duplicate',\n",
       " 16757: '45847273 duplicate',\n",
       " 16897: '45831358 duplicate',\n",
       " 16898: '45831428 duplicate',\n",
       " 16900: '45831328 duplicate',\n",
       " 16901: '45831421 duplicate',\n",
       " 16985: '45795614 duplicate',\n",
       " 16986: '45795550 duplicate',\n",
       " 17085: '45766362 duplicate',\n",
       " 17088: '45766287 duplicate',\n",
       " 17112: '45763681 duplicate',\n",
       " 17113: '45763680 duplicate',\n",
       " 17114: '45763677 duplicate',\n",
       " 17115: '45763678 duplicate',\n",
       " 17116: '45763676 duplicate',\n",
       " 17145: '45758811 duplicate',\n",
       " 17146: '45758759 duplicate',\n",
       " 17149: '45758379 duplicate',\n",
       " 17151: '45758366 duplicate',\n",
       " 17210: '45738087 duplicate',\n",
       " 17211: '45322313 duplicate',\n",
       " 17263: '45722174 duplicate',\n",
       " 17265: '45722173 duplicate',\n",
       " 17371: '45671695 duplicate',\n",
       " 17372: '45671661 duplicate',\n",
       " 17388: '45667646 duplicate',\n",
       " 17389: '45667631 duplicate',\n",
       " 17438: '45644489 duplicate',\n",
       " 17439: '45644490 duplicate',\n",
       " 17476: '45628311 duplicate',\n",
       " 17477: '45628234 duplicate',\n",
       " 17508: '45610056 duplicate',\n",
       " 17511: '45610053 duplicate',\n",
       " 17528: '45601608 duplicate',\n",
       " 17529: '45601590 duplicate',\n",
       " 17751: '45493656 duplicate',\n",
       " 17754: '45493654 duplicate',\n",
       " 17835: '45414888 duplicate',\n",
       " 17836: '45414886 duplicate',\n",
       " 17849: '45408005 duplicate',\n",
       " 17850: '45408006 duplicate',\n",
       " 17885: '45384804 duplicate',\n",
       " 17888: '45384763 duplicate',\n",
       " 18033: '45288316 duplicate',\n",
       " 18034: '45288313 duplicate',\n",
       " 18793: '44416588 duplicate',\n",
       " 18794: '44416544 duplicate',\n",
       " 18811: '44404139 duplicate',\n",
       " 18812: '44404138 duplicate',\n",
       " 18874: '44284665 duplicate',\n",
       " 18875: '44284614 duplicate',\n",
       " 18892: '44260240 duplicate',\n",
       " 18893: '44260194 duplicate',\n",
       " 18920: '44214934 duplicate',\n",
       " 18921: '44214918 duplicate',\n",
       " 18959: '44119989 duplicate',\n",
       " 18962: '44119988 duplicate',\n",
       " 19778: '35603428 duplicate',\n",
       " 19779: '35603082 duplicate',\n",
       " 19797: '35106172 duplicate',\n",
       " 19798: '35106169 duplicate',\n",
       " 19986: '46041816 duplicate',\n",
       " 19987: '46041795 duplicate',\n",
       " 20097: '46026138 duplicate',\n",
       " 20099: '46026108 duplicate',\n",
       " 20102: '46025770 duplicate',\n",
       " 20135: '46020625 duplicate',\n",
       " 20136: '46020624 duplicate',\n",
       " 20137: '46020627 duplicate',\n",
       " 20163: '46017525 duplicate',\n",
       " 20164: '46017524 duplicate',\n",
       " 20185: '46012808 duplicate',\n",
       " 20186: '46012783 duplicate',\n",
       " 20187: '46012581 duplicate',\n",
       " 20267: '45989256 duplicate',\n",
       " 20269: '45989233 duplicate',\n",
       " 20299: '45986935 duplicate',\n",
       " 20300: '45986905 duplicate',\n",
       " 20301: '45986809 duplicate',\n",
       " 20303: '45986684 duplicate',\n",
       " 20304: '45986541 duplicate',\n",
       " 20305: '45986507 duplicate',\n",
       " 20306: '45986498 duplicate',\n",
       " 20307: '45986489 duplicate',\n",
       " 20308: '45986469 duplicate',\n",
       " 20310: '45986433 duplicate',\n",
       " 20312: '45986379 duplicate',\n",
       " 20313: '45986367 duplicate',\n",
       " 20314: '45986335 duplicate',\n",
       " 20315: '45986230 duplicate',\n",
       " 20332: '45983265 duplicate',\n",
       " 20333: '45983256 duplicate',\n",
       " 20334: '45983250 duplicate',\n",
       " 20335: '45983198 duplicate',\n",
       " 20361: '45979100 duplicate',\n",
       " 20363: '45979096 duplicate',\n",
       " 20376: '45975858 duplicate',\n",
       " 20377: '45975848 duplicate',\n",
       " 20378: '45975825 duplicate',\n",
       " 20402: '45970929 duplicate',\n",
       " 20404: '45970927 duplicate',\n",
       " 20413: '45968505 duplicate',\n",
       " 20414: '45968481 duplicate',\n",
       " 20496: '45946390 duplicate',\n",
       " 20497: '45946352 duplicate',\n",
       " 20541: '45934301 duplicate',\n",
       " 20542: '45934294 duplicate',\n",
       " 20543: '45934291 duplicate',\n",
       " 20544: '45934255 duplicate',\n",
       " 20546: '45934113 duplicate',\n",
       " 20577: '45925978 duplicate',\n",
       " 20578: '45925981 duplicate',\n",
       " 20579: '45925980 duplicate',\n",
       " 20580: '45925975 duplicate',\n",
       " 20581: '45925979 duplicate',\n",
       " 20582: '45925974 duplicate',\n",
       " 20583: '45925982 duplicate',\n",
       " 20584: '45925976 duplicate',\n",
       " 20600: '45924277 duplicate',\n",
       " 20601: '45924279 duplicate',\n",
       " 20612: '45923673 duplicate',\n",
       " 20613: '45923671 duplicate',\n",
       " 20640: '45917081 duplicate',\n",
       " 20641: '45917080 duplicate',\n",
       " 20643: '45917079 duplicate',\n",
       " 20644: '45917077 duplicate',\n",
       " 20755: '45884712 duplicate',\n",
       " 20756: '45884710 duplicate',\n",
       " 20760: '45882664 duplicate',\n",
       " 20761: '45882645 duplicate',\n",
       " 20845: '45852591 duplicate',\n",
       " 20846: '45852550 duplicate',\n",
       " 20876: '45842982 duplicate',\n",
       " 20877: '45842937 duplicate',\n",
       " 20947: '45795577 duplicate',\n",
       " 20948: '45795249 duplicate',\n",
       " 20951: '45794951 duplicate',\n",
       " 20952: '45794952 duplicate',\n",
       " 21014: '45769182 duplicate',\n",
       " 21015: '45769146 duplicate',\n",
       " 21059: '45740931 duplicate',\n",
       " 21060: '45740903 duplicate',\n",
       " 21061: '45740727 duplicate',\n",
       " 21068: '45737777 duplicate',\n",
       " 21069: '45737778 duplicate',\n",
       " 21181: '45649105 duplicate',\n",
       " 21182: '45649085 duplicate',\n",
       " 21228: '45596342 duplicate',\n",
       " 21232: '45583450 duplicate',\n",
       " 21607: '45000849 duplicate',\n",
       " 21609: '45000848 duplicate',\n",
       " 21774: '44552167 duplicate',\n",
       " 21776: '44552144 duplicate',\n",
       " 21777: '44552134 duplicate',\n",
       " 21836: '44386496 duplicate',\n",
       " 21837: '44386456 duplicate',\n",
       " 22126: '42473250 duplicate',\n",
       " 22127: '42473187 duplicate',\n",
       " 22311: '34418563 duplicate',\n",
       " 22312: '34418553 duplicate',\n",
       " 22371: '46041156 duplicate',\n",
       " 22372: '46041157 duplicate',\n",
       " 22508: '46026750 duplicate',\n",
       " 22509: '46026749 duplicate',\n",
       " 22510: '46026748 duplicate',\n",
       " 22574: '46020302 duplicate',\n",
       " 22575: '46020233 duplicate',\n",
       " 22623: '46012321 duplicate',\n",
       " 22625: '46012297 duplicate',\n",
       " 22627: '46012274 duplicate',\n",
       " 22629: '46012179 duplicate',\n",
       " 22662: '46008136 duplicate',\n",
       " 22663: '46008143 duplicate',\n",
       " 22686: '46002010 duplicate',\n",
       " 22687: '46000668 duplicate',\n",
       " 22700: '45988967 duplicate',\n",
       " 22701: '45988965 duplicate',\n",
       " 22778: '45976186 duplicate',\n",
       " 22779: '45975463 duplicate',\n",
       " 22874: '45960301 duplicate',\n",
       " 22875: '45960295 duplicate',\n",
       " 22950: '45946697 duplicate',\n",
       " 22951: '45946687 duplicate',\n",
       " 22952: '45946644 duplicate',\n",
       " 23011: '45932076 duplicate',\n",
       " 23012: '45932054 duplicate',\n",
       " 23013: '45931853 duplicate',\n",
       " 23104: '45899187 duplicate',\n",
       " 23105: '45899167 duplicate',\n",
       " 23113: '45899035 duplicate',\n",
       " 23114: '45899027 duplicate',\n",
       " 23184: '45875821 duplicate',\n",
       " 23185: '45875741 duplicate',\n",
       " 23214: '45862141 duplicate',\n",
       " 23215: '45862119 duplicate',\n",
       " 23216: '45862106 duplicate',\n",
       " 23235: '45855325 duplicate',\n",
       " 23236: '45855081 duplicate',\n",
       " 23240: '45853230 duplicate',\n",
       " 23241: '45853224 duplicate',\n",
       " 23256: '45852155 duplicate',\n",
       " 23257: '45852154 duplicate',\n",
       " 23261: '45851284 duplicate',\n",
       " 23263: '45851222 duplicate',\n",
       " 23295: '45835529 duplicate',\n",
       " 23298: '45835468 duplicate',\n",
       " 23334: '45823144 duplicate',\n",
       " 23335: '45823146 duplicate',\n",
       " 23342: '45823022 duplicate',\n",
       " 23344: '45823044 duplicate',\n",
       " 23431: '45770723 duplicate',\n",
       " 23432: '45770708 duplicate',\n",
       " 23506: '45728787 duplicate',\n",
       " 23507: '45728757 duplicate',\n",
       " 23606: '45677567 duplicate',\n",
       " 23607: '45677559 duplicate',\n",
       " 23649: '45633172 duplicate',\n",
       " 23651: '45633140 duplicate',\n",
       " 23689: '45604425 duplicate',\n",
       " 23692: '45604302 duplicate',\n",
       " 23693: '45604291 duplicate',\n",
       " 24050: '45356527 duplicate',\n",
       " 24051: '45356530 duplicate',\n",
       " 24106: '45286475 duplicate',\n",
       " 24107: '45286450 duplicate',\n",
       " 24108: '45286414 duplicate',\n",
       " 24109: '45286370 duplicate',\n",
       " 24110: '45286302 duplicate',\n",
       " 24303: '44967350 duplicate',\n",
       " 24304: '44967174 duplicate',\n",
       " 24335: '44880406 duplicate',\n",
       " 24337: '44880250 duplicate',\n",
       " 24361: '44827992 duplicate',\n",
       " 24362: '44827987 duplicate',\n",
       " 24401: '44742288 duplicate',\n",
       " 24402: '44742234 duplicate',\n",
       " 24407: '44735092 duplicate',\n",
       " 24408: '44735089 duplicate',\n",
       " 24409: '44735087 duplicate',\n",
       " 24410: '44735080 duplicate',\n",
       " 24411: '44735074 duplicate',\n",
       " 25034: '46040536 duplicate',\n",
       " 25035: '46040535 duplicate',\n",
       " 25086: '46034283 duplicate',\n",
       " 25087: '46034284 duplicate',\n",
       " 25091: '46033435 duplicate',\n",
       " 25092: '46033437 duplicate',\n",
       " 25122: '46030632 duplicate',\n",
       " 25123: '46030501 duplicate',\n",
       " 25127: '46030174 duplicate',\n",
       " 25129: '46030172 duplicate',\n",
       " 25229: '46019265 duplicate',\n",
       " 25230: '46019238 duplicate',\n",
       " 25231: '46019188 duplicate',\n",
       " 25232: '46019176 duplicate',\n",
       " 25233: '46019158 duplicate',\n",
       " 25234: '46019132 duplicate',\n",
       " 25235: '46019086 duplicate',\n",
       " 25276: '46015571 duplicate',\n",
       " 25277: '46015574 duplicate',\n",
       " 25278: '46015573 duplicate',\n",
       " 25279: '46015572 duplicate',\n",
       " 25295: '46014044 duplicate',\n",
       " 25296: '46014042 duplicate',\n",
       " 25297: '46014043 duplicate',\n",
       " 25342: '46005471 duplicate',\n",
       " 25343: '46005450 duplicate',\n",
       " 25486: '45970931 duplicate',\n",
       " 25487: '45970920 duplicate',\n",
       " 25489: '45970905 duplicate',\n",
       " 25490: '45970881 duplicate',\n",
       " 25529: '45962008 duplicate',\n",
       " 25537: '45961749 duplicate',\n",
       " 25538: '45961647 duplicate',\n",
       " 25540: '45961565 duplicate',\n",
       " 25669: '45925680 duplicate',\n",
       " 25670: '45925681 duplicate',\n",
       " 25714: '45911644 duplicate',\n",
       " 25715: '45911642 duplicate',\n",
       " 25723: '45908093 duplicate',\n",
       " 25724: '45907998 duplicate',\n",
       " 25748: '45904049 duplicate',\n",
       " 25750: '45904001 duplicate',\n",
       " 25919: '45856302 duplicate',\n",
       " 25920: '45856300 duplicate',\n",
       " 25921: '45856301 duplicate',\n",
       " 25951: '45846275 duplicate',\n",
       " 25952: '45846276 duplicate',\n",
       " 25954: '45846278 duplicate',\n",
       " 25955: '45846280 duplicate',\n",
       " 26135: '45812551 duplicate',\n",
       " 26137: '45812554 duplicate',\n",
       " 26139: '45812560 duplicate',\n",
       " 26140: '45812562 duplicate',\n",
       " 26141: '45812564 duplicate',\n",
       " 26142: '45812565 duplicate',\n",
       " 26143: '45812566 duplicate',\n",
       " 26144: '45812567 duplicate',\n",
       " 26145: '45812568 duplicate',\n",
       " 26146: '45812569 duplicate',\n",
       " 26221: '45801788 duplicate',\n",
       " 26222: '45801796 duplicate',\n",
       " 26330: '45758069 duplicate',\n",
       " 26331: '45758013 duplicate',\n",
       " 26393: '45728192 duplicate',\n",
       " 26394: '45728144 duplicate',\n",
       " 26471: '45698038 duplicate',\n",
       " 26472: '45698019 duplicate',\n",
       " 27190: '45240021 duplicate',\n",
       " 27191: '45240002 duplicate',\n",
       " 27431: '44921271 duplicate',\n",
       " 27433: '44921272 duplicate',\n",
       " 27984: '42638341 duplicate',\n",
       " 27985: '42638342 duplicate',\n",
       " 28556: '45980057 duplicate',\n",
       " 28557: '45980053 duplicate',\n",
       " 28558: '45980051 duplicate',\n",
       " 28666: '45842134 duplicate',\n",
       " 28667: '45842132 duplicate',\n",
       " 28668: '45842130 duplicate',\n",
       " 28669: '45842126 duplicate',\n",
       " 28670: '45842122 duplicate',\n",
       " 28671: '45842117 duplicate',\n",
       " 28682: '45823941 duplicate',\n",
       " 28683: '45823945 duplicate',\n",
       " 28703: '45773218 duplicate',\n",
       " 28704: '45773208 duplicate',\n",
       " 28705: '45773182 duplicate',\n",
       " 29077: '46026675 duplicate',\n",
       " 29079: '46026646 duplicate',\n",
       " 29081: '46024390 duplicate',\n",
       " 29082: '46024240 duplicate',\n",
       " 29104: '46020038 duplicate',\n",
       " 29105: '46020033 duplicate',\n",
       " 29166: '45977433 duplicate',\n",
       " 29167: '45977414 duplicate',\n",
       " 29348: '45802278 duplicate',\n",
       " 29349: '45802282 duplicate',\n",
       " 29477: '45632587 duplicate',\n",
       " 29478: '45632572 duplicate',\n",
       " 29748: '44914912 duplicate',\n",
       " 29749: '44914837 duplicate',\n",
       " 30194: '46039727 duplicate',\n",
       " 30195: '46039735 duplicate',\n",
       " 30198: '46039731 duplicate',\n",
       " 30294: '46030643 duplicate',\n",
       " 30297: '46030390 duplicate',\n",
       " 30314: '46024245 duplicate',\n",
       " 30320: '46024193 duplicate',\n",
       " 30321: '46024170 duplicate',\n",
       " 30322: '46023969 duplicate',\n",
       " 30323: '46023943 duplicate',\n",
       " 30441: '45978261 duplicate',\n",
       " 30442: '45978259 duplicate',\n",
       " 30475: '45961683 duplicate',\n",
       " 30476: '45961705 duplicate',\n",
       " 30512: '45955721 duplicate',\n",
       " 30516: '45955678 duplicate',\n",
       " 30566: '45940519 duplicate',\n",
       " 30567: '45940501 duplicate',\n",
       " 30568: '45940266 duplicate',\n",
       " 30569: '45940220 duplicate',\n",
       " 30578: '45936705 duplicate',\n",
       " 30580: '45936707 duplicate',\n",
       " 30581: '45936708 duplicate',\n",
       " 30582: '45936709 duplicate',\n",
       " 30585: '45936703 duplicate',\n",
       " 30607: '45929339 duplicate',\n",
       " 30608: '45929324 duplicate',\n",
       " 30619: '45925361 duplicate',\n",
       " 30621: '45925363 duplicate',\n",
       " 30624: '45925367 duplicate',\n",
       " 30633: '45920762 duplicate',\n",
       " 30634: '45920746 duplicate',\n",
       " 30639: '45920688 duplicate',\n",
       " 30640: '45920684 duplicate',\n",
       " 30641: '45920674 duplicate',\n",
       " 30642: '45920667 duplicate',\n",
       " 30643: '45920659 duplicate',\n",
       " 30644: '45920627 duplicate',\n",
       " 30645: '45920604 duplicate',\n",
       " 30697: '45874470 duplicate',\n",
       " 30698: '45874469 duplicate',\n",
       " 30745: '45848822 duplicate',\n",
       " 30746: '45848816 duplicate',\n",
       " 30747: '45848810 duplicate',\n",
       " 30785: '45833668 duplicate',\n",
       " 30786: '45833613 duplicate',\n",
       " 30791: '45833153 duplicate',\n",
       " 30792: '45833155 duplicate',\n",
       " 30793: '45833156 duplicate',\n",
       " 30872: '45808227 duplicate',\n",
       " 30877: '45808135 duplicate',\n",
       " 30989: '45765784 duplicate',\n",
       " 30990: '45765785 duplicate',\n",
       " 30992: '45765706 duplicate',\n",
       " 30993: '45765705 duplicate',\n",
       " 31098: '45656222 duplicate',\n",
       " 31099: '45656208 duplicate',\n",
       " 31100: '45656176 duplicate',\n",
       " 31101: '45656137 duplicate',\n",
       " 31436: '45058834 duplicate',\n",
       " 31438: '45058609 duplicate',\n",
       " 32096: '46038211 duplicate',\n",
       " 32097: '46038200 duplicate',\n",
       " 32202: '45914910 duplicate',\n",
       " ...}"
      ]
     },
     "execution_count": 24,
     "metadata": {},
     "output_type": "execute_result"
    }
   ],
   "source": [
    "res_female"
   ]
  },
  {
   "cell_type": "code",
   "execution_count": null,
   "id": "a5fb417b",
   "metadata": {},
   "outputs": [],
   "source": []
  },
  {
   "cell_type": "code",
   "execution_count": null,
   "id": "3f06eaec",
   "metadata": {},
   "outputs": [],
   "source": []
  },
  {
   "cell_type": "code",
   "execution_count": null,
   "id": "5334028a",
   "metadata": {},
   "outputs": [],
   "source": []
  },
  {
   "cell_type": "code",
   "execution_count": null,
   "id": "c5bdafc9",
   "metadata": {},
   "outputs": [],
   "source": []
  },
  {
   "cell_type": "code",
   "execution_count": null,
   "id": "078967a5",
   "metadata": {},
   "outputs": [],
   "source": []
  }
 ],
 "metadata": {
  "kernelspec": {
   "display_name": "Python 3 (ipykernel)",
   "language": "python",
   "name": "python3"
  },
  "language_info": {
   "codemirror_mode": {
    "name": "ipython",
    "version": 3
   },
   "file_extension": ".py",
   "mimetype": "text/x-python",
   "name": "python",
   "nbconvert_exporter": "python",
   "pygments_lexer": "ipython3",
   "version": "3.11.0"
  }
 },
 "nbformat": 4,
 "nbformat_minor": 5
}
