{
 "cells": [
  {
   "cell_type": "markdown",
   "id": "9af81cfb",
   "metadata": {},
   "source": [
    "# Foundations of Computer Science - progetto 2022/23"
   ]
  },
  {
   "cell_type": "markdown",
   "id": "852af1f3",
   "metadata": {},
   "source": [
    "- Mattia Birti [897092] \n",
    "- Alberto Porrini [826306]\n",
    "- Gloria Longo [864579]"
   ]
  },
  {
   "cell_type": "markdown",
   "id": "f53dd412",
   "metadata": {},
   "source": [
    "You have to work on the Dogs adoptions dataset:\n",
    "*  [Dogs](https://github.com/mat1218B/ProjectOfComputerScience/blob/main/adoptions/dogs.csv)\n",
    "*  [Dog Travel](https://github.com/mat1218B/ProjectOfComputerScience/blob/main/adoptions/dogTravel.csv)\n",
    "*  [NST-EST2021-POP](https://github.com/mat1218B/ProjectOfComputerScience/blob/main/adoptions/NST-EST2021-POP.csv)\n",
    "\n",
    "### Notes\n",
    "\n",
    "1. It is mandatory to use GitHub for developing the project.\n",
    "1. The project must be a jupyter notebook.\n",
    "1. There is no restriction on the libraries that can be used, nor on the Python version.\n",
    "1. All questions on the project must be asked in a public channel on Zulip.\n",
    "1. At most 3 students can be in each group. You must create the groups by yourself.\n",
    "1. You do not have to send me the project before the discussion.s"
   ]
  },
  {
   "cell_type": "markdown",
   "id": "e98afc1a",
   "metadata": {},
   "source": [
    "## Libraries"
   ]
  },
  {
   "cell_type": "code",
   "execution_count": 1,
   "id": "02c6c7b8",
   "metadata": {},
   "outputs": [],
   "source": [
    "import pandas as pd\n",
    "from datetime import datetime\n",
    "from difflib import SequenceMatcher"
   ]
  },
  {
   "cell_type": "markdown",
   "id": "aca61992",
   "metadata": {},
   "source": [
    "### Import data from GitHub"
   ]
  },
  {
   "cell_type": "markdown",
   "id": "a04897af",
   "metadata": {},
   "source": [
    "#### Dogs.csv"
   ]
  },
  {
   "cell_type": "code",
   "execution_count": 2,
   "id": "fac780e3",
   "metadata": {},
   "outputs": [],
   "source": [
    "dogs = pd.read_csv(\"https://raw.githubusercontent.com/mat1218B/ProjectOfComputerScience/main/adoptions/dogs.csv\", sep=\",\", encoding='latin-1')"
   ]
  },
  {
   "cell_type": "code",
   "execution_count": null,
   "id": "4623bf4e",
   "metadata": {},
   "outputs": [],
   "source": [
    "dogs.shape"
   ]
  },
  {
   "cell_type": "code",
   "execution_count": null,
   "id": "028a543b",
   "metadata": {},
   "outputs": [],
   "source": [
    "dogs.head()"
   ]
  },
  {
   "cell_type": "markdown",
   "id": "d8392cf3",
   "metadata": {},
   "source": [
    "#### DogTravel.csv"
   ]
  },
  {
   "cell_type": "code",
   "execution_count": null,
   "id": "c5e16de5",
   "metadata": {},
   "outputs": [],
   "source": [
    "dogTravel = pd.read_csv(\"https://raw.githubusercontent.com/mat1218B/ProjectOfComputerScience/main/adoptions/dogTravel.csv\", sep=\",\", encoding='latin-1')"
   ]
  },
  {
   "cell_type": "code",
   "execution_count": null,
   "id": "96f00d8a",
   "metadata": {},
   "outputs": [],
   "source": [
    "dogTravel.shape"
   ]
  },
  {
   "cell_type": "code",
   "execution_count": null,
   "id": "10227a8a",
   "metadata": {},
   "outputs": [],
   "source": [
    "dogTravel.head()"
   ]
  },
  {
   "cell_type": "markdown",
   "id": "cd6243e0",
   "metadata": {},
   "source": [
    "#### NST-EST.csv"
   ]
  },
  {
   "cell_type": "code",
   "execution_count": null,
   "id": "f9868fdf",
   "metadata": {},
   "outputs": [],
   "source": [
    "nstest = pd.read_csv(\"https://raw.githubusercontent.com/mat1218B/ProjectOfComputerScience/main/adoptions/NST-EST2021-POP.csv\", header=None, sep=\",\", encoding='latin-1')"
   ]
  },
  {
   "cell_type": "code",
   "execution_count": null,
   "id": "cbd3d644",
   "metadata": {},
   "outputs": [],
   "source": [
    "nstest.shape"
   ]
  },
  {
   "cell_type": "code",
   "execution_count": null,
   "id": "9f111eb6",
   "metadata": {},
   "outputs": [],
   "source": [
    "nstest.head()"
   ]
  },
  {
   "cell_type": "markdown",
   "id": "500717f3",
   "metadata": {},
   "source": [
    "## 1. Extract all dogs with status that is not adoptable"
   ]
  },
  {
   "cell_type": "markdown",
   "id": "c84b5de4",
   "metadata": {},
   "source": [
    "Explore the dog's column names"
   ]
  },
  {
   "cell_type": "code",
   "execution_count": null,
   "id": "45498b93",
   "metadata": {},
   "outputs": [],
   "source": [
    "dogs.columns"
   ]
  },
  {
   "cell_type": "markdown",
   "id": "4941925c",
   "metadata": {},
   "source": [
    "Explore the first row"
   ]
  },
  {
   "cell_type": "code",
   "execution_count": null,
   "id": "2b1d9619",
   "metadata": {},
   "outputs": [],
   "source": [
    "dogs.iloc[0,:]"
   ]
  },
  {
   "cell_type": "markdown",
   "id": "3f7d2146",
   "metadata": {},
   "source": [
    "We can see that there are two variables (posted, accessed) that contain dates, let's check if they are in the right format"
   ]
  },
  {
   "cell_type": "code",
   "execution_count": null,
   "id": "63ea6429",
   "metadata": {},
   "outputs": [],
   "source": [
    "type(dogs.loc[0, 'posted'])\n",
    "type(dogs.loc[0, 'accessed'])"
   ]
  },
  {
   "cell_type": "markdown",
   "id": "14f00305",
   "metadata": {},
   "source": [
    "Since they are in string format, we convert them to date format"
   ]
  },
  {
   "cell_type": "code",
   "execution_count": null,
   "id": "1bea5bef",
   "metadata": {},
   "outputs": [],
   "source": [
    "#for i in range(len(dogs)):\n",
    "        #dogs.loc[i, 'posted']=datetime.strptime(dogs.loc[i,'posted'], \"%Y-%m-%dT%H:%M:%S+0000\")\n",
    "        #dogs.loc[i,'accessed']=datetime.strptime(dogs.loc[i,'accessed'], \"%Y-%m-%d\")"
   ]
  },
  {
   "cell_type": "markdown",
   "id": "e287db32",
   "metadata": {},
   "source": [
    "We can see that there are some variables that do not contain a date, let's see which ones"
   ]
  },
  {
   "cell_type": "code",
   "execution_count": null,
   "id": "ed24e1f4",
   "metadata": {},
   "outputs": [],
   "source": [
    "for i in range(len(dogs)):\n",
    "    if(len(dogs.loc[i,'posted'])!=24):\n",
    "        print(dogs.iloc[i,])"
   ]
  },
  {
   "cell_type": "markdown",
   "id": "a1676532",
   "metadata": {},
   "source": [
    "The problem with these rows is that they have not been split properly in cell 'name'. Let's solve the problem and transform the dates into datatime format"
   ]
  },
  {
   "cell_type": "code",
   "execution_count": null,
   "id": "e710aff9",
   "metadata": {},
   "outputs": [],
   "source": [
    "for i in range(len(dogs)):\n",
    "    if(len(dogs.loc[i,'posted'])==24):\n",
    "        dogs.loc[i, 'posted']=datetime.strptime(dogs.loc[i,'posted'], \"%Y-%m-%dT%H:%M:%S+0000\")\n",
    "        dogs.loc[i,'accessed']=datetime.strptime(dogs.loc[i,'accessed'], \"%Y-%m-%d\")\n",
    "    else :\n",
    "        j=26\n",
    "        l=(dogs.iloc[i,24]).split(' ',1)\n",
    "        prov=dogs.iloc[i,25]\n",
    "        dogs.iloc[i,25]=l[1]\n",
    "        dogs.iloc[i,24]=l[0]\n",
    "        while(j<34):\n",
    "            prov2=dogs.iloc[i,j]\n",
    "            dogs.iloc[i,j]=prov\n",
    "            prov=prov2\n",
    "            j=j+1\n",
    "        dogs.loc[i, 'posted']=datetime.strptime(dogs.loc[i,'posted'], \"%Y-%m-%dT%H:%M:%S+0000\")\n",
    "        dogs.loc[i,'accessed']=datetime.strptime(dogs.loc[i,'accessed'], \"%Y-%m-%d\")"
   ]
  },
  {
   "cell_type": "markdown",
   "id": "982ac98a",
   "metadata": {},
   "source": [
    "Now we can solve this task using a 'while' loop which scrolls through all the rows of the dataframe and stores only the identification code of the dogs that have a status other than adoptable"
   ]
  },
  {
   "cell_type": "code",
   "execution_count": null,
   "id": "cf1e9db1",
   "metadata": {},
   "outputs": [],
   "source": [
    "lista=[]\n",
    "i=0\n",
    "while(i<len(dogs)):\n",
    "    if (dogs.loc[i,'status']!='adoptable'):\n",
    "        lista.append(dogs.loc[i,'id'])\n",
    "    i=i+1\n",
    "lista"
   ]
  },
  {
   "cell_type": "markdown",
   "id": "e8c70a9c",
   "metadata": {},
   "source": [
    "## 2. For each (primary) breed, determine the number of dogs"
   ]
  },
  {
   "cell_type": "code",
   "execution_count": null,
   "id": "e90ea6af",
   "metadata": {},
   "outputs": [],
   "source": [
    "dogs.groupby('breed_primary').count()['id']"
   ]
  },
  {
   "cell_type": "markdown",
   "id": "9f479cf0",
   "metadata": {},
   "source": [
    "## 3. For each (primary) breed, determine the ratio between the number of dogs of Mixed Breed and those not of Mixed Breed. Hint: look at the secondary_breed."
   ]
  },
  {
   "cell_type": "markdown",
   "id": "b7811f79",
   "metadata": {},
   "source": [
    "Let's see all the primary breed with a groupBy:"
   ]
  },
  {
   "cell_type": "code",
   "execution_count": null,
   "id": "a0aea096",
   "metadata": {},
   "outputs": [],
   "source": [
    "nBreed = dogs.groupby('breed_primary').count()[['species','breed_secondary']]\n",
    "nBreed"
   ]
  },
  {
   "cell_type": "markdown",
   "id": "fa127f0e",
   "metadata": {},
   "source": [
    "As we can see we can use \"species\" as total number of individues for this species.\n",
    "Affenpischer are in total 17 dogs, 2 of those are mixed breed."
   ]
  },
  {
   "cell_type": "markdown",
   "id": "a5e7a4da",
   "metadata": {},
   "source": [
    "Rename colums"
   ]
  },
  {
   "cell_type": "code",
   "execution_count": null,
   "id": "5b8c076e",
   "metadata": {},
   "outputs": [],
   "source": [
    "nBreed = nBreed.rename( columns = {'species':'total', 'breed_secondary':'nSecondary'})\n",
    "nBreed"
   ]
  },
  {
   "cell_type": "markdown",
   "id": "0ab2d92f",
   "metadata": {},
   "source": [
    "We have to compute how many are primary breed:"
   ]
  },
  {
   "cell_type": "code",
   "execution_count": null,
   "id": "026ea727",
   "metadata": {},
   "outputs": [],
   "source": [
    "nBreed['nPrimary'] = nBreed['total'] - nBreed['nSecondary']\n",
    "nBreed"
   ]
  },
  {
   "cell_type": "markdown",
   "id": "fdc4e947",
   "metadata": {},
   "source": [
    "It's time to compute the ratio between Primary and Secondary Breed."
   ]
  },
  {
   "cell_type": "code",
   "execution_count": null,
   "id": "21239240",
   "metadata": {},
   "outputs": [],
   "source": [
    "nBreed['ratioBreed'] = nBreed['nPrimary'] / nBreed['nSecondary']\n",
    "nBreed"
   ]
  },
  {
   "cell_type": "markdown",
   "id": "6c182af3",
   "metadata": {},
   "source": [
    "As we can see, there are many 'inf' values. It is correct because for that breed there are not any secondary breed."
   ]
  },
  {
   "cell_type": "markdown",
   "id": "8f6e22b3",
   "metadata": {},
   "source": [
    "## 4. For each (primary) breed, determine the earliest and the latest posted timestamp."
   ]
  },
  {
   "cell_type": "markdown",
   "id": "da374518",
   "metadata": {},
   "source": [
    "We use the group by method to solve this task starting from the latest posted timestamp."
   ]
  },
  {
   "cell_type": "code",
   "execution_count": null,
   "id": "1ad51b58",
   "metadata": {},
   "outputs": [],
   "source": [
    "df_new = dogs[dogs.groupby('breed_primary')['posted'].transform('max') == dogs['posted']]\n",
    "df_new.loc[ :, ['breed_primary', 'posted']]"
   ]
  },
  {
   "cell_type": "code",
   "execution_count": null,
   "id": "1af7d24c",
   "metadata": {},
   "outputs": [],
   "source": [
    "df_new = dogs[dogs.groupby('breed_primary')['posted'].transform('min') == dogs['posted']]\n",
    "df_new.loc[ :, ['breed_primary', 'posted']]"
   ]
  },
  {
   "cell_type": "markdown",
   "id": "0fafaf8d",
   "metadata": {},
   "source": [
    "## 5. For each state, compute the sex imbalance, that is the difference between male and female dogs. In which state this imbalance is largest?"
   ]
  },
  {
   "cell_type": "markdown",
   "id": "e6994df9",
   "metadata": {},
   "source": [
    "we create a table with count of male dogs for each state (contanct_state) "
   ]
  },
  {
   "cell_type": "code",
   "execution_count": null,
   "id": "5b16b042",
   "metadata": {},
   "outputs": [],
   "source": [
    "dog_male=dogs[dogs['sex']=='Male']\n",
    "dog_male=dog_male.groupby(['contact_state'])[['sex']].count()\n",
    "dog_male.tail()"
   ]
  },
  {
   "cell_type": "markdown",
   "id": "f4a9b39f",
   "metadata": {},
   "source": [
    "we recreate the same table that we have done before with female dogs for each state"
   ]
  },
  {
   "cell_type": "code",
   "execution_count": null,
   "id": "d367dbe0",
   "metadata": {},
   "outputs": [],
   "source": [
    "dog_female=dogs[dogs['sex']=='Female']\n",
    "dog_female=dog_female.groupby(['contact_state'])[['sex']].count()\n",
    "dog_female.tail()"
   ]
  },
  {
   "cell_type": "markdown",
   "id": "72a08e6d",
   "metadata": {},
   "source": [
    "we create a new table call \"dog_sex\" thanks to merge between male dogs and female dogs on contact_state"
   ]
  },
  {
   "cell_type": "code",
   "execution_count": null,
   "id": "59904e41",
   "metadata": {},
   "outputs": [],
   "source": [
    "dog_sex=pd.merge(dog_male,dog_female,on=\"contact_state\")\n",
    "dog_sex.rename( columns = {'sex_x':'tot_male','sex_y':'tot_female'})\n",
    "dog_sex=dog_sex.rename( columns = {'sex_x':'tot_male','sex_y':'tot_female'})\n",
    "dog_sex.tail()"
   ]
  },
  {
   "cell_type": "markdown",
   "id": "5173d73f",
   "metadata": {},
   "source": [
    "we compute the imbalance like difference between male and female dogs and after we calculate the absolute value of the imbalance given that we consider only positive value of imbalance for each contact_state"
   ]
  },
  {
   "cell_type": "code",
   "execution_count": null,
   "id": "80614e1b",
   "metadata": {},
   "outputs": [],
   "source": [
    "dog_sex[\"imbalance\"]=dog_sex[\"tot_male\"]-dog_sex[\"tot_female\"]\n",
    "dog_sex[\"imbalance\"]=abs(dog_sex[\"imbalance\"])\n",
    "dog_sex.tail()"
   ]
  },
  {
   "cell_type": "markdown",
   "id": "e626bee8",
   "metadata": {},
   "source": [
    "we found the state with the largest imbalance"
   ]
  },
  {
   "cell_type": "code",
   "execution_count": null,
   "id": "4c45f1eb",
   "metadata": {},
   "outputs": [],
   "source": [
    "dog_sex[dog_sex[\"imbalance\"]==dog_sex[\"imbalance\"].max()]"
   ]
  },
  {
   "cell_type": "code",
   "execution_count": null,
   "id": "2e632481",
   "metadata": {},
   "outputs": [],
   "source": [
    "dog_sex[\"imbalance\"].nlargest(1)"
   ]
  },
  {
   "cell_type": "markdown",
   "id": "191c87c7",
   "metadata": {},
   "source": [
    "## 6. For each pair (age, size), determine the average duration of the stay and the average cost of stay."
   ]
  },
  {
   "cell_type": "markdown",
   "id": "cb709be2",
   "metadata": {},
   "source": [
    "Explore the dog's column names"
   ]
  },
  {
   "cell_type": "code",
   "execution_count": null,
   "id": "e434c6ec",
   "metadata": {},
   "outputs": [],
   "source": [
    "dogs.columns"
   ]
  },
  {
   "cell_type": "markdown",
   "id": "30ecce63",
   "metadata": {},
   "source": [
    "Compute the mean of the stay duration and stay cost for the pair AGE, SIZE;"
   ]
  },
  {
   "cell_type": "code",
   "execution_count": null,
   "id": "dc608de9",
   "metadata": {},
   "outputs": [],
   "source": [
    "AgeSize = dogs.groupby(['age', 'size'])[['stay_duration','stay_cost']].mean()\n",
    "AgeSize"
   ]
  },
  {
   "cell_type": "markdown",
   "id": "66f34567",
   "metadata": {},
   "source": [
    "## 7. Find the dogs involved in at least 3 travels. Also list the breed of those dogs."
   ]
  },
  {
   "cell_type": "markdown",
   "id": "eb899836",
   "metadata": {},
   "source": [
    "Let's start grouping the dataset by the variable id"
   ]
  },
  {
   "cell_type": "code",
   "execution_count": null,
   "id": "4b1cbd93",
   "metadata": {},
   "outputs": [],
   "source": [
    "count=dogTravel.groupby('id').count()"
   ]
  },
  {
   "cell_type": "markdown",
   "id": "7474f6fc",
   "metadata": {},
   "source": [
    "We reset the index"
   ]
  },
  {
   "cell_type": "code",
   "execution_count": null,
   "id": "3e417a00",
   "metadata": {},
   "outputs": [],
   "source": [
    "count.reset_index(inplace=True)"
   ]
  },
  {
   "cell_type": "markdown",
   "id": "89d007b6",
   "metadata": {},
   "source": [
    "Now we compute a list of only dogs that have made at least 2 trips"
   ]
  },
  {
   "cell_type": "code",
   "execution_count": null,
   "id": "d50f450e",
   "metadata": {},
   "outputs": [],
   "source": [
    "list_index=(count[count['index']>2])['id'].tolist()"
   ]
  },
  {
   "cell_type": "markdown",
   "id": "f6d67755",
   "metadata": {},
   "source": [
    "Finally we build a dictionary having as key the identification code of the dog that has made at least 2 trips, and as value its primary breed. \n",
    "To do this a for loop will be used which compares each identification code of the dog in the staring dataset with those contained in the list created above\n",
    "\n"
   ]
  },
  {
   "cell_type": "code",
   "execution_count": null,
   "id": "53070755",
   "metadata": {},
   "outputs": [],
   "source": [
    "diz={}\n",
    "for index in list_index:\n",
    "    for i in range(len(dogs)):\n",
    "        if (dogs.loc[i, 'id']==index):\n",
    "            diz[dogs.loc[i, 'id']]= dogs.loc[i, 'breed_primary']\n",
    "diz"
   ]
  },
  {
   "cell_type": "markdown",
   "id": "19baf871",
   "metadata": {},
   "source": [
    "## 8. Fix the travels table so that the correct state is computed from the manual and the found fields. If manual is not missing, then it overrides what is stored in found."
   ]
  },
  {
   "cell_type": "markdown",
   "id": "58972a0a",
   "metadata": {},
   "source": [
    "To resolve the question, we create two different tables, the first table is compose with only observation field manual full."
   ]
  },
  {
   "cell_type": "code",
   "execution_count": null,
   "id": "392f4e47",
   "metadata": {},
   "outputs": [],
   "source": [
    "manual_not_na=dogTravel[dogTravel['manual'].notna()]\n",
    "manual_not_na"
   ]
  },
  {
   "cell_type": "markdown",
   "id": "67c0f62f",
   "metadata": {},
   "source": [
    "in this table we create a new column (\"correct_state\") with the same values in manual (cause are the values that will be overrides in found column)"
   ]
  },
  {
   "cell_type": "code",
   "execution_count": null,
   "id": "850375e7",
   "metadata": {},
   "outputs": [],
   "source": [
    "manual_not_na[\"correct_state\"] = manual_not_na[\"manual\"]\n",
    "manual_not_na"
   ]
  },
  {
   "cell_type": "markdown",
   "id": "44c7a201",
   "metadata": {},
   "source": [
    "on second table, we subset only the observations with empty manual values"
   ]
  },
  {
   "cell_type": "code",
   "execution_count": null,
   "id": "2a182223",
   "metadata": {},
   "outputs": [],
   "source": [
    "manual_na=dogTravel[dogTravel['manual'].isna()]\n",
    "manual_na"
   ]
  },
  {
   "cell_type": "markdown",
   "id": "a67db6d6",
   "metadata": {},
   "source": [
    "in this table we create a new column (\"correct_state\") with the same values in found (cause are the values that will be not overrides)"
   ]
  },
  {
   "cell_type": "code",
   "execution_count": null,
   "id": "6cb6a2fd",
   "metadata": {},
   "outputs": [],
   "source": [
    "manual_na[\"correct_state\"] = manual_na[\"found\"]\n",
    "manual_na"
   ]
  },
  {
   "cell_type": "markdown",
   "id": "73e6bcc8",
   "metadata": {},
   "source": [
    "subsequantly we recreate a new df with the concatenate of the two tables that we had created before, and we order them with index sort"
   ]
  },
  {
   "cell_type": "code",
   "execution_count": null,
   "id": "7e15e3d7",
   "metadata": {},
   "outputs": [],
   "source": [
    "df=pd.concat([manual_na,manual_not_na])\n",
    "df=df.sort_index()\n",
    "df"
   ]
  },
  {
   "cell_type": "markdown",
   "id": "b66183e0",
   "metadata": {},
   "source": [
    "now we have got a column correct_state complete with the values overrides and not overrides, so we replace that values at the column found of dogTravel dataframe and we ending the point"
   ]
  },
  {
   "cell_type": "code",
   "execution_count": null,
   "id": "1567af28",
   "metadata": {},
   "outputs": [],
   "source": [
    "dogTravel[\"found\"]=df[\"correct_state\"]\n",
    "dogTravel"
   ]
  },
  {
   "cell_type": "markdown",
   "id": "9b2db82c",
   "metadata": {},
   "source": [
    "In the last result, we have got in found column the manual values only if they are not \"NaN\" "
   ]
  },
  {
   "cell_type": "markdown",
   "id": "0db10e2f",
   "metadata": {},
   "source": [
    "## 9. For each state, compute the ratio between the number of travels and the population."
   ]
  },
  {
   "cell_type": "code",
   "execution_count": null,
   "id": "2b929956",
   "metadata": {},
   "outputs": [],
   "source": [
    "import pycountry #have to install it (pip install pycountry)"
   ]
  },
  {
   "cell_type": "markdown",
   "id": "6949b27c",
   "metadata": {},
   "source": [
    "### First Dataset Analysis"
   ]
  },
  {
   "cell_type": "code",
   "execution_count": null,
   "id": "a33adadf",
   "metadata": {},
   "outputs": [],
   "source": [
    "dogTravel.shape #number of total travell done"
   ]
  },
  {
   "cell_type": "code",
   "execution_count": null,
   "id": "81949ea7",
   "metadata": {},
   "outputs": [],
   "source": [
    "dogTravel.groupby(['contact_state']).count().shape \n",
    "#number of countries that have made trips"
   ]
  },
  {
   "cell_type": "code",
   "execution_count": null,
   "id": "0e4e4731",
   "metadata": {},
   "outputs": [],
   "source": [
    "nstest.shape #number of country in csv population"
   ]
  },
  {
   "cell_type": "markdown",
   "id": "b2c0fe32",
   "metadata": {},
   "source": [
    "51 states, 45 states that have made trips, total trips 6149"
   ]
  },
  {
   "cell_type": "code",
   "execution_count": null,
   "id": "3c287474",
   "metadata": {},
   "outputs": [],
   "source": [
    "#change label\n",
    "nTravelForState = dogTravel.groupby(['contact_state']).count()[['index']].reset_index().rename(columns={'contact_state':'state', 'index':'nTravel'})\n",
    "nTravelForState.head()"
   ]
  },
  {
   "cell_type": "code",
   "execution_count": null,
   "id": "f65eaa71",
   "metadata": {},
   "outputs": [],
   "source": [
    "nTravelForState['nTravel'].sum() #sum is correct"
   ]
  },
  {
   "cell_type": "code",
   "execution_count": null,
   "id": "a6d91ad4",
   "metadata": {},
   "outputs": [],
   "source": [
    "nTravelForState.shape"
   ]
  },
  {
   "cell_type": "markdown",
   "id": "c70b59f8",
   "metadata": {},
   "source": [
    "### There is an error"
   ]
  },
  {
   "cell_type": "code",
   "execution_count": null,
   "id": "57aac80c",
   "metadata": {},
   "outputs": [],
   "source": [
    "dogTravel[dogTravel['contact_state'] == '17325']"
   ]
  },
  {
   "cell_type": "markdown",
   "id": "2f147635",
   "metadata": {},
   "source": [
    "The number refers to state of Pensylvania. It needs to be corrected"
   ]
  },
  {
   "cell_type": "code",
   "execution_count": null,
   "id": "f07386fb",
   "metadata": {},
   "outputs": [],
   "source": [
    "nTravelForState[nTravelForState['state']=='PA']"
   ]
  },
  {
   "cell_type": "code",
   "execution_count": null,
   "id": "f8022991",
   "metadata": {},
   "outputs": [],
   "source": [
    "#take the 2 values\n",
    "PAerr = nTravelForState[nTravelForState['state'] == '17325']['nTravel']\n",
    "PAcorr = nTravelForState[nTravelForState['state'] == 'PA']['nTravel']"
   ]
  },
  {
   "cell_type": "code",
   "execution_count": null,
   "id": "464a8cc4",
   "metadata": {},
   "outputs": [],
   "source": [
    "#delete the wrong row\n",
    "nTravelForState = nTravelForState.drop(nTravelForState.index[nTravelForState['state'] == '17325']).reset_index()"
   ]
  },
  {
   "cell_type": "code",
   "execution_count": null,
   "id": "a24ee1a4",
   "metadata": {},
   "outputs": [],
   "source": [
    "nTravelForState.head()"
   ]
  },
  {
   "cell_type": "code",
   "execution_count": null,
   "id": "9820a9da",
   "metadata": {},
   "outputs": [],
   "source": [
    "#Add the right value\n",
    "nTravelForState.loc[nTravelForState['state']=='PA', 'nTravel'] = sum(PAcorr, PAerr).values\n",
    "nTravelForState[nTravelForState['state'] == 'PA']"
   ]
  },
  {
   "cell_type": "markdown",
   "id": "770ac5a9",
   "metadata": {},
   "source": [
    "#### Country that have made trips become 43"
   ]
  },
  {
   "cell_type": "markdown",
   "id": "1ccf44b5",
   "metadata": {},
   "source": [
    "### Table State and Popolation"
   ]
  },
  {
   "cell_type": "code",
   "execution_count": null,
   "id": "1d2b4ed4",
   "metadata": {},
   "outputs": [],
   "source": [
    "nstest[1] = nstest[1].str.replace('.','')"
   ]
  },
  {
   "cell_type": "code",
   "execution_count": null,
   "id": "5e14a719",
   "metadata": {
    "scrolled": true
   },
   "outputs": [],
   "source": [
    "state = nstest.rename(columns = {0:'state', 1:'nPopulation'})\n",
    "state.head()"
   ]
  },
  {
   "cell_type": "markdown",
   "id": "fcb8021c",
   "metadata": {},
   "source": [
    "#### Add state code"
   ]
  },
  {
   "cell_type": "code",
   "execution_count": null,
   "id": "a545ad55",
   "metadata": {},
   "outputs": [],
   "source": [
    "def findCountryAlpha2 (country_name):\n",
    "    try:\n",
    "        sub = pycountry.subdivisions.lookup(country_name)\n",
    "        sample_str = sub.code\n",
    "        stateCode = sub.code[-2:]\n",
    "        return stateCode\n",
    "    except:\n",
    "        return (\"not founded!\")\n",
    "\n",
    "state['state_code'] = state.apply(lambda row: findCountryAlpha2(row.state) , axis = 1)\n",
    "state.head()"
   ]
  },
  {
   "cell_type": "markdown",
   "id": "44a736e9",
   "metadata": {},
   "source": [
    "### Still errors"
   ]
  },
  {
   "cell_type": "markdown",
   "id": "d6670408",
   "metadata": {},
   "source": [
    "#### MT"
   ]
  },
  {
   "cell_type": "code",
   "execution_count": null,
   "id": "36d3bfc8",
   "metadata": {},
   "outputs": [],
   "source": [
    "#Library pycountry has a code wrong for Montana state\n",
    "state[state['state']=='Montana']"
   ]
  },
  {
   "cell_type": "code",
   "execution_count": null,
   "id": "bb4c3bd9",
   "metadata": {},
   "outputs": [],
   "source": [
    "state.loc[state['state']=='Montana', 'state_code'] = 'MT'\n",
    "state[state['state']=='Montana']"
   ]
  },
  {
   "cell_type": "markdown",
   "id": "a5cd9192",
   "metadata": {},
   "source": [
    "#### MY"
   ]
  },
  {
   "cell_type": "code",
   "execution_count": null,
   "id": "bd4e1ec9",
   "metadata": {},
   "outputs": [],
   "source": [
    "# another error in library pycountry referred to Maryland code state\n",
    "state[state['state']=='Maryland']"
   ]
  },
  {
   "cell_type": "code",
   "execution_count": null,
   "id": "cd582489",
   "metadata": {},
   "outputs": [],
   "source": [
    "state.loc[state['state']=='Maryland', 'state_code'] = 'MD'\n",
    "state[state['state']=='Maryland']"
   ]
  },
  {
   "cell_type": "markdown",
   "id": "f647bc88",
   "metadata": {},
   "source": [
    "#### CSV nstest"
   ]
  },
  {
   "cell_type": "code",
   "execution_count": null,
   "id": "48a15b04",
   "metadata": {},
   "outputs": [],
   "source": [
    "#there are some state_code NB which are the same state that NJ\n",
    "nTravelForState[nTravelForState['state']=='NB']"
   ]
  },
  {
   "cell_type": "code",
   "execution_count": null,
   "id": "ec7c54c5",
   "metadata": {},
   "outputs": [],
   "source": [
    "nTravelForState[nTravelForState['state']=='NJ']"
   ]
  },
  {
   "cell_type": "code",
   "execution_count": null,
   "id": "8bcd3251",
   "metadata": {},
   "outputs": [],
   "source": [
    "NJerr = nTravelForState[nTravelForState['state'] == 'NB']['nTravel']\n",
    "NJcorr = nTravelForState[nTravelForState['state'] == 'NJ']['nTravel']"
   ]
  },
  {
   "cell_type": "code",
   "execution_count": null,
   "id": "919be192",
   "metadata": {},
   "outputs": [],
   "source": [
    "#delete the wrong row\n",
    "nTravelForState = nTravelForState.drop(nTravelForState.index[nTravelForState['state'] == 'NB']).reset_index()"
   ]
  },
  {
   "cell_type": "code",
   "execution_count": null,
   "id": "3e6ea3de",
   "metadata": {},
   "outputs": [],
   "source": [
    "#salvo il valore in NJ\n",
    "nTravelForState.loc[nTravelForState['state']=='NJ', 'nTravel'] = sum(NJcorr, NJerr).values\n",
    "nTravelForState[nTravelForState['state'] == 'NJ']"
   ]
  },
  {
   "cell_type": "markdown",
   "id": "41e61aa0",
   "metadata": {},
   "source": [
    "#### Now the number of country that have done trips are 43"
   ]
  },
  {
   "cell_type": "markdown",
   "id": "0a2e42da",
   "metadata": {},
   "source": [
    "### Merging time"
   ]
  },
  {
   "cell_type": "code",
   "execution_count": null,
   "id": "ae5c3511",
   "metadata": {},
   "outputs": [],
   "source": [
    "table_travel_for_state = pd.merge(state, nTravelForState, left_on='state_code', right_on='state')[['state_x', 'nPopulation', 'nTravel']]\n",
    "table_travel_for_state.head()"
   ]
  },
  {
   "cell_type": "code",
   "execution_count": null,
   "id": "eb87e903",
   "metadata": {},
   "outputs": [],
   "source": [
    "#check if sum is correct\n",
    "table_travel_for_state['nTravel'].sum()"
   ]
  },
  {
   "cell_type": "markdown",
   "id": "835cbb62",
   "metadata": {},
   "source": [
    "### Add ratio between the number of travels and the population"
   ]
  },
  {
   "cell_type": "code",
   "execution_count": null,
   "id": "593b94e8",
   "metadata": {},
   "outputs": [],
   "source": [
    "table_travel_for_state['nPopulation'] = table_travel_for_state['nPopulation'].apply(pd.to_numeric)"
   ]
  },
  {
   "cell_type": "code",
   "execution_count": null,
   "id": "6c75d92b",
   "metadata": {},
   "outputs": [],
   "source": [
    "table_travel_for_state['ratio_Travel_Population'] = table_travel_for_state['nPopulation'] / table_travel_for_state['nTravel']\n",
    "table_travel_for_state.head()"
   ]
  },
  {
   "cell_type": "markdown",
   "id": "cee0a5ec",
   "metadata": {},
   "source": [
    "## 10. For each dog, compute the number of days from the posted day to the day of last access."
   ]
  },
  {
   "cell_type": "markdown",
   "id": "e1ab6a6c",
   "metadata": {},
   "source": [
    "To solve this task the difference between the column 'posted' and the column 'accessed' will be calculated.\n",
    "The information obtained will be stored in a dictionary having the dog's identification code as the key and \n",
    "the days between the posted day and the last access as value.\n",
    "\n"
   ]
  },
  {
   "cell_type": "code",
   "execution_count": null,
   "id": "76c27e22",
   "metadata": {},
   "outputs": [],
   "source": [
    "diz={}\n",
    "for i in range(len(dogs)):\n",
    "    diz[dogs.loc[i,'id']]= -1*(dogs.loc[i, 'posted'] - dogs.loc[i, 'accessed']).days\n",
    "diz"
   ]
  },
  {
   "cell_type": "markdown",
   "id": "9dec9040",
   "metadata": {},
   "source": [
    "## 11. Partition the dogs according to the number of weeks from the posted day to the day of last access."
   ]
  },
  {
   "cell_type": "code",
   "execution_count": null,
   "id": "4c2af0ec",
   "metadata": {},
   "outputs": [],
   "source": []
  },
  {
   "cell_type": "markdown",
   "id": "bd42d6f1",
   "metadata": {},
   "source": [
    "## 12. Find for duplicates in the dogs dataset. Two records are duplicates if they have (1) same breeds and sex, and (2) they share at least 90% of the words in the description field. Extra points if you find and implement a more refined for determining if two rows are duplicates."
   ]
  },
  {
   "cell_type": "code",
   "execution_count": 3,
   "id": "00356259",
   "metadata": {},
   "outputs": [
    {
     "data": {
      "text/html": [
       "<div>\n",
       "<style scoped>\n",
       "    .dataframe tbody tr th:only-of-type {\n",
       "        vertical-align: middle;\n",
       "    }\n",
       "\n",
       "    .dataframe tbody tr th {\n",
       "        vertical-align: top;\n",
       "    }\n",
       "\n",
       "    .dataframe thead th {\n",
       "        text-align: right;\n",
       "    }\n",
       "</style>\n",
       "<table border=\"1\" class=\"dataframe\">\n",
       "  <thead>\n",
       "    <tr style=\"text-align: right;\">\n",
       "      <th></th>\n",
       "      <th>sex</th>\n",
       "      <th>breed_primary</th>\n",
       "      <th>description</th>\n",
       "    </tr>\n",
       "  </thead>\n",
       "  <tbody>\n",
       "    <tr>\n",
       "      <th>0</th>\n",
       "      <td>Male</td>\n",
       "      <td>American Staffordshire Terrier</td>\n",
       "      <td>Harley is not sure how he wound up at shelter ...</td>\n",
       "    </tr>\n",
       "    <tr>\n",
       "      <th>1</th>\n",
       "      <td>Male</td>\n",
       "      <td>Pit Bull Terrier</td>\n",
       "      <td>6 year old Biggie has lost his home and really...</td>\n",
       "    </tr>\n",
       "    <tr>\n",
       "      <th>2</th>\n",
       "      <td>Male</td>\n",
       "      <td>Shepherd</td>\n",
       "      <td>Approx 2 years old.\\n Did I catch your eye? I ...</td>\n",
       "    </tr>\n",
       "    <tr>\n",
       "      <th>3</th>\n",
       "      <td>Female</td>\n",
       "      <td>German Shepherd Dog</td>\n",
       "      <td>NaN</td>\n",
       "    </tr>\n",
       "    <tr>\n",
       "      <th>4</th>\n",
       "      <td>Male</td>\n",
       "      <td>Dachshund</td>\n",
       "      <td>Theo is a friendly dachshund mix who gets alon...</td>\n",
       "    </tr>\n",
       "    <tr>\n",
       "      <th>...</th>\n",
       "      <td>...</td>\n",
       "      <td>...</td>\n",
       "      <td>...</td>\n",
       "    </tr>\n",
       "    <tr>\n",
       "      <th>58175</th>\n",
       "      <td>Male</td>\n",
       "      <td>Border Collie</td>\n",
       "      <td>Due to the small size of our volunteer base, w...</td>\n",
       "    </tr>\n",
       "    <tr>\n",
       "      <th>58176</th>\n",
       "      <td>Female</td>\n",
       "      <td>Australian Shepherd</td>\n",
       "      <td>NaN</td>\n",
       "    </tr>\n",
       "    <tr>\n",
       "      <th>58177</th>\n",
       "      <td>Female</td>\n",
       "      <td>Border Collie</td>\n",
       "      <td>Due to the small size of our volunteer base, w...</td>\n",
       "    </tr>\n",
       "    <tr>\n",
       "      <th>58178</th>\n",
       "      <td>Male</td>\n",
       "      <td>Boxer</td>\n",
       "      <td>NaN</td>\n",
       "    </tr>\n",
       "    <tr>\n",
       "      <th>58179</th>\n",
       "      <td>Male</td>\n",
       "      <td>Labrador Retriever</td>\n",
       "      <td>NaN</td>\n",
       "    </tr>\n",
       "  </tbody>\n",
       "</table>\n",
       "<p>58180 rows × 3 columns</p>\n",
       "</div>"
      ],
      "text/plain": [
       "          sex                   breed_primary  \\\n",
       "0        Male  American Staffordshire Terrier   \n",
       "1        Male                Pit Bull Terrier   \n",
       "2        Male                        Shepherd   \n",
       "3      Female             German Shepherd Dog   \n",
       "4        Male                       Dachshund   \n",
       "...       ...                             ...   \n",
       "58175    Male                   Border Collie   \n",
       "58176  Female             Australian Shepherd   \n",
       "58177  Female                   Border Collie   \n",
       "58178    Male                           Boxer   \n",
       "58179    Male              Labrador Retriever   \n",
       "\n",
       "                                             description  \n",
       "0      Harley is not sure how he wound up at shelter ...  \n",
       "1      6 year old Biggie has lost his home and really...  \n",
       "2      Approx 2 years old.\\n Did I catch your eye? I ...  \n",
       "3                                                    NaN  \n",
       "4      Theo is a friendly dachshund mix who gets alon...  \n",
       "...                                                  ...  \n",
       "58175  Due to the small size of our volunteer base, w...  \n",
       "58176                                                NaN  \n",
       "58177  Due to the small size of our volunteer base, w...  \n",
       "58178                                                NaN  \n",
       "58179                                                NaN  \n",
       "\n",
       "[58180 rows x 3 columns]"
      ]
     },
     "execution_count": 3,
     "metadata": {},
     "output_type": "execute_result"
    }
   ],
   "source": [
    "# 1) creo una tabella con tutti gli elementi che hanno uguale breeed & sex \n",
    "duplicate_table = dogs.iloc[:, [13,5,34]]\n",
    "duplicate_table"
   ]
  },
  {
   "cell_type": "code",
   "execution_count": 5,
   "id": "f2cae1e6",
   "metadata": {},
   "outputs": [
    {
     "data": {
      "text/html": [
       "<div>\n",
       "<style scoped>\n",
       "    .dataframe tbody tr th:only-of-type {\n",
       "        vertical-align: middle;\n",
       "    }\n",
       "\n",
       "    .dataframe tbody tr th {\n",
       "        vertical-align: top;\n",
       "    }\n",
       "\n",
       "    .dataframe thead th {\n",
       "        text-align: right;\n",
       "    }\n",
       "</style>\n",
       "<table border=\"1\" class=\"dataframe\">\n",
       "  <thead>\n",
       "    <tr style=\"text-align: right;\">\n",
       "      <th></th>\n",
       "      <th>sex</th>\n",
       "      <th>breed_primary</th>\n",
       "      <th>description</th>\n",
       "    </tr>\n",
       "  </thead>\n",
       "  <tbody>\n",
       "    <tr>\n",
       "      <th>6</th>\n",
       "      <td>Female</td>\n",
       "      <td>Italian Greyhound</td>\n",
       "      <td>Macadamia was born around July 8th and donÃ¢Â...</td>\n",
       "    </tr>\n",
       "    <tr>\n",
       "      <th>8</th>\n",
       "      <td>Female</td>\n",
       "      <td>Cattle Dog</td>\n",
       "      <td>Huckleberry is a friendly girl who was born Ma...</td>\n",
       "    </tr>\n",
       "    <tr>\n",
       "      <th>10</th>\n",
       "      <td>Female</td>\n",
       "      <td>Cattle Dog</td>\n",
       "      <td>Speckles is a 4 month old Heeler/Hound mix who...</td>\n",
       "    </tr>\n",
       "    <tr>\n",
       "      <th>11</th>\n",
       "      <td>Female</td>\n",
       "      <td>Italian Greyhound</td>\n",
       "      <td>Cashew is sweet girl who was born around July ...</td>\n",
       "    </tr>\n",
       "    <tr>\n",
       "      <th>13</th>\n",
       "      <td>Female</td>\n",
       "      <td>Border Collie</td>\n",
       "      <td>Meet Sydney- SheÃ¢ÂÂs a 5 year old Border Co...</td>\n",
       "    </tr>\n",
       "    <tr>\n",
       "      <th>...</th>\n",
       "      <td>...</td>\n",
       "      <td>...</td>\n",
       "      <td>...</td>\n",
       "    </tr>\n",
       "    <tr>\n",
       "      <th>58145</th>\n",
       "      <td>Female</td>\n",
       "      <td>American Staffordshire Terrier</td>\n",
       "      <td>Bella is a very sweet dog. She would do best i...</td>\n",
       "    </tr>\n",
       "    <tr>\n",
       "      <th>58147</th>\n",
       "      <td>Female</td>\n",
       "      <td>Labrador Retriever</td>\n",
       "      <td>Please stop by any day between Noon and 2pm or...</td>\n",
       "    </tr>\n",
       "    <tr>\n",
       "      <th>58149</th>\n",
       "      <td>Female</td>\n",
       "      <td>Labrador Retriever</td>\n",
       "      <td>Please stop by any day between Noon and 2pm or...</td>\n",
       "    </tr>\n",
       "    <tr>\n",
       "      <th>58160</th>\n",
       "      <td>Female</td>\n",
       "      <td>American Staffordshire Terrier</td>\n",
       "      <td>Our Baby Girl has had a rough life: bred every...</td>\n",
       "    </tr>\n",
       "    <tr>\n",
       "      <th>58177</th>\n",
       "      <td>Female</td>\n",
       "      <td>Border Collie</td>\n",
       "      <td>Due to the small size of our volunteer base, w...</td>\n",
       "    </tr>\n",
       "  </tbody>\n",
       "</table>\n",
       "<p>23830 rows × 3 columns</p>\n",
       "</div>"
      ],
      "text/plain": [
       "          sex                   breed_primary  \\\n",
       "6      Female               Italian Greyhound   \n",
       "8      Female                      Cattle Dog   \n",
       "10     Female                      Cattle Dog   \n",
       "11     Female               Italian Greyhound   \n",
       "13     Female                   Border Collie   \n",
       "...       ...                             ...   \n",
       "58145  Female  American Staffordshire Terrier   \n",
       "58147  Female              Labrador Retriever   \n",
       "58149  Female              Labrador Retriever   \n",
       "58160  Female  American Staffordshire Terrier   \n",
       "58177  Female                   Border Collie   \n",
       "\n",
       "                                             description  \n",
       "6      Macadamia was born around July 8th and donÃ¢Â...  \n",
       "8      Huckleberry is a friendly girl who was born Ma...  \n",
       "10     Speckles is a 4 month old Heeler/Hound mix who...  \n",
       "11     Cashew is sweet girl who was born around July ...  \n",
       "13     Meet Sydney- SheÃ¢ÂÂs a 5 year old Border Co...  \n",
       "...                                                  ...  \n",
       "58145  Bella is a very sweet dog. She would do best i...  \n",
       "58147  Please stop by any day between Noon and 2pm or...  \n",
       "58149  Please stop by any day between Noon and 2pm or...  \n",
       "58160  Our Baby Girl has had a rough life: bred every...  \n",
       "58177  Due to the small size of our volunteer base, w...  \n",
       "\n",
       "[23830 rows x 3 columns]"
      ]
     },
     "execution_count": 5,
     "metadata": {},
     "output_type": "execute_result"
    }
   ],
   "source": [
    "#elimino tutte le righe che hanno NaN come descrizione perché non possono essere duplicate \n",
    "duplicate_table = duplicate_table[duplicate_table['description'].notna()]"
   ]
  },
  {
   "cell_type": "code",
   "execution_count": 4,
   "id": "3e10dcaa",
   "metadata": {},
   "outputs": [
    {
     "data": {
      "text/html": [
       "<div>\n",
       "<style scoped>\n",
       "    .dataframe tbody tr th:only-of-type {\n",
       "        vertical-align: middle;\n",
       "    }\n",
       "\n",
       "    .dataframe tbody tr th {\n",
       "        vertical-align: top;\n",
       "    }\n",
       "\n",
       "    .dataframe thead th {\n",
       "        text-align: right;\n",
       "    }\n",
       "</style>\n",
       "<table border=\"1\" class=\"dataframe\">\n",
       "  <thead>\n",
       "    <tr style=\"text-align: right;\">\n",
       "      <th></th>\n",
       "      <th>sex</th>\n",
       "      <th>breed_primary</th>\n",
       "      <th>description</th>\n",
       "    </tr>\n",
       "  </thead>\n",
       "  <tbody>\n",
       "    <tr>\n",
       "      <th>3</th>\n",
       "      <td>Female</td>\n",
       "      <td>German Shepherd Dog</td>\n",
       "      <td>NaN</td>\n",
       "    </tr>\n",
       "    <tr>\n",
       "      <th>6</th>\n",
       "      <td>Female</td>\n",
       "      <td>Italian Greyhound</td>\n",
       "      <td>Macadamia was born around July 8th and donÃ¢Â...</td>\n",
       "    </tr>\n",
       "    <tr>\n",
       "      <th>8</th>\n",
       "      <td>Female</td>\n",
       "      <td>Cattle Dog</td>\n",
       "      <td>Huckleberry is a friendly girl who was born Ma...</td>\n",
       "    </tr>\n",
       "    <tr>\n",
       "      <th>10</th>\n",
       "      <td>Female</td>\n",
       "      <td>Cattle Dog</td>\n",
       "      <td>Speckles is a 4 month old Heeler/Hound mix who...</td>\n",
       "    </tr>\n",
       "    <tr>\n",
       "      <th>11</th>\n",
       "      <td>Female</td>\n",
       "      <td>Italian Greyhound</td>\n",
       "      <td>Cashew is sweet girl who was born around July ...</td>\n",
       "    </tr>\n",
       "    <tr>\n",
       "      <th>...</th>\n",
       "      <td>...</td>\n",
       "      <td>...</td>\n",
       "      <td>...</td>\n",
       "    </tr>\n",
       "    <tr>\n",
       "      <th>58168</th>\n",
       "      <td>Female</td>\n",
       "      <td>Black Labrador Retriever</td>\n",
       "      <td>NaN</td>\n",
       "    </tr>\n",
       "    <tr>\n",
       "      <th>58173</th>\n",
       "      <td>Female</td>\n",
       "      <td>Labrador Retriever</td>\n",
       "      <td>NaN</td>\n",
       "    </tr>\n",
       "    <tr>\n",
       "      <th>58174</th>\n",
       "      <td>Female</td>\n",
       "      <td>Shepherd</td>\n",
       "      <td>NaN</td>\n",
       "    </tr>\n",
       "    <tr>\n",
       "      <th>58176</th>\n",
       "      <td>Female</td>\n",
       "      <td>Australian Shepherd</td>\n",
       "      <td>NaN</td>\n",
       "    </tr>\n",
       "    <tr>\n",
       "      <th>58177</th>\n",
       "      <td>Female</td>\n",
       "      <td>Border Collie</td>\n",
       "      <td>Due to the small size of our volunteer base, w...</td>\n",
       "    </tr>\n",
       "  </tbody>\n",
       "</table>\n",
       "<p>27883 rows × 3 columns</p>\n",
       "</div>"
      ],
      "text/plain": [
       "          sex             breed_primary  \\\n",
       "3      Female       German Shepherd Dog   \n",
       "6      Female         Italian Greyhound   \n",
       "8      Female                Cattle Dog   \n",
       "10     Female                Cattle Dog   \n",
       "11     Female         Italian Greyhound   \n",
       "...       ...                       ...   \n",
       "58168  Female  Black Labrador Retriever   \n",
       "58173  Female        Labrador Retriever   \n",
       "58174  Female                  Shepherd   \n",
       "58176  Female       Australian Shepherd   \n",
       "58177  Female             Border Collie   \n",
       "\n",
       "                                             description  \n",
       "3                                                    NaN  \n",
       "6      Macadamia was born around July 8th and donÃ¢Â...  \n",
       "8      Huckleberry is a friendly girl who was born Ma...  \n",
       "10     Speckles is a 4 month old Heeler/Hound mix who...  \n",
       "11     Cashew is sweet girl who was born around July ...  \n",
       "...                                                  ...  \n",
       "58168                                                NaN  \n",
       "58173                                                NaN  \n",
       "58174                                                NaN  \n",
       "58176                                                NaN  \n",
       "58177  Due to the small size of our volunteer base, w...  \n",
       "\n",
       "[27883 rows x 3 columns]"
      ]
     },
     "execution_count": 4,
     "metadata": {},
     "output_type": "execute_result"
    }
   ],
   "source": [
    "duplicate_female = duplicate_table[duplicate_table['sex'] == 'Female']\n",
    "duplicate_male = duplicate_table[duplicate_table['sex'] == 'Male']\n",
    "#duplicate_female"
   ]
  },
  {
   "cell_type": "code",
   "execution_count": 6,
   "id": "49ea57d4",
   "metadata": {},
   "outputs": [
    {
     "data": {
      "text/html": [
       "<div>\n",
       "<style scoped>\n",
       "    .dataframe tbody tr th:only-of-type {\n",
       "        vertical-align: middle;\n",
       "    }\n",
       "\n",
       "    .dataframe tbody tr th {\n",
       "        vertical-align: top;\n",
       "    }\n",
       "\n",
       "    .dataframe thead th {\n",
       "        text-align: right;\n",
       "    }\n",
       "</style>\n",
       "<table border=\"1\" class=\"dataframe\">\n",
       "  <thead>\n",
       "    <tr style=\"text-align: right;\">\n",
       "      <th></th>\n",
       "      <th>index</th>\n",
       "      <th>sex</th>\n",
       "      <th>breed_primary</th>\n",
       "      <th>description</th>\n",
       "    </tr>\n",
       "  </thead>\n",
       "  <tbody>\n",
       "    <tr>\n",
       "      <th>0</th>\n",
       "      <td>32156</td>\n",
       "      <td>Female</td>\n",
       "      <td>Affenpinscher</td>\n",
       "      <td>Elsie.jpgThank you for looking at our availabl...</td>\n",
       "    </tr>\n",
       "    <tr>\n",
       "      <th>1</th>\n",
       "      <td>54676</td>\n",
       "      <td>Female</td>\n",
       "      <td>Affenpinscher</td>\n",
       "      <td>Sweet older girl whose had a rough couple year...</td>\n",
       "    </tr>\n",
       "    <tr>\n",
       "      <th>2</th>\n",
       "      <td>24994</td>\n",
       "      <td>Female</td>\n",
       "      <td>Affenpinscher</td>\n",
       "      <td>To see even more click the following link:\\n\\n...</td>\n",
       "    </tr>\n",
       "    <tr>\n",
       "      <th>3</th>\n",
       "      <td>51866</td>\n",
       "      <td>Female</td>\n",
       "      <td>Affenpinscher</td>\n",
       "      <td>Norma Jean is an Affenpinscher mix girl that w...</td>\n",
       "    </tr>\n",
       "    <tr>\n",
       "      <th>4</th>\n",
       "      <td>32235</td>\n",
       "      <td>Female</td>\n",
       "      <td>Affenpinscher</td>\n",
       "      <td>55351.jpgThank you for looking at our availabl...</td>\n",
       "    </tr>\n",
       "    <tr>\n",
       "      <th>...</th>\n",
       "      <td>...</td>\n",
       "      <td>...</td>\n",
       "      <td>...</td>\n",
       "      <td>...</td>\n",
       "    </tr>\n",
       "    <tr>\n",
       "      <th>23825</th>\n",
       "      <td>21554</td>\n",
       "      <td>Female</td>\n",
       "      <td>Yorkshire Terrier</td>\n",
       "      <td>You can fill out an adoption application onlin...</td>\n",
       "    </tr>\n",
       "    <tr>\n",
       "      <th>23826</th>\n",
       "      <td>37159</td>\n",
       "      <td>Female</td>\n",
       "      <td>Yorkshire Terrier</td>\n",
       "      <td>You can fill out an adoption application onlin...</td>\n",
       "    </tr>\n",
       "    <tr>\n",
       "      <th>23827</th>\n",
       "      <td>12537</td>\n",
       "      <td>Female</td>\n",
       "      <td>Yorkshire Terrier</td>\n",
       "      <td>PRECIOUS is a 9 year old, 7 pound purebred Yor...</td>\n",
       "    </tr>\n",
       "    <tr>\n",
       "      <th>23828</th>\n",
       "      <td>6734</td>\n",
       "      <td>Female</td>\n",
       "      <td>Yorkshire Terrier</td>\n",
       "      <td>Gidget is only 9 months and about 4 lbs. She's...</td>\n",
       "    </tr>\n",
       "    <tr>\n",
       "      <th>23829</th>\n",
       "      <td>55837</td>\n",
       "      <td>Female</td>\n",
       "      <td>Yorkshire Terrier</td>\n",
       "      <td>Corki and Stormi have been pals most of their ...</td>\n",
       "    </tr>\n",
       "  </tbody>\n",
       "</table>\n",
       "<p>23830 rows × 4 columns</p>\n",
       "</div>"
      ],
      "text/plain": [
       "       index     sex      breed_primary  \\\n",
       "0      32156  Female      Affenpinscher   \n",
       "1      54676  Female      Affenpinscher   \n",
       "2      24994  Female      Affenpinscher   \n",
       "3      51866  Female      Affenpinscher   \n",
       "4      32235  Female      Affenpinscher   \n",
       "...      ...     ...                ...   \n",
       "23825  21554  Female  Yorkshire Terrier   \n",
       "23826  37159  Female  Yorkshire Terrier   \n",
       "23827  12537  Female  Yorkshire Terrier   \n",
       "23828   6734  Female  Yorkshire Terrier   \n",
       "23829  55837  Female  Yorkshire Terrier   \n",
       "\n",
       "                                             description  \n",
       "0      Elsie.jpgThank you for looking at our availabl...  \n",
       "1      Sweet older girl whose had a rough couple year...  \n",
       "2      To see even more click the following link:\\n\\n...  \n",
       "3      Norma Jean is an Affenpinscher mix girl that w...  \n",
       "4      55351.jpgThank you for looking at our availabl...  \n",
       "...                                                  ...  \n",
       "23825  You can fill out an adoption application onlin...  \n",
       "23826  You can fill out an adoption application onlin...  \n",
       "23827  PRECIOUS is a 9 year old, 7 pound purebred Yor...  \n",
       "23828  Gidget is only 9 months and about 4 lbs. She's...  \n",
       "23829  Corki and Stormi have been pals most of their ...  \n",
       "\n",
       "[23830 rows x 4 columns]"
      ]
     },
     "execution_count": 6,
     "metadata": {},
     "output_type": "execute_result"
    }
   ],
   "source": [
    "#riordino le righe per breed-primary (una sort di groupby)\n",
    "duplicate_female = duplicate_female.sort_values(by = 'breed_primary').reset_index()\n",
    "duplicate_male = duplicate_male.sort_values(by = 'breed_primary').reset_index()\n",
    "#duplicate_female"
   ]
  },
  {
   "cell_type": "code",
   "execution_count": null,
   "id": "093c6cd8",
   "metadata": {},
   "outputs": [],
   "source": []
  },
  {
   "cell_type": "code",
   "execution_count": null,
   "id": "387a4d07",
   "metadata": {},
   "outputs": [],
   "source": []
  },
  {
   "cell_type": "code",
   "execution_count": null,
   "id": "dca25a71",
   "metadata": {},
   "outputs": [],
   "source": []
  },
  {
   "cell_type": "code",
   "execution_count": null,
   "id": "76207a83",
   "metadata": {},
   "outputs": [],
   "source": []
  },
  {
   "cell_type": "code",
   "execution_count": 7,
   "id": "c8d76aab",
   "metadata": {},
   "outputs": [
    {
     "data": {
      "text/html": [
       "<div>\n",
       "<style scoped>\n",
       "    .dataframe tbody tr th:only-of-type {\n",
       "        vertical-align: middle;\n",
       "    }\n",
       "\n",
       "    .dataframe tbody tr th {\n",
       "        vertical-align: top;\n",
       "    }\n",
       "\n",
       "    .dataframe thead th {\n",
       "        text-align: right;\n",
       "    }\n",
       "</style>\n",
       "<table border=\"1\" class=\"dataframe\">\n",
       "  <thead>\n",
       "    <tr style=\"text-align: right;\">\n",
       "      <th></th>\n",
       "      <th>index</th>\n",
       "      <th>sex</th>\n",
       "      <th>breed_primary</th>\n",
       "      <th>description</th>\n",
       "    </tr>\n",
       "  </thead>\n",
       "  <tbody>\n",
       "    <tr>\n",
       "      <th>0</th>\n",
       "      <td>32156</td>\n",
       "      <td>Female</td>\n",
       "      <td>Affenpinscher</td>\n",
       "      <td>Elsie.jpgThank you for looking at our availabl...</td>\n",
       "    </tr>\n",
       "    <tr>\n",
       "      <th>1</th>\n",
       "      <td>54676</td>\n",
       "      <td>Female</td>\n",
       "      <td>Affenpinscher</td>\n",
       "      <td>Sweet older girl whose had a rough couple year...</td>\n",
       "    </tr>\n",
       "    <tr>\n",
       "      <th>2</th>\n",
       "      <td>24994</td>\n",
       "      <td>Female</td>\n",
       "      <td>Affenpinscher</td>\n",
       "      <td>To see even more click the following link:\\n\\n...</td>\n",
       "    </tr>\n",
       "    <tr>\n",
       "      <th>3</th>\n",
       "      <td>51866</td>\n",
       "      <td>Female</td>\n",
       "      <td>Affenpinscher</td>\n",
       "      <td>Norma Jean is an Affenpinscher mix girl that w...</td>\n",
       "    </tr>\n",
       "    <tr>\n",
       "      <th>4</th>\n",
       "      <td>32235</td>\n",
       "      <td>Female</td>\n",
       "      <td>Affenpinscher</td>\n",
       "      <td>55351.jpgThank you for looking at our availabl...</td>\n",
       "    </tr>\n",
       "    <tr>\n",
       "      <th>...</th>\n",
       "      <td>...</td>\n",
       "      <td>...</td>\n",
       "      <td>...</td>\n",
       "      <td>...</td>\n",
       "    </tr>\n",
       "    <tr>\n",
       "      <th>195</th>\n",
       "      <td>42145</td>\n",
       "      <td>Female</td>\n",
       "      <td>American Bulldog</td>\n",
       "      <td>Surely youÃ¢ÂÂve seen DottieÃ¢ÂÂs beautifu...</td>\n",
       "    </tr>\n",
       "    <tr>\n",
       "      <th>196</th>\n",
       "      <td>24570</td>\n",
       "      <td>Female</td>\n",
       "      <td>American Bulldog</td>\n",
       "      <td>Hi! My name is Cash. I am a very loving and af...</td>\n",
       "    </tr>\n",
       "    <tr>\n",
       "      <th>197</th>\n",
       "      <td>35850</td>\n",
       "      <td>Female</td>\n",
       "      <td>American Bulldog</td>\n",
       "      <td>*This dog IS available (unless photo shows ado...</td>\n",
       "    </tr>\n",
       "    <tr>\n",
       "      <th>198</th>\n",
       "      <td>28017</td>\n",
       "      <td>Female</td>\n",
       "      <td>American Bulldog</td>\n",
       "      <td>Dumpling was found as a stray shortly after sh...</td>\n",
       "    </tr>\n",
       "    <tr>\n",
       "      <th>199</th>\n",
       "      <td>39906</td>\n",
       "      <td>Female</td>\n",
       "      <td>American Bulldog</td>\n",
       "      <td>You can fill out an adoption application onlin...</td>\n",
       "    </tr>\n",
       "  </tbody>\n",
       "</table>\n",
       "<p>200 rows × 4 columns</p>\n",
       "</div>"
      ],
      "text/plain": [
       "     index     sex     breed_primary  \\\n",
       "0    32156  Female     Affenpinscher   \n",
       "1    54676  Female     Affenpinscher   \n",
       "2    24994  Female     Affenpinscher   \n",
       "3    51866  Female     Affenpinscher   \n",
       "4    32235  Female     Affenpinscher   \n",
       "..     ...     ...               ...   \n",
       "195  42145  Female  American Bulldog   \n",
       "196  24570  Female  American Bulldog   \n",
       "197  35850  Female  American Bulldog   \n",
       "198  28017  Female  American Bulldog   \n",
       "199  39906  Female  American Bulldog   \n",
       "\n",
       "                                           description  \n",
       "0    Elsie.jpgThank you for looking at our availabl...  \n",
       "1    Sweet older girl whose had a rough couple year...  \n",
       "2    To see even more click the following link:\\n\\n...  \n",
       "3    Norma Jean is an Affenpinscher mix girl that w...  \n",
       "4    55351.jpgThank you for looking at our availabl...  \n",
       "..                                                 ...  \n",
       "195  Surely youÃ¢ÂÂve seen DottieÃ¢ÂÂs beautifu...  \n",
       "196  Hi! My name is Cash. I am a very loving and af...  \n",
       "197  *This dog IS available (unless photo shows ado...  \n",
       "198  Dumpling was found as a stray shortly after sh...  \n",
       "199  You can fill out an adoption application onlin...  \n",
       "\n",
       "[200 rows x 4 columns]"
      ]
     },
     "execution_count": 7,
     "metadata": {},
     "output_type": "execute_result"
    }
   ],
   "source": [
    "duplicate_female2 = duplicate_female.iloc[0:200]\n",
    "duplicate_female2"
   ]
  },
  {
   "cell_type": "code",
   "execution_count": 8,
   "id": "3258af55",
   "metadata": {},
   "outputs": [],
   "source": [
    "def scannerDuplicate(tab): # TROPPO LENTO ESPONENZIALE\n",
    "    duplicate = {}\n",
    "    for i in range(len(tab)): # per scorrere tutte le righe\n",
    "        breed1 = tab.iloc[i]['breed_primary']\n",
    "        desc1 = tab.iloc[i]['description']\n",
    "        index1 = tab.iloc[i]['index']\n",
    "\n",
    "        for j in range(i+1,len(tab)): # scorrere le righe interne alla razza\n",
    "            breed2 = tab.iloc[j]['breed_primary']\n",
    "            desc2 = tab.iloc[j]['description']\n",
    "            index2 = tab.iloc[j]['index']\n",
    "\n",
    "            if breed1 == breed2: #se uguale razza allora faccio il confronto\n",
    "                if SequenceMatcher(None, desc1, desc2).ratio() >= 0.9: #se supera il 90% allora sono cloni e salvo i valori\n",
    "                    duplicate[index1]= 'duplicate'\n",
    "                    duplicate[index2]= 'duplicate of '+ str(index1)\n",
    "            else: #razza diversa fermo j e mando avanti i\n",
    "                break\n",
    "            \n",
    "            \n",
    "    print(duplicate)\n",
    "\n",
    "#questo funziona ma è molto lento"
   ]
  },
  {
   "cell_type": "code",
   "execution_count": 9,
   "id": "ec907045",
   "metadata": {},
   "outputs": [
    {
     "name": "stdout",
     "output_type": "stream",
     "text": [
      "{32156: 'duplicate', 32235: 'duplicate of 32156', 39499: 'duplicate', 39500: 'duplicate of 39499', 20300: 'duplicate', 20299: 'duplicate of 20300', 8256: 'duplicate', 8257: 'duplicate of 8256', 40039: 'duplicate', 40045: 'duplicate of 40039'}\n"
     ]
    }
   ],
   "source": [
    "res1 = scannerDuplicate(duplicate_female2)\n",
    "res1"
   ]
  },
  {
   "cell_type": "code",
   "execution_count": 10,
   "id": "247a899b",
   "metadata": {},
   "outputs": [],
   "source": [
    "# se nel ciclo dopo passo sopra ad una che è gia duplicata posso non ricontrollarla \n",
    "#(anchge se magari quelle dopo sono duplicate rispetto a questa in un modo leggermente diverso e con \n",
    "#la prima duplicazione non vengono viste perché < 90)\n",
    "\n",
    "def scannerDuplicate_senzaDuplicate(tab): \n",
    "    duplicate2 = {}\n",
    "    for i in range(len(tab)): # per scorrere tutte le righe\n",
    "        breed1 = tab.iloc[i]['breed_primary']\n",
    "        desc1 = tab.iloc[i]['description']\n",
    "        index1 = tab.iloc[i]['index']\n",
    "        \n",
    "        if index1 not in duplicate2: #se è contenuto significa che è gia stato calcolato\n",
    "            for j in range(i+1,len(tab)): # scorrere le righe interne alla razza\n",
    "                breed2 = tab.iloc[j]['breed_primary']\n",
    "                desc2 = tab.iloc[j]['description']\n",
    "                index2 = tab.iloc[j]['index']\n",
    "\n",
    "                if breed1 == breed2: #se uguale razza allora faccio il confronto\n",
    "                    if SequenceMatcher(None, desc1, desc2).ratio() >= 0.9: #se supera il 90% allora sono cloni e salvo i valori\n",
    "                        duplicate2[index1]= 'duplicate'\n",
    "                        duplicate2[index2]= 'duplicate'\n",
    "                else: #razza diversa fermo j e mando avanti i\n",
    "                    break\n",
    "\n",
    "        \n",
    "    print(duplicate2)\n",
    "# funziona e non ricalcola i duplicati, qualche ciclo in meno "
   ]
  },
  {
   "cell_type": "code",
   "execution_count": 11,
   "id": "10a9b2c4",
   "metadata": {},
   "outputs": [
    {
     "name": "stdout",
     "output_type": "stream",
     "text": [
      "{32156: 'duplicate', 32235: 'duplicate', 39499: 'duplicate', 39500: 'duplicate', 20300: 'duplicate', 20299: 'duplicate', 8256: 'duplicate', 8257: 'duplicate', 40039: 'duplicate', 40045: 'duplicate'}\n"
     ]
    }
   ],
   "source": [
    "res2 = scannerDuplicate_senzaDuplicate(duplicate_female2)\n",
    "res2"
   ]
  },
  {
   "cell_type": "code",
   "execution_count": null,
   "id": "1e495506",
   "metadata": {},
   "outputs": [],
   "source": []
  },
  {
   "cell_type": "code",
   "execution_count": null,
   "id": "9e1ee759",
   "metadata": {},
   "outputs": [],
   "source": []
  },
  {
   "cell_type": "code",
   "execution_count": null,
   "id": "5e07b6f0",
   "metadata": {},
   "outputs": [],
   "source": []
  },
  {
   "cell_type": "code",
   "execution_count": 14,
   "id": "eda2bbd5",
   "metadata": {},
   "outputs": [
    {
     "ename": "KeyboardInterrupt",
     "evalue": "",
     "output_type": "error",
     "traceback": [
      "\u001b[0;31m---------------------------------------------------------------------------\u001b[0m",
      "\u001b[0;31mKeyboardInterrupt\u001b[0m                         Traceback (most recent call last)",
      "Cell \u001b[0;32mIn [14], line 2\u001b[0m\n\u001b[1;32m      1\u001b[0m \u001b[38;5;66;03m#proviamo a lanciare 21:05\u001b[39;00m\n\u001b[0;32m----> 2\u001b[0m dup_female \u001b[38;5;241m=\u001b[39m \u001b[43mscannerDuplicate_senzaDuplicate\u001b[49m\u001b[43m(\u001b[49m\u001b[43mduplicate_female\u001b[49m\u001b[43m)\u001b[49m\n\u001b[1;32m      3\u001b[0m dup_female\n\u001b[1;32m      4\u001b[0m \u001b[38;5;66;03m# troppo lento \u001b[39;00m\n",
      "Cell \u001b[0;32mIn [10], line 19\u001b[0m, in \u001b[0;36mscannerDuplicate_senzaDuplicate\u001b[0;34m(tab)\u001b[0m\n\u001b[1;32m     16\u001b[0m index2 \u001b[38;5;241m=\u001b[39m tab\u001b[38;5;241m.\u001b[39miloc[j][\u001b[38;5;124m'\u001b[39m\u001b[38;5;124mindex\u001b[39m\u001b[38;5;124m'\u001b[39m]\n\u001b[1;32m     18\u001b[0m \u001b[38;5;28;01mif\u001b[39;00m breed1 \u001b[38;5;241m==\u001b[39m breed2: \u001b[38;5;66;03m#se uguale razza allora faccio il confronto\u001b[39;00m\n\u001b[0;32m---> 19\u001b[0m     \u001b[38;5;28;01mif\u001b[39;00m \u001b[43mSequenceMatcher\u001b[49m\u001b[43m(\u001b[49m\u001b[38;5;28;43;01mNone\u001b[39;49;00m\u001b[43m,\u001b[49m\u001b[43m \u001b[49m\u001b[43mdesc1\u001b[49m\u001b[43m,\u001b[49m\u001b[43m \u001b[49m\u001b[43mdesc2\u001b[49m\u001b[43m)\u001b[49m\u001b[38;5;241;43m.\u001b[39;49m\u001b[43mratio\u001b[49m\u001b[43m(\u001b[49m\u001b[43m)\u001b[49m \u001b[38;5;241m>\u001b[39m\u001b[38;5;241m=\u001b[39m \u001b[38;5;241m0.9\u001b[39m: \u001b[38;5;66;03m#se supera il 90% allora sono cloni e salvo i valori\u001b[39;00m\n\u001b[1;32m     20\u001b[0m         duplicate2[index1]\u001b[38;5;241m=\u001b[39m \u001b[38;5;124m'\u001b[39m\u001b[38;5;124mduplicate\u001b[39m\u001b[38;5;124m'\u001b[39m\n\u001b[1;32m     21\u001b[0m         duplicate2[index2]\u001b[38;5;241m=\u001b[39m \u001b[38;5;124m'\u001b[39m\u001b[38;5;124mduplicate\u001b[39m\u001b[38;5;124m'\u001b[39m\n",
      "File \u001b[0;32m/Library/Frameworks/Python.framework/Versions/3.11/lib/python3.11/difflib.py:619\u001b[0m, in \u001b[0;36mSequenceMatcher.ratio\u001b[0;34m(self)\u001b[0m\n\u001b[1;32m    597\u001b[0m \u001b[38;5;28;01mdef\u001b[39;00m \u001b[38;5;21mratio\u001b[39m(\u001b[38;5;28mself\u001b[39m):\n\u001b[1;32m    598\u001b[0m     \u001b[38;5;124;03m\"\"\"Return a measure of the sequences' similarity (float in [0,1]).\u001b[39;00m\n\u001b[1;32m    599\u001b[0m \n\u001b[1;32m    600\u001b[0m \u001b[38;5;124;03m    Where T is the total number of elements in both sequences, and\u001b[39;00m\n\u001b[0;32m   (...)\u001b[0m\n\u001b[1;32m    616\u001b[0m \u001b[38;5;124;03m    1.0\u001b[39;00m\n\u001b[1;32m    617\u001b[0m \u001b[38;5;124;03m    \"\"\"\u001b[39;00m\n\u001b[0;32m--> 619\u001b[0m     matches \u001b[38;5;241m=\u001b[39m \u001b[38;5;28msum\u001b[39m(triple[\u001b[38;5;241m-\u001b[39m\u001b[38;5;241m1\u001b[39m] \u001b[38;5;28;01mfor\u001b[39;00m triple \u001b[38;5;129;01min\u001b[39;00m \u001b[38;5;28;43mself\u001b[39;49m\u001b[38;5;241;43m.\u001b[39;49m\u001b[43mget_matching_blocks\u001b[49m\u001b[43m(\u001b[49m\u001b[43m)\u001b[49m)\n\u001b[1;32m    620\u001b[0m     \u001b[38;5;28;01mreturn\u001b[39;00m _calculate_ratio(matches, \u001b[38;5;28mlen\u001b[39m(\u001b[38;5;28mself\u001b[39m\u001b[38;5;241m.\u001b[39ma) \u001b[38;5;241m+\u001b[39m \u001b[38;5;28mlen\u001b[39m(\u001b[38;5;28mself\u001b[39m\u001b[38;5;241m.\u001b[39mb))\n",
      "File \u001b[0;32m/Library/Frameworks/Python.framework/Versions/3.11/lib/python3.11/difflib.py:454\u001b[0m, in \u001b[0;36mSequenceMatcher.get_matching_blocks\u001b[0;34m(self)\u001b[0m\n\u001b[1;32m    452\u001b[0m \u001b[38;5;28;01mwhile\u001b[39;00m queue:\n\u001b[1;32m    453\u001b[0m     alo, ahi, blo, bhi \u001b[38;5;241m=\u001b[39m queue\u001b[38;5;241m.\u001b[39mpop()\n\u001b[0;32m--> 454\u001b[0m     i, j, k \u001b[38;5;241m=\u001b[39m x \u001b[38;5;241m=\u001b[39m \u001b[38;5;28;43mself\u001b[39;49m\u001b[38;5;241;43m.\u001b[39;49m\u001b[43mfind_longest_match\u001b[49m\u001b[43m(\u001b[49m\u001b[43malo\u001b[49m\u001b[43m,\u001b[49m\u001b[43m \u001b[49m\u001b[43mahi\u001b[49m\u001b[43m,\u001b[49m\u001b[43m \u001b[49m\u001b[43mblo\u001b[49m\u001b[43m,\u001b[49m\u001b[43m \u001b[49m\u001b[43mbhi\u001b[49m\u001b[43m)\u001b[49m\n\u001b[1;32m    455\u001b[0m     \u001b[38;5;66;03m# a[alo:i] vs b[blo:j] unknown\u001b[39;00m\n\u001b[1;32m    456\u001b[0m     \u001b[38;5;66;03m# a[i:i+k] same as b[j:j+k]\u001b[39;00m\n\u001b[1;32m    457\u001b[0m     \u001b[38;5;66;03m# a[i+k:ahi] vs b[j+k:bhi] unknown\u001b[39;00m\n\u001b[1;32m    458\u001b[0m     \u001b[38;5;28;01mif\u001b[39;00m k:   \u001b[38;5;66;03m# if k is 0, there was no matching block\u001b[39;00m\n",
      "File \u001b[0;32m/Library/Frameworks/Python.framework/Versions/3.11/lib/python3.11/difflib.py:385\u001b[0m, in \u001b[0;36mSequenceMatcher.find_longest_match\u001b[0;34m(self, alo, ahi, blo, bhi)\u001b[0m\n\u001b[1;32m    383\u001b[0m \u001b[38;5;28;01mif\u001b[39;00m j \u001b[38;5;241m>\u001b[39m\u001b[38;5;241m=\u001b[39m bhi:\n\u001b[1;32m    384\u001b[0m     \u001b[38;5;28;01mbreak\u001b[39;00m\n\u001b[0;32m--> 385\u001b[0m k \u001b[38;5;241m=\u001b[39m newj2len[j] \u001b[38;5;241m=\u001b[39m j2lenget(j\u001b[38;5;241m-\u001b[39m\u001b[38;5;241m1\u001b[39m, \u001b[38;5;241m0\u001b[39m) \u001b[38;5;241m+\u001b[39m \u001b[38;5;241m1\u001b[39m\n\u001b[1;32m    386\u001b[0m \u001b[38;5;28;01mif\u001b[39;00m k \u001b[38;5;241m>\u001b[39m bestsize:\n\u001b[1;32m    387\u001b[0m     besti, bestj, bestsize \u001b[38;5;241m=\u001b[39m i\u001b[38;5;241m-\u001b[39mk\u001b[38;5;241m+\u001b[39m\u001b[38;5;241m1\u001b[39m, j\u001b[38;5;241m-\u001b[39mk\u001b[38;5;241m+\u001b[39m\u001b[38;5;241m1\u001b[39m, k\n",
      "\u001b[0;31mKeyboardInterrupt\u001b[0m: "
     ]
    }
   ],
   "source": [
    "#proviamo a lanciare 21:05\n",
    "dup_female = scannerDuplicate_senzaDuplicate(duplicate_female)\n",
    "dup_female\n",
    "# troppo lento "
   ]
  },
  {
   "cell_type": "code",
   "execution_count": null,
   "id": "46f83a25",
   "metadata": {},
   "outputs": [],
   "source": []
  }
 ],
 "metadata": {
  "kernelspec": {
   "display_name": "Python 3 (ipykernel)",
   "language": "python",
   "name": "python3"
  },
  "language_info": {
   "codemirror_mode": {
    "name": "ipython",
    "version": 3
   },
   "file_extension": ".py",
   "mimetype": "text/x-python",
   "name": "python",
   "nbconvert_exporter": "python",
   "pygments_lexer": "ipython3",
   "version": "3.11.0"
  }
 },
 "nbformat": 4,
 "nbformat_minor": 5
}
