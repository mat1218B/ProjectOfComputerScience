{
 "cells": [
  {
   "cell_type": "markdown",
   "id": "9af81cfb",
   "metadata": {},
   "source": [
    "# Foundations of Computer Science - progetto 2022/23"
   ]
  },
  {
   "cell_type": "markdown",
   "id": "852af1f3",
   "metadata": {},
   "source": [
    "- Mattia Birti [897092] \n",
    "- Alberto Porrini [826306]\n",
    "- Gloria Longo [864579]"
   ]
  },
  {
   "cell_type": "markdown",
   "id": "f53dd412",
   "metadata": {},
   "source": [
    "You have to work on the Dogs adoptions dataset:\n",
    "*  [Dogs](https://github.com/mat1218B/ProjectOfComputerScience/blob/main/adoptions/dogs.csv)\n",
    "*  [Dog Travel](https://github.com/mat1218B/ProjectOfComputerScience/blob/main/adoptions/dogTravel.csv)\n",
    "*  [NST-EST2021-POP](https://github.com/mat1218B/ProjectOfComputerScience/blob/main/adoptions/NST-EST2021-POP.csv)\n",
    "\n",
    "### Notes\n",
    "\n",
    "1. It is mandatory to use GitHub for developing the project.\n",
    "1. The project must be a jupyter notebook.\n",
    "1. There is no restriction on the libraries that can be used, nor on the Python version.\n",
    "1. All questions on the project must be asked in a public channel on Zulip.\n",
    "1. At most 3 students can be in each group. You must create the groups by yourself.\n",
    "1. You do not have to send me the project before the discussion.s"
   ]
  },
  {
   "cell_type": "markdown",
   "id": "e98afc1a",
   "metadata": {},
   "source": [
    "## Libraries"
   ]
  },
  {
   "cell_type": "code",
   "execution_count": 1,
   "id": "02c6c7b8",
   "metadata": {},
   "outputs": [],
   "source": [
    "import pandas as pd\n",
    "from datetime import datetime\n",
    "from difflib import SequenceMatcher"
   ]
  },
  {
   "cell_type": "markdown",
   "id": "aca61992",
   "metadata": {},
   "source": [
    "### Import data from GitHub"
   ]
  },
  {
   "cell_type": "markdown",
   "id": "a04897af",
   "metadata": {},
   "source": [
    "#### Dogs.csv"
   ]
  },
  {
   "cell_type": "code",
   "execution_count": 2,
   "id": "fac780e3",
   "metadata": {},
   "outputs": [],
   "source": [
    "dogs = pd.read_csv(\"https://raw.githubusercontent.com/mat1218B/ProjectOfComputerScience/main/adoptions/dogs.csv\", sep=\",\", encoding='latin-1')"
   ]
  },
  {
   "cell_type": "code",
   "execution_count": null,
   "id": "4623bf4e",
   "metadata": {},
   "outputs": [],
   "source": [
    "dogs.shape"
   ]
  },
  {
   "cell_type": "code",
   "execution_count": 5,
   "id": "028a543b",
   "metadata": {},
   "outputs": [
    {
     "data": {
      "text/html": [
       "<div>\n",
       "<style scoped>\n",
       "    .dataframe tbody tr th:only-of-type {\n",
       "        vertical-align: middle;\n",
       "    }\n",
       "\n",
       "    .dataframe tbody tr th {\n",
       "        vertical-align: top;\n",
       "    }\n",
       "\n",
       "    .dataframe thead th {\n",
       "        text-align: right;\n",
       "    }\n",
       "</style>\n",
       "<table border=\"1\" class=\"dataframe\">\n",
       "  <thead>\n",
       "    <tr style=\"text-align: right;\">\n",
       "      <th></th>\n",
       "      <th>id</th>\n",
       "      <th>org_id</th>\n",
       "      <th>url</th>\n",
       "      <th>type.x</th>\n",
       "      <th>species</th>\n",
       "      <th>breed_primary</th>\n",
       "      <th>breed_secondary</th>\n",
       "      <th>breed_mixed</th>\n",
       "      <th>breed_unknown</th>\n",
       "      <th>color_primary</th>\n",
       "      <th>...</th>\n",
       "      <th>contact_city</th>\n",
       "      <th>contact_state</th>\n",
       "      <th>contact_zip</th>\n",
       "      <th>contact_country</th>\n",
       "      <th>stateQ</th>\n",
       "      <th>accessed</th>\n",
       "      <th>type.y</th>\n",
       "      <th>description</th>\n",
       "      <th>stay_duration</th>\n",
       "      <th>stay_cost</th>\n",
       "    </tr>\n",
       "  </thead>\n",
       "  <tbody>\n",
       "    <tr>\n",
       "      <th>0</th>\n",
       "      <td>46042150</td>\n",
       "      <td>NV163</td>\n",
       "      <td>https://www.petfinder.com/dog/harley-46042150/...</td>\n",
       "      <td>Dog</td>\n",
       "      <td>Dog</td>\n",
       "      <td>American Staffordshire Terrier</td>\n",
       "      <td>Mixed Breed</td>\n",
       "      <td>True</td>\n",
       "      <td>False</td>\n",
       "      <td>White / Cream</td>\n",
       "      <td>...</td>\n",
       "      <td>Las Vegas</td>\n",
       "      <td>NV</td>\n",
       "      <td>89147</td>\n",
       "      <td>US</td>\n",
       "      <td>89009</td>\n",
       "      <td>2019-09-20</td>\n",
       "      <td>Dog</td>\n",
       "      <td>Harley is not sure how he wound up at shelter ...</td>\n",
       "      <td>70</td>\n",
       "      <td>124.81</td>\n",
       "    </tr>\n",
       "    <tr>\n",
       "      <th>1</th>\n",
       "      <td>46042002</td>\n",
       "      <td>NV163</td>\n",
       "      <td>https://www.petfinder.com/dog/biggie-46042002/...</td>\n",
       "      <td>Dog</td>\n",
       "      <td>Dog</td>\n",
       "      <td>Pit Bull Terrier</td>\n",
       "      <td>Mixed Breed</td>\n",
       "      <td>True</td>\n",
       "      <td>False</td>\n",
       "      <td>Brown / Chocolate</td>\n",
       "      <td>...</td>\n",
       "      <td>Las Vegas</td>\n",
       "      <td>NV</td>\n",
       "      <td>89147</td>\n",
       "      <td>US</td>\n",
       "      <td>89009</td>\n",
       "      <td>2019-09-20</td>\n",
       "      <td>Dog</td>\n",
       "      <td>6 year old Biggie has lost his home and really...</td>\n",
       "      <td>49</td>\n",
       "      <td>122.07</td>\n",
       "    </tr>\n",
       "    <tr>\n",
       "      <th>2</th>\n",
       "      <td>46040898</td>\n",
       "      <td>NV99</td>\n",
       "      <td>https://www.petfinder.com/dog/ziggy-46040898/n...</td>\n",
       "      <td>Dog</td>\n",
       "      <td>Dog</td>\n",
       "      <td>Shepherd</td>\n",
       "      <td>NaN</td>\n",
       "      <td>False</td>\n",
       "      <td>False</td>\n",
       "      <td>Brindle</td>\n",
       "      <td>...</td>\n",
       "      <td>Mesquite</td>\n",
       "      <td>NV</td>\n",
       "      <td>89027</td>\n",
       "      <td>US</td>\n",
       "      <td>89009</td>\n",
       "      <td>2019-09-20</td>\n",
       "      <td>Dog</td>\n",
       "      <td>Approx 2 years old.\\n Did I catch your eye? I ...</td>\n",
       "      <td>87</td>\n",
       "      <td>281.51</td>\n",
       "    </tr>\n",
       "    <tr>\n",
       "      <th>3</th>\n",
       "      <td>46039877</td>\n",
       "      <td>NV202</td>\n",
       "      <td>https://www.petfinder.com/dog/gypsy-46039877/n...</td>\n",
       "      <td>Dog</td>\n",
       "      <td>Dog</td>\n",
       "      <td>German Shepherd Dog</td>\n",
       "      <td>NaN</td>\n",
       "      <td>False</td>\n",
       "      <td>False</td>\n",
       "      <td>NaN</td>\n",
       "      <td>...</td>\n",
       "      <td>Pahrump</td>\n",
       "      <td>NV</td>\n",
       "      <td>89048</td>\n",
       "      <td>US</td>\n",
       "      <td>89009</td>\n",
       "      <td>2019-09-20</td>\n",
       "      <td>Dog</td>\n",
       "      <td>NaN</td>\n",
       "      <td>62</td>\n",
       "      <td>145.83</td>\n",
       "    </tr>\n",
       "    <tr>\n",
       "      <th>4</th>\n",
       "      <td>46039306</td>\n",
       "      <td>NV184</td>\n",
       "      <td>https://www.petfinder.com/dog/theo-46039306/nv...</td>\n",
       "      <td>Dog</td>\n",
       "      <td>Dog</td>\n",
       "      <td>Dachshund</td>\n",
       "      <td>NaN</td>\n",
       "      <td>False</td>\n",
       "      <td>False</td>\n",
       "      <td>NaN</td>\n",
       "      <td>...</td>\n",
       "      <td>Henderson</td>\n",
       "      <td>NV</td>\n",
       "      <td>89052</td>\n",
       "      <td>US</td>\n",
       "      <td>89009</td>\n",
       "      <td>2019-09-20</td>\n",
       "      <td>Dog</td>\n",
       "      <td>Theo is a friendly dachshund mix who gets alon...</td>\n",
       "      <td>93</td>\n",
       "      <td>241.09</td>\n",
       "    </tr>\n",
       "  </tbody>\n",
       "</table>\n",
       "<p>5 rows × 37 columns</p>\n",
       "</div>"
      ],
      "text/plain": [
       "         id org_id                                                url type.x  \\\n",
       "0  46042150  NV163  https://www.petfinder.com/dog/harley-46042150/...    Dog   \n",
       "1  46042002  NV163  https://www.petfinder.com/dog/biggie-46042002/...    Dog   \n",
       "2  46040898   NV99  https://www.petfinder.com/dog/ziggy-46040898/n...    Dog   \n",
       "3  46039877  NV202  https://www.petfinder.com/dog/gypsy-46039877/n...    Dog   \n",
       "4  46039306  NV184  https://www.petfinder.com/dog/theo-46039306/nv...    Dog   \n",
       "\n",
       "  species                   breed_primary breed_secondary  breed_mixed  \\\n",
       "0     Dog  American Staffordshire Terrier     Mixed Breed         True   \n",
       "1     Dog                Pit Bull Terrier     Mixed Breed         True   \n",
       "2     Dog                        Shepherd             NaN        False   \n",
       "3     Dog             German Shepherd Dog             NaN        False   \n",
       "4     Dog                       Dachshund             NaN        False   \n",
       "\n",
       "   breed_unknown      color_primary  ... contact_city contact_state  \\\n",
       "0          False      White / Cream  ...    Las Vegas            NV   \n",
       "1          False  Brown / Chocolate  ...    Las Vegas            NV   \n",
       "2          False            Brindle  ...     Mesquite            NV   \n",
       "3          False                NaN  ...      Pahrump            NV   \n",
       "4          False                NaN  ...    Henderson            NV   \n",
       "\n",
       "  contact_zip contact_country stateQ    accessed  type.y  \\\n",
       "0       89147              US  89009  2019-09-20     Dog   \n",
       "1       89147              US  89009  2019-09-20     Dog   \n",
       "2       89027              US  89009  2019-09-20     Dog   \n",
       "3       89048              US  89009  2019-09-20     Dog   \n",
       "4       89052              US  89009  2019-09-20     Dog   \n",
       "\n",
       "                                         description  stay_duration  stay_cost  \n",
       "0  Harley is not sure how he wound up at shelter ...             70     124.81  \n",
       "1  6 year old Biggie has lost his home and really...             49     122.07  \n",
       "2  Approx 2 years old.\\n Did I catch your eye? I ...             87     281.51  \n",
       "3                                                NaN             62     145.83  \n",
       "4  Theo is a friendly dachshund mix who gets alon...             93     241.09  \n",
       "\n",
       "[5 rows x 37 columns]"
      ]
     },
     "execution_count": 5,
     "metadata": {},
     "output_type": "execute_result"
    }
   ],
   "source": [
    "dogs.head()"
   ]
  },
  {
   "cell_type": "markdown",
   "id": "d8392cf3",
   "metadata": {},
   "source": [
    "#### DogTravel.csv"
   ]
  },
  {
   "cell_type": "code",
   "execution_count": null,
   "id": "c5e16de5",
   "metadata": {},
   "outputs": [],
   "source": [
    "dogTravel = pd.read_csv(\"https://raw.githubusercontent.com/mat1218B/ProjectOfComputerScience/main/adoptions/dogTravel.csv\", sep=\",\", encoding='latin-1')"
   ]
  },
  {
   "cell_type": "code",
   "execution_count": null,
   "id": "96f00d8a",
   "metadata": {},
   "outputs": [],
   "source": [
    "dogTravel.shape"
   ]
  },
  {
   "cell_type": "code",
   "execution_count": null,
   "id": "10227a8a",
   "metadata": {},
   "outputs": [],
   "source": [
    "dogTravel.head()"
   ]
  },
  {
   "cell_type": "markdown",
   "id": "cd6243e0",
   "metadata": {},
   "source": [
    "#### NST-EST.csv"
   ]
  },
  {
   "cell_type": "code",
   "execution_count": null,
   "id": "f9868fdf",
   "metadata": {},
   "outputs": [],
   "source": [
    "nstest = pd.read_csv(\"https://raw.githubusercontent.com/mat1218B/ProjectOfComputerScience/main/adoptions/NST-EST2021-POP.csv\", header=None, sep=\",\", encoding='latin-1')"
   ]
  },
  {
   "cell_type": "code",
   "execution_count": null,
   "id": "cbd3d644",
   "metadata": {},
   "outputs": [],
   "source": [
    "nstest.shape"
   ]
  },
  {
   "cell_type": "code",
   "execution_count": null,
   "id": "9f111eb6",
   "metadata": {},
   "outputs": [],
   "source": [
    "nstest.head()"
   ]
  },
  {
   "cell_type": "markdown",
   "id": "500717f3",
   "metadata": {},
   "source": [
    "## 1. Extract all dogs with status that is not adoptable"
   ]
  },
  {
   "cell_type": "markdown",
   "id": "c84b5de4",
   "metadata": {},
   "source": [
    "Explore the dog's column names"
   ]
  },
  {
   "cell_type": "code",
   "execution_count": null,
   "id": "45498b93",
   "metadata": {},
   "outputs": [],
   "source": [
    "dogs.columns"
   ]
  },
  {
   "cell_type": "markdown",
   "id": "4941925c",
   "metadata": {},
   "source": [
    "Explore the first row"
   ]
  },
  {
   "cell_type": "code",
   "execution_count": null,
   "id": "2b1d9619",
   "metadata": {},
   "outputs": [],
   "source": [
    "dogs.iloc[0,:]"
   ]
  },
  {
   "cell_type": "markdown",
   "id": "3f7d2146",
   "metadata": {},
   "source": [
    "We can see that there are two variables (posted, accessed) that contain dates, let's check if they are in the right format"
   ]
  },
  {
   "cell_type": "code",
   "execution_count": null,
   "id": "63ea6429",
   "metadata": {},
   "outputs": [],
   "source": [
    "type(dogs.loc[0, 'posted'])\n",
    "type(dogs.loc[0, 'accessed'])"
   ]
  },
  {
   "cell_type": "markdown",
   "id": "14f00305",
   "metadata": {},
   "source": [
    "Since they are in string format, we convert them to date format"
   ]
  },
  {
   "cell_type": "code",
   "execution_count": null,
   "id": "1bea5bef",
   "metadata": {},
   "outputs": [],
   "source": [
    "#for i in range(len(dogs)):\n",
    "        #dogs.loc[i, 'posted']=datetime.strptime(dogs.loc[i,'posted'], \"%Y-%m-%dT%H:%M:%S+0000\")\n",
    "        #dogs.loc[i,'accessed']=datetime.strptime(dogs.loc[i,'accessed'], \"%Y-%m-%d\")"
   ]
  },
  {
   "cell_type": "markdown",
   "id": "e287db32",
   "metadata": {},
   "source": [
    "We can see that there are some variables that do not contain a date, let's see which ones"
   ]
  },
  {
   "cell_type": "code",
   "execution_count": null,
   "id": "ed24e1f4",
   "metadata": {},
   "outputs": [],
   "source": [
    "for i in range(len(dogs)):\n",
    "    if(len(dogs.loc[i,'posted'])!=24):\n",
    "        print(dogs.iloc[i,])"
   ]
  },
  {
   "cell_type": "markdown",
   "id": "a1676532",
   "metadata": {},
   "source": [
    "The problem with these rows is that they have not been split properly in cell 'name'. Let's solve the problem and transform the dates into datatime format"
   ]
  },
  {
   "cell_type": "code",
   "execution_count": null,
   "id": "e710aff9",
   "metadata": {},
   "outputs": [],
   "source": [
    "for i in range(len(dogs)):\n",
    "    if(len(dogs.loc[i,'posted'])==24):\n",
    "        dogs.loc[i, 'posted']=datetime.strptime(dogs.loc[i,'posted'], \"%Y-%m-%dT%H:%M:%S+0000\")\n",
    "        dogs.loc[i,'accessed']=datetime.strptime(dogs.loc[i,'accessed'], \"%Y-%m-%d\")\n",
    "    else :\n",
    "        j=26\n",
    "        l=(dogs.iloc[i,24]).split(' ',1)\n",
    "        prov=dogs.iloc[i,25]\n",
    "        dogs.iloc[i,25]=l[1]\n",
    "        dogs.iloc[i,24]=l[0]\n",
    "        while(j<34):\n",
    "            prov2=dogs.iloc[i,j]\n",
    "            dogs.iloc[i,j]=prov\n",
    "            prov=prov2\n",
    "            j=j+1\n",
    "        dogs.loc[i, 'posted']=datetime.strptime(dogs.loc[i,'posted'], \"%Y-%m-%dT%H:%M:%S+0000\")\n",
    "        dogs.loc[i,'accessed']=datetime.strptime(dogs.loc[i,'accessed'], \"%Y-%m-%d\")"
   ]
  },
  {
   "cell_type": "markdown",
   "id": "982ac98a",
   "metadata": {},
   "source": [
    "Now we can solve this task using a 'while' loop which scrolls through all the rows of the dataframe and stores only the identification code of the dogs that have a status other than adoptable"
   ]
  },
  {
   "cell_type": "code",
   "execution_count": null,
   "id": "cf1e9db1",
   "metadata": {},
   "outputs": [],
   "source": [
    "lista=[]\n",
    "i=0\n",
    "while(i<len(dogs)):\n",
    "    if (dogs.loc[i,'status']!='adoptable'):\n",
    "        lista.append(dogs.loc[i,'id'])\n",
    "    i=i+1\n",
    "lista"
   ]
  },
  {
   "cell_type": "markdown",
   "id": "e8c70a9c",
   "metadata": {},
   "source": [
    "## 2. For each (primary) breed, determine the number of dogs"
   ]
  },
  {
   "cell_type": "code",
   "execution_count": null,
   "id": "e90ea6af",
   "metadata": {},
   "outputs": [],
   "source": [
    "dogs.groupby('breed_primary').count()['id']"
   ]
  },
  {
   "cell_type": "markdown",
   "id": "9f479cf0",
   "metadata": {},
   "source": [
    "## 3. For each (primary) breed, determine the ratio between the number of dogs of Mixed Breed and those not of Mixed Breed. Hint: look at the secondary_breed."
   ]
  },
  {
   "cell_type": "markdown",
   "id": "b7811f79",
   "metadata": {},
   "source": [
    "Let's see all the primary breed with a groupBy:"
   ]
  },
  {
   "cell_type": "code",
   "execution_count": null,
   "id": "a0aea096",
   "metadata": {},
   "outputs": [],
   "source": [
    "nBreed = dogs.groupby('breed_primary').count()[['species','breed_secondary']]\n",
    "nBreed"
   ]
  },
  {
   "cell_type": "markdown",
   "id": "fa127f0e",
   "metadata": {},
   "source": [
    "As we can see we can use \"species\" as total number of individues for this species.\n",
    "Affenpischer are in total 17 dogs, 2 of those are mixed breed."
   ]
  },
  {
   "cell_type": "markdown",
   "id": "a5e7a4da",
   "metadata": {},
   "source": [
    "Rename colums"
   ]
  },
  {
   "cell_type": "code",
   "execution_count": null,
   "id": "5b8c076e",
   "metadata": {},
   "outputs": [],
   "source": [
    "nBreed = nBreed.rename( columns = {'species':'total', 'breed_secondary':'nSecondary'})\n",
    "nBreed"
   ]
  },
  {
   "cell_type": "markdown",
   "id": "0ab2d92f",
   "metadata": {},
   "source": [
    "We have to compute how many are primary breed:"
   ]
  },
  {
   "cell_type": "code",
   "execution_count": null,
   "id": "026ea727",
   "metadata": {},
   "outputs": [],
   "source": [
    "nBreed['nPrimary'] = nBreed['total'] - nBreed['nSecondary']\n",
    "nBreed"
   ]
  },
  {
   "cell_type": "markdown",
   "id": "fdc4e947",
   "metadata": {},
   "source": [
    "It's time to compute the ratio between Primary and Secondary Breed."
   ]
  },
  {
   "cell_type": "code",
   "execution_count": null,
   "id": "21239240",
   "metadata": {},
   "outputs": [],
   "source": [
    "nBreed['ratioBreed'] = nBreed['nPrimary'] / nBreed['nSecondary']\n",
    "nBreed"
   ]
  },
  {
   "cell_type": "markdown",
   "id": "6c182af3",
   "metadata": {},
   "source": [
    "As we can see, there are many 'inf' values. It is correct because for that breed there are not any secondary breed."
   ]
  },
  {
   "cell_type": "markdown",
   "id": "8f6e22b3",
   "metadata": {},
   "source": [
    "## 4. For each (primary) breed, determine the earliest and the latest posted timestamp."
   ]
  },
  {
   "cell_type": "markdown",
   "id": "da374518",
   "metadata": {},
   "source": [
    "We use the group by method to solve this task starting from the latest posted timestamp."
   ]
  },
  {
   "cell_type": "code",
   "execution_count": null,
   "id": "1ad51b58",
   "metadata": {},
   "outputs": [],
   "source": [
    "df_new = dogs[dogs.groupby('breed_primary')['posted'].transform('max') == dogs['posted']]\n",
    "df_new.loc[ :, ['breed_primary', 'posted']]"
   ]
  },
  {
   "cell_type": "code",
   "execution_count": null,
   "id": "1af7d24c",
   "metadata": {},
   "outputs": [],
   "source": [
    "df_new = dogs[dogs.groupby('breed_primary')['posted'].transform('min') == dogs['posted']]\n",
    "df_new.loc[ :, ['breed_primary', 'posted']]"
   ]
  },
  {
   "cell_type": "markdown",
   "id": "0fafaf8d",
   "metadata": {},
   "source": [
    "## 5. For each state, compute the sex imbalance, that is the difference between male and female dogs. In which state this imbalance is largest?"
   ]
  },
  {
   "cell_type": "markdown",
   "id": "e6994df9",
   "metadata": {},
   "source": [
    "we create a table with count of male dogs for each state (contanct_state) "
   ]
  },
  {
   "cell_type": "code",
   "execution_count": null,
   "id": "5b16b042",
   "metadata": {},
   "outputs": [],
   "source": [
    "dog_male=dogs[dogs['sex']=='Male']\n",
    "dog_male=dog_male.groupby(['contact_state'])[['sex']].count()\n",
    "dog_male.tail()"
   ]
  },
  {
   "cell_type": "markdown",
   "id": "f4a9b39f",
   "metadata": {},
   "source": [
    "we recreate the same table that we have done before with female dogs for each state"
   ]
  },
  {
   "cell_type": "code",
   "execution_count": null,
   "id": "d367dbe0",
   "metadata": {},
   "outputs": [],
   "source": [
    "dog_female=dogs[dogs['sex']=='Female']\n",
    "dog_female=dog_female.groupby(['contact_state'])[['sex']].count()\n",
    "dog_female.tail()"
   ]
  },
  {
   "cell_type": "markdown",
   "id": "72a08e6d",
   "metadata": {},
   "source": [
    "we create a new table call \"dog_sex\" thanks to merge between male dogs and female dogs on contact_state"
   ]
  },
  {
   "cell_type": "code",
   "execution_count": null,
   "id": "59904e41",
   "metadata": {},
   "outputs": [],
   "source": [
    "dog_sex=pd.merge(dog_male,dog_female,on=\"contact_state\")\n",
    "dog_sex.rename( columns = {'sex_x':'tot_male','sex_y':'tot_female'})\n",
    "dog_sex=dog_sex.rename( columns = {'sex_x':'tot_male','sex_y':'tot_female'})\n",
    "dog_sex.tail()"
   ]
  },
  {
   "cell_type": "markdown",
   "id": "5173d73f",
   "metadata": {},
   "source": [
    "we compute the imbalance like difference between male and female dogs and after we calculate the absolute value of the imbalance given that we consider only positive value of imbalance for each contact_state"
   ]
  },
  {
   "cell_type": "code",
   "execution_count": null,
   "id": "80614e1b",
   "metadata": {},
   "outputs": [],
   "source": [
    "dog_sex[\"imbalance\"]=dog_sex[\"tot_male\"]-dog_sex[\"tot_female\"]\n",
    "dog_sex[\"imbalance\"]=abs(dog_sex[\"imbalance\"])\n",
    "dog_sex.tail()"
   ]
  },
  {
   "cell_type": "markdown",
   "id": "e626bee8",
   "metadata": {},
   "source": [
    "we found the state with the largest imbalance"
   ]
  },
  {
   "cell_type": "code",
   "execution_count": null,
   "id": "4c45f1eb",
   "metadata": {},
   "outputs": [],
   "source": [
    "dog_sex[dog_sex[\"imbalance\"]==dog_sex[\"imbalance\"].max()]"
   ]
  },
  {
   "cell_type": "code",
   "execution_count": null,
   "id": "2e632481",
   "metadata": {},
   "outputs": [],
   "source": [
    "dog_sex[\"imbalance\"].nlargest(1)"
   ]
  },
  {
   "cell_type": "markdown",
   "id": "191c87c7",
   "metadata": {},
   "source": [
    "## 6. For each pair (age, size), determine the average duration of the stay and the average cost of stay."
   ]
  },
  {
   "cell_type": "markdown",
   "id": "cb709be2",
   "metadata": {},
   "source": [
    "Explore the dog's column names"
   ]
  },
  {
   "cell_type": "code",
   "execution_count": null,
   "id": "e434c6ec",
   "metadata": {},
   "outputs": [],
   "source": [
    "dogs.columns"
   ]
  },
  {
   "cell_type": "markdown",
   "id": "30ecce63",
   "metadata": {},
   "source": [
    "Compute the mean of the stay duration and stay cost for the pair AGE, SIZE;"
   ]
  },
  {
   "cell_type": "code",
   "execution_count": null,
   "id": "dc608de9",
   "metadata": {},
   "outputs": [],
   "source": [
    "AgeSize = dogs.groupby(['age', 'size'])[['stay_duration','stay_cost']].mean()\n",
    "AgeSize"
   ]
  },
  {
   "cell_type": "markdown",
   "id": "66f34567",
   "metadata": {},
   "source": [
    "## 7. Find the dogs involved in at least 3 travels. Also list the breed of those dogs."
   ]
  },
  {
   "cell_type": "markdown",
   "id": "eb899836",
   "metadata": {},
   "source": [
    "Let's start grouping the dataset by the variable id"
   ]
  },
  {
   "cell_type": "code",
   "execution_count": null,
   "id": "4b1cbd93",
   "metadata": {},
   "outputs": [],
   "source": [
    "count=dogTravel.groupby('id').count()"
   ]
  },
  {
   "cell_type": "markdown",
   "id": "7474f6fc",
   "metadata": {},
   "source": [
    "We reset the index"
   ]
  },
  {
   "cell_type": "code",
   "execution_count": null,
   "id": "3e417a00",
   "metadata": {},
   "outputs": [],
   "source": [
    "count.reset_index(inplace=True)"
   ]
  },
  {
   "cell_type": "markdown",
   "id": "89d007b6",
   "metadata": {},
   "source": [
    "Now we compute a list of only dogs that have made at least 2 trips"
   ]
  },
  {
   "cell_type": "code",
   "execution_count": null,
   "id": "d50f450e",
   "metadata": {},
   "outputs": [],
   "source": [
    "list_index=(count[count['index']>2])['id'].tolist()"
   ]
  },
  {
   "cell_type": "markdown",
   "id": "f6d67755",
   "metadata": {},
   "source": [
    "Finally we build a dictionary having as key the identification code of the dog that has made at least 2 trips, and as value its primary breed. \n",
    "To do this a for loop will be used which compares each identification code of the dog in the staring dataset with those contained in the list created above\n",
    "\n"
   ]
  },
  {
   "cell_type": "code",
   "execution_count": null,
   "id": "53070755",
   "metadata": {},
   "outputs": [],
   "source": [
    "diz={}\n",
    "for index in list_index:\n",
    "    for i in range(len(dogs)):\n",
    "        if (dogs.loc[i, 'id']==index):\n",
    "            diz[dogs.loc[i, 'id']]= dogs.loc[i, 'breed_primary']\n",
    "diz"
   ]
  },
  {
   "cell_type": "markdown",
   "id": "19baf871",
   "metadata": {},
   "source": [
    "## 8. Fix the travels table so that the correct state is computed from the manual and the found fields. If manual is not missing, then it overrides what is stored in found."
   ]
  },
  {
   "cell_type": "markdown",
   "id": "58972a0a",
   "metadata": {},
   "source": [
    "To resolve the question, we create two different tables, the first table is compose with only observation field manual full."
   ]
  },
  {
   "cell_type": "code",
   "execution_count": null,
   "id": "392f4e47",
   "metadata": {},
   "outputs": [],
   "source": [
    "manual_not_na=dogTravel[dogTravel['manual'].notna()]\n",
    "manual_not_na"
   ]
  },
  {
   "cell_type": "markdown",
   "id": "67c0f62f",
   "metadata": {},
   "source": [
    "in this table we create a new column (\"correct_state\") with the same values in manual (cause are the values that will be overrides in found column)"
   ]
  },
  {
   "cell_type": "code",
   "execution_count": null,
   "id": "850375e7",
   "metadata": {},
   "outputs": [],
   "source": [
    "manual_not_na[\"correct_state\"] = manual_not_na[\"manual\"]\n",
    "manual_not_na"
   ]
  },
  {
   "cell_type": "markdown",
   "id": "44c7a201",
   "metadata": {},
   "source": [
    "on second table, we subset only the observations with empty manual values"
   ]
  },
  {
   "cell_type": "code",
   "execution_count": null,
   "id": "2a182223",
   "metadata": {},
   "outputs": [],
   "source": [
    "manual_na=dogTravel[dogTravel['manual'].isna()]\n",
    "manual_na"
   ]
  },
  {
   "cell_type": "markdown",
   "id": "a67db6d6",
   "metadata": {},
   "source": [
    "in this table we create a new column (\"correct_state\") with the same values in found (cause are the values that will be not overrides)"
   ]
  },
  {
   "cell_type": "code",
   "execution_count": null,
   "id": "6cb6a2fd",
   "metadata": {},
   "outputs": [],
   "source": [
    "manual_na[\"correct_state\"] = manual_na[\"found\"]\n",
    "manual_na"
   ]
  },
  {
   "cell_type": "markdown",
   "id": "73e6bcc8",
   "metadata": {},
   "source": [
    "subsequantly we recreate a new df with the concatenate of the two tables that we had created before, and we order them with index sort"
   ]
  },
  {
   "cell_type": "code",
   "execution_count": null,
   "id": "7e15e3d7",
   "metadata": {},
   "outputs": [],
   "source": [
    "df=pd.concat([manual_na,manual_not_na])\n",
    "df=df.sort_index()\n",
    "df"
   ]
  },
  {
   "cell_type": "markdown",
   "id": "b66183e0",
   "metadata": {},
   "source": [
    "now we have got a column correct_state complete with the values overrides and not overrides, so we replace that values at the column found of dogTravel dataframe and we ending the point"
   ]
  },
  {
   "cell_type": "code",
   "execution_count": null,
   "id": "1567af28",
   "metadata": {},
   "outputs": [],
   "source": [
    "dogTravel[\"found\"]=df[\"correct_state\"]\n",
    "dogTravel"
   ]
  },
  {
   "cell_type": "markdown",
   "id": "9b2db82c",
   "metadata": {},
   "source": [
    "In the last result, we have got in found column the manual values only if they are not \"NaN\" "
   ]
  },
  {
   "cell_type": "markdown",
   "id": "0db10e2f",
   "metadata": {},
   "source": [
    "## 9. For each state, compute the ratio between the number of travels and the population."
   ]
  },
  {
   "cell_type": "code",
   "execution_count": null,
   "id": "2b929956",
   "metadata": {},
   "outputs": [],
   "source": [
    "import pycountry #have to install it (pip install pycountry)"
   ]
  },
  {
   "cell_type": "markdown",
   "id": "6949b27c",
   "metadata": {},
   "source": [
    "### First Dataset Analysis"
   ]
  },
  {
   "cell_type": "code",
   "execution_count": null,
   "id": "a33adadf",
   "metadata": {},
   "outputs": [],
   "source": [
    "dogTravel.shape #number of total travell done"
   ]
  },
  {
   "cell_type": "code",
   "execution_count": null,
   "id": "81949ea7",
   "metadata": {},
   "outputs": [],
   "source": [
    "dogTravel.groupby(['contact_state']).count().shape \n",
    "#number of countries that have made trips"
   ]
  },
  {
   "cell_type": "code",
   "execution_count": null,
   "id": "0e4e4731",
   "metadata": {},
   "outputs": [],
   "source": [
    "nstest.shape #number of country in csv population"
   ]
  },
  {
   "cell_type": "markdown",
   "id": "b2c0fe32",
   "metadata": {},
   "source": [
    "51 states, 45 states that have made trips, total trips 6149"
   ]
  },
  {
   "cell_type": "code",
   "execution_count": null,
   "id": "3c287474",
   "metadata": {},
   "outputs": [],
   "source": [
    "#change label\n",
    "nTravelForState = dogTravel.groupby(['contact_state']).count()[['index']].reset_index().rename(columns={'contact_state':'state', 'index':'nTravel'})\n",
    "nTravelForState.head()"
   ]
  },
  {
   "cell_type": "code",
   "execution_count": null,
   "id": "f65eaa71",
   "metadata": {},
   "outputs": [],
   "source": [
    "nTravelForState['nTravel'].sum() #sum is correct"
   ]
  },
  {
   "cell_type": "code",
   "execution_count": null,
   "id": "a6d91ad4",
   "metadata": {},
   "outputs": [],
   "source": [
    "nTravelForState.shape"
   ]
  },
  {
   "cell_type": "markdown",
   "id": "c70b59f8",
   "metadata": {},
   "source": [
    "### There is an error"
   ]
  },
  {
   "cell_type": "code",
   "execution_count": null,
   "id": "57aac80c",
   "metadata": {},
   "outputs": [],
   "source": [
    "dogTravel[dogTravel['contact_state'] == '17325']"
   ]
  },
  {
   "cell_type": "markdown",
   "id": "2f147635",
   "metadata": {},
   "source": [
    "The number refers to state of Pensylvania. It needs to be corrected"
   ]
  },
  {
   "cell_type": "code",
   "execution_count": null,
   "id": "f07386fb",
   "metadata": {},
   "outputs": [],
   "source": [
    "nTravelForState[nTravelForState['state']=='PA']"
   ]
  },
  {
   "cell_type": "code",
   "execution_count": null,
   "id": "f8022991",
   "metadata": {},
   "outputs": [],
   "source": [
    "#take the 2 values\n",
    "PAerr = nTravelForState[nTravelForState['state'] == '17325']['nTravel']\n",
    "PAcorr = nTravelForState[nTravelForState['state'] == 'PA']['nTravel']"
   ]
  },
  {
   "cell_type": "code",
   "execution_count": null,
   "id": "464a8cc4",
   "metadata": {},
   "outputs": [],
   "source": [
    "#delete the wrong row\n",
    "nTravelForState = nTravelForState.drop(nTravelForState.index[nTravelForState['state'] == '17325']).reset_index()"
   ]
  },
  {
   "cell_type": "code",
   "execution_count": null,
   "id": "a24ee1a4",
   "metadata": {},
   "outputs": [],
   "source": [
    "nTravelForState.head()"
   ]
  },
  {
   "cell_type": "code",
   "execution_count": null,
   "id": "9820a9da",
   "metadata": {},
   "outputs": [],
   "source": [
    "#Add the right value\n",
    "nTravelForState.loc[nTravelForState['state']=='PA', 'nTravel'] = sum(PAcorr, PAerr).values\n",
    "nTravelForState[nTravelForState['state'] == 'PA']"
   ]
  },
  {
   "cell_type": "markdown",
   "id": "770ac5a9",
   "metadata": {},
   "source": [
    "#### Country that have made trips become 43"
   ]
  },
  {
   "cell_type": "markdown",
   "id": "1ccf44b5",
   "metadata": {},
   "source": [
    "### Table State and Popolation"
   ]
  },
  {
   "cell_type": "code",
   "execution_count": null,
   "id": "1d2b4ed4",
   "metadata": {},
   "outputs": [],
   "source": [
    "nstest[1] = nstest[1].str.replace('.','')"
   ]
  },
  {
   "cell_type": "code",
   "execution_count": null,
   "id": "5e14a719",
   "metadata": {
    "scrolled": true
   },
   "outputs": [],
   "source": [
    "state = nstest.rename(columns = {0:'state', 1:'nPopulation'})\n",
    "state.head()"
   ]
  },
  {
   "cell_type": "markdown",
   "id": "fcb8021c",
   "metadata": {},
   "source": [
    "#### Add state code"
   ]
  },
  {
   "cell_type": "code",
   "execution_count": null,
   "id": "a545ad55",
   "metadata": {},
   "outputs": [],
   "source": [
    "def findCountryAlpha2 (country_name):\n",
    "    try:\n",
    "        sub = pycountry.subdivisions.lookup(country_name)\n",
    "        sample_str = sub.code\n",
    "        stateCode = sub.code[-2:]\n",
    "        return stateCode\n",
    "    except:\n",
    "        return (\"not founded!\")\n",
    "\n",
    "state['state_code'] = state.apply(lambda row: findCountryAlpha2(row.state) , axis = 1)\n",
    "state.head()"
   ]
  },
  {
   "cell_type": "markdown",
   "id": "44a736e9",
   "metadata": {},
   "source": [
    "### Still errors"
   ]
  },
  {
   "cell_type": "markdown",
   "id": "d6670408",
   "metadata": {},
   "source": [
    "#### MT"
   ]
  },
  {
   "cell_type": "code",
   "execution_count": null,
   "id": "36d3bfc8",
   "metadata": {},
   "outputs": [],
   "source": [
    "#Library pycountry has a code wrong for Montana state\n",
    "state[state['state']=='Montana']"
   ]
  },
  {
   "cell_type": "code",
   "execution_count": null,
   "id": "bb4c3bd9",
   "metadata": {},
   "outputs": [],
   "source": [
    "state.loc[state['state']=='Montana', 'state_code'] = 'MT'\n",
    "state[state['state']=='Montana']"
   ]
  },
  {
   "cell_type": "markdown",
   "id": "a5cd9192",
   "metadata": {},
   "source": [
    "#### MY"
   ]
  },
  {
   "cell_type": "code",
   "execution_count": null,
   "id": "bd4e1ec9",
   "metadata": {},
   "outputs": [],
   "source": [
    "# another error in library pycountry referred to Maryland code state\n",
    "state[state['state']=='Maryland']"
   ]
  },
  {
   "cell_type": "code",
   "execution_count": null,
   "id": "cd582489",
   "metadata": {},
   "outputs": [],
   "source": [
    "state.loc[state['state']=='Maryland', 'state_code'] = 'MD'\n",
    "state[state['state']=='Maryland']"
   ]
  },
  {
   "cell_type": "markdown",
   "id": "f647bc88",
   "metadata": {},
   "source": [
    "#### CSV nstest"
   ]
  },
  {
   "cell_type": "code",
   "execution_count": null,
   "id": "48a15b04",
   "metadata": {},
   "outputs": [],
   "source": [
    "#there are some state_code NB which are the same state that NJ\n",
    "nTravelForState[nTravelForState['state']=='NB']"
   ]
  },
  {
   "cell_type": "code",
   "execution_count": null,
   "id": "ec7c54c5",
   "metadata": {},
   "outputs": [],
   "source": [
    "nTravelForState[nTravelForState['state']=='NJ']"
   ]
  },
  {
   "cell_type": "code",
   "execution_count": null,
   "id": "8bcd3251",
   "metadata": {},
   "outputs": [],
   "source": [
    "NJerr = nTravelForState[nTravelForState['state'] == 'NB']['nTravel']\n",
    "NJcorr = nTravelForState[nTravelForState['state'] == 'NJ']['nTravel']"
   ]
  },
  {
   "cell_type": "code",
   "execution_count": null,
   "id": "919be192",
   "metadata": {},
   "outputs": [],
   "source": [
    "#delete the wrong row\n",
    "nTravelForState = nTravelForState.drop(nTravelForState.index[nTravelForState['state'] == 'NB']).reset_index()"
   ]
  },
  {
   "cell_type": "code",
   "execution_count": null,
   "id": "3e6ea3de",
   "metadata": {},
   "outputs": [],
   "source": [
    "#salvo il valore in NJ\n",
    "nTravelForState.loc[nTravelForState['state']=='NJ', 'nTravel'] = sum(NJcorr, NJerr).values\n",
    "nTravelForState[nTravelForState['state'] == 'NJ']"
   ]
  },
  {
   "cell_type": "markdown",
   "id": "41e61aa0",
   "metadata": {},
   "source": [
    "#### Now the number of country that have done trips are 43"
   ]
  },
  {
   "cell_type": "markdown",
   "id": "0a2e42da",
   "metadata": {},
   "source": [
    "### Merging time"
   ]
  },
  {
   "cell_type": "code",
   "execution_count": null,
   "id": "ae5c3511",
   "metadata": {},
   "outputs": [],
   "source": [
    "table_travel_for_state = pd.merge(state, nTravelForState, left_on='state_code', right_on='state')[['state_x', 'nPopulation', 'nTravel']]\n",
    "table_travel_for_state.head()"
   ]
  },
  {
   "cell_type": "code",
   "execution_count": null,
   "id": "eb87e903",
   "metadata": {},
   "outputs": [],
   "source": [
    "#check if sum is correct\n",
    "table_travel_for_state['nTravel'].sum()"
   ]
  },
  {
   "cell_type": "markdown",
   "id": "835cbb62",
   "metadata": {},
   "source": [
    "### Add ratio between the number of travels and the population"
   ]
  },
  {
   "cell_type": "code",
   "execution_count": null,
   "id": "593b94e8",
   "metadata": {},
   "outputs": [],
   "source": [
    "table_travel_for_state['nPopulation'] = table_travel_for_state['nPopulation'].apply(pd.to_numeric)"
   ]
  },
  {
   "cell_type": "code",
   "execution_count": null,
   "id": "6c75d92b",
   "metadata": {},
   "outputs": [],
   "source": [
    "table_travel_for_state['ratio_Travel_Population'] = table_travel_for_state['nPopulation'] / table_travel_for_state['nTravel']\n",
    "table_travel_for_state.head()"
   ]
  },
  {
   "cell_type": "markdown",
   "id": "cee0a5ec",
   "metadata": {},
   "source": [
    "## 10. For each dog, compute the number of days from the posted day to the day of last access."
   ]
  },
  {
   "cell_type": "markdown",
   "id": "e1ab6a6c",
   "metadata": {},
   "source": [
    "To solve this task the difference between the column 'posted' and the column 'accessed' will be calculated.\n",
    "The information obtained will be stored in a dictionary having the dog's identification code as the key and \n",
    "the days between the posted day and the last access as value.\n",
    "\n"
   ]
  },
  {
   "cell_type": "code",
   "execution_count": null,
   "id": "76c27e22",
   "metadata": {},
   "outputs": [],
   "source": [
    "diz={}\n",
    "for i in range(len(dogs)):\n",
    "    diz[dogs.loc[i,'id']]= -1*(dogs.loc[i, 'posted'] - dogs.loc[i, 'accessed']).days\n",
    "diz"
   ]
  },
  {
   "cell_type": "markdown",
   "id": "9dec9040",
   "metadata": {},
   "source": [
    "## 11. Partition the dogs according to the number of weeks from the posted day to the day of last access."
   ]
  },
  {
   "cell_type": "code",
   "execution_count": null,
   "id": "4c2af0ec",
   "metadata": {},
   "outputs": [],
   "source": []
  },
  {
   "cell_type": "markdown",
   "id": "bd42d6f1",
   "metadata": {},
   "source": [
    "## 12. Find for duplicates in the dogs dataset. Two records are duplicates if they have (1) same breeds and sex, and (2) they share at least 90% of the words in the description field. Extra points if you find and implement a more refined for determining if two rows are duplicates."
   ]
  },
  {
   "cell_type": "code",
   "execution_count": 3,
   "id": "00356259",
   "metadata": {},
   "outputs": [
    {
     "data": {
      "text/html": [
       "<div>\n",
       "<style scoped>\n",
       "    .dataframe tbody tr th:only-of-type {\n",
       "        vertical-align: middle;\n",
       "    }\n",
       "\n",
       "    .dataframe tbody tr th {\n",
       "        vertical-align: top;\n",
       "    }\n",
       "\n",
       "    .dataframe thead th {\n",
       "        text-align: right;\n",
       "    }\n",
       "</style>\n",
       "<table border=\"1\" class=\"dataframe\">\n",
       "  <thead>\n",
       "    <tr style=\"text-align: right;\">\n",
       "      <th></th>\n",
       "      <th>id</th>\n",
       "      <th>sex</th>\n",
       "      <th>breed_primary</th>\n",
       "      <th>description</th>\n",
       "    </tr>\n",
       "  </thead>\n",
       "  <tbody>\n",
       "    <tr>\n",
       "      <th>0</th>\n",
       "      <td>46042150</td>\n",
       "      <td>Male</td>\n",
       "      <td>American Staffordshire Terrier</td>\n",
       "      <td>Harley is not sure how he wound up at shelter ...</td>\n",
       "    </tr>\n",
       "    <tr>\n",
       "      <th>1</th>\n",
       "      <td>46042002</td>\n",
       "      <td>Male</td>\n",
       "      <td>Pit Bull Terrier</td>\n",
       "      <td>6 year old Biggie has lost his home and really...</td>\n",
       "    </tr>\n",
       "    <tr>\n",
       "      <th>2</th>\n",
       "      <td>46040898</td>\n",
       "      <td>Male</td>\n",
       "      <td>Shepherd</td>\n",
       "      <td>Approx 2 years old.\\n Did I catch your eye? I ...</td>\n",
       "    </tr>\n",
       "    <tr>\n",
       "      <th>3</th>\n",
       "      <td>46039877</td>\n",
       "      <td>Female</td>\n",
       "      <td>German Shepherd Dog</td>\n",
       "      <td>NaN</td>\n",
       "    </tr>\n",
       "    <tr>\n",
       "      <th>4</th>\n",
       "      <td>46039306</td>\n",
       "      <td>Male</td>\n",
       "      <td>Dachshund</td>\n",
       "      <td>Theo is a friendly dachshund mix who gets alon...</td>\n",
       "    </tr>\n",
       "    <tr>\n",
       "      <th>...</th>\n",
       "      <td>...</td>\n",
       "      <td>...</td>\n",
       "      <td>...</td>\n",
       "      <td>...</td>\n",
       "    </tr>\n",
       "    <tr>\n",
       "      <th>58175</th>\n",
       "      <td>44605893</td>\n",
       "      <td>Male</td>\n",
       "      <td>Border Collie</td>\n",
       "      <td>Due to the small size of our volunteer base, w...</td>\n",
       "    </tr>\n",
       "    <tr>\n",
       "      <th>58176</th>\n",
       "      <td>44457061</td>\n",
       "      <td>Female</td>\n",
       "      <td>Australian Shepherd</td>\n",
       "      <td>NaN</td>\n",
       "    </tr>\n",
       "    <tr>\n",
       "      <th>58177</th>\n",
       "      <td>42865848</td>\n",
       "      <td>Female</td>\n",
       "      <td>Border Collie</td>\n",
       "      <td>Due to the small size of our volunteer base, w...</td>\n",
       "    </tr>\n",
       "    <tr>\n",
       "      <th>58178</th>\n",
       "      <td>42734734</td>\n",
       "      <td>Male</td>\n",
       "      <td>Boxer</td>\n",
       "      <td>NaN</td>\n",
       "    </tr>\n",
       "    <tr>\n",
       "      <th>58179</th>\n",
       "      <td>42663515</td>\n",
       "      <td>Male</td>\n",
       "      <td>Labrador Retriever</td>\n",
       "      <td>NaN</td>\n",
       "    </tr>\n",
       "  </tbody>\n",
       "</table>\n",
       "<p>58180 rows × 4 columns</p>\n",
       "</div>"
      ],
      "text/plain": [
       "             id     sex                   breed_primary  \\\n",
       "0      46042150    Male  American Staffordshire Terrier   \n",
       "1      46042002    Male                Pit Bull Terrier   \n",
       "2      46040898    Male                        Shepherd   \n",
       "3      46039877  Female             German Shepherd Dog   \n",
       "4      46039306    Male                       Dachshund   \n",
       "...         ...     ...                             ...   \n",
       "58175  44605893    Male                   Border Collie   \n",
       "58176  44457061  Female             Australian Shepherd   \n",
       "58177  42865848  Female                   Border Collie   \n",
       "58178  42734734    Male                           Boxer   \n",
       "58179  42663515    Male              Labrador Retriever   \n",
       "\n",
       "                                             description  \n",
       "0      Harley is not sure how he wound up at shelter ...  \n",
       "1      6 year old Biggie has lost his home and really...  \n",
       "2      Approx 2 years old.\\n Did I catch your eye? I ...  \n",
       "3                                                    NaN  \n",
       "4      Theo is a friendly dachshund mix who gets alon...  \n",
       "...                                                  ...  \n",
       "58175  Due to the small size of our volunteer base, w...  \n",
       "58176                                                NaN  \n",
       "58177  Due to the small size of our volunteer base, w...  \n",
       "58178                                                NaN  \n",
       "58179                                                NaN  \n",
       "\n",
       "[58180 rows x 4 columns]"
      ]
     },
     "execution_count": 3,
     "metadata": {},
     "output_type": "execute_result"
    }
   ],
   "source": [
    "# 1) creo una tabella con tutti gli elementi che hanno uguale breeed & sex \n",
    "duplicate_table = dogs.iloc[:, [0,13,5,34]]\n",
    "duplicate_table"
   ]
  },
  {
   "cell_type": "code",
   "execution_count": 4,
   "id": "f2cae1e6",
   "metadata": {},
   "outputs": [],
   "source": [
    "#elimino tutte le righe che hanno NaN come descrizione perché non possono essere duplicate \n",
    "duplicate_table = duplicate_table[duplicate_table['description'].notna()]"
   ]
  },
  {
   "cell_type": "code",
   "execution_count": 5,
   "id": "3e10dcaa",
   "metadata": {},
   "outputs": [],
   "source": [
    "duplicate_female = duplicate_table[duplicate_table['sex'] == 'Female']\n",
    "duplicate_male = duplicate_table[duplicate_table['sex'] == 'Male']"
   ]
  },
  {
   "cell_type": "code",
   "execution_count": 6,
   "id": "49ea57d4",
   "metadata": {},
   "outputs": [],
   "source": [
    "#riordino le righe per breed-primary\n",
    "duplicate_female = duplicate_female.sort_values(by = 'breed_primary').reset_index()\n",
    "duplicate_male = duplicate_male.sort_values(by = 'breed_primary').reset_index()"
   ]
  },
  {
   "cell_type": "code",
   "execution_count": 7,
   "id": "3258af55",
   "metadata": {},
   "outputs": [],
   "source": [
    "#controllo tutti i duplicati anche \n",
    "def scannerDuplicate(tab):\n",
    "    duplicate = {}\n",
    "    for i in range(len(tab)): # per scorrere tutte le righe\n",
    "        breed1 = tab.iloc[i]['breed_primary']\n",
    "        desc1 = tab.iloc[i]['description']\n",
    "        identi1 = tab.iloc[i]['id']\n",
    "\n",
    "        for j in range(i+1,len(tab)): # scorrere le righe interne alla razza\n",
    "            breed2 = tab.iloc[j]['breed_primary']\n",
    "            desc2 = tab.iloc[j]['description']\n",
    "            identi2 = tab.iloc[j]['id']\n",
    "\n",
    "            if breed1 == breed2: #se uguale razza allora faccio il confronto\n",
    "                if SequenceMatcher(None, desc1, desc2).ratio() >= 0.9: #se supera il 90% allora sono cloni e salvo i valori\n",
    "                    duplicate[identi1]= 'duplicate'\n",
    "                    duplicate[identi2]= 'duplicate'\n",
    "            else: #razza diversa fermo j e mando avanti i\n",
    "                break\n",
    "            \n",
    "            \n",
    "    return duplicate\n",
    "\n",
    "\n",
    "#1) ho provato a fermare il ciclo quando incontro un duplicato, sensibilmente più veloce ma salto duplicati\n",
    "#  1.1) if index1 not in duplicate2: -> prima del secondo for\n",
    "#  1.2) break -> finito if sentencematcher\n",
    "#2) ho provato a riordinare in base all'indice e non più alla razza, sembra funzionare e va nettamente più veloce\n",
    "#  2.1) ordinare per indice non trova tutti i duplicati, ogni volta che cambia razza perdo duplicati"
   ]
  },
  {
   "cell_type": "code",
   "execution_count": 10,
   "id": "46f83a25",
   "metadata": {},
   "outputs": [
    {
     "data": {
      "text/html": [
       "<div>\n",
       "<style scoped>\n",
       "    .dataframe tbody tr th:only-of-type {\n",
       "        vertical-align: middle;\n",
       "    }\n",
       "\n",
       "    .dataframe tbody tr th {\n",
       "        vertical-align: top;\n",
       "    }\n",
       "\n",
       "    .dataframe thead th {\n",
       "        text-align: right;\n",
       "    }\n",
       "</style>\n",
       "<table border=\"1\" class=\"dataframe\">\n",
       "  <thead>\n",
       "    <tr style=\"text-align: right;\">\n",
       "      <th></th>\n",
       "      <th>index</th>\n",
       "      <th>id</th>\n",
       "      <th>sex</th>\n",
       "      <th>breed_primary</th>\n",
       "      <th>description</th>\n",
       "    </tr>\n",
       "  </thead>\n",
       "  <tbody>\n",
       "    <tr>\n",
       "      <th>0</th>\n",
       "      <td>32156</td>\n",
       "      <td>45970614</td>\n",
       "      <td>Female</td>\n",
       "      <td>Affenpinscher</td>\n",
       "      <td>Elsie.jpgThank you for looking at our availabl...</td>\n",
       "    </tr>\n",
       "    <tr>\n",
       "      <th>1</th>\n",
       "      <td>54676</td>\n",
       "      <td>45896635</td>\n",
       "      <td>Female</td>\n",
       "      <td>Affenpinscher</td>\n",
       "      <td>Sweet older girl whose had a rough couple year...</td>\n",
       "    </tr>\n",
       "    <tr>\n",
       "      <th>2</th>\n",
       "      <td>24994</td>\n",
       "      <td>22427951</td>\n",
       "      <td>Female</td>\n",
       "      <td>Affenpinscher</td>\n",
       "      <td>To see even more click the following link:\\n\\n...</td>\n",
       "    </tr>\n",
       "    <tr>\n",
       "      <th>3</th>\n",
       "      <td>51866</td>\n",
       "      <td>45916762</td>\n",
       "      <td>Female</td>\n",
       "      <td>Affenpinscher</td>\n",
       "      <td>Norma Jean is an Affenpinscher mix girl that w...</td>\n",
       "    </tr>\n",
       "    <tr>\n",
       "      <th>4</th>\n",
       "      <td>32235</td>\n",
       "      <td>45871731</td>\n",
       "      <td>Female</td>\n",
       "      <td>Affenpinscher</td>\n",
       "      <td>55351.jpgThank you for looking at our availabl...</td>\n",
       "    </tr>\n",
       "    <tr>\n",
       "      <th>...</th>\n",
       "      <td>...</td>\n",
       "      <td>...</td>\n",
       "      <td>...</td>\n",
       "      <td>...</td>\n",
       "      <td>...</td>\n",
       "    </tr>\n",
       "    <tr>\n",
       "      <th>295</th>\n",
       "      <td>27808</td>\n",
       "      <td>43931069</td>\n",
       "      <td>Female</td>\n",
       "      <td>American Bulldog</td>\n",
       "      <td>\\nWe cannot look at Sincere's little lovebug f...</td>\n",
       "    </tr>\n",
       "    <tr>\n",
       "      <th>296</th>\n",
       "      <td>23806</td>\n",
       "      <td>45517678</td>\n",
       "      <td>Female</td>\n",
       "      <td>American Bulldog</td>\n",
       "      <td>You can fill out an adoption application onlin...</td>\n",
       "    </tr>\n",
       "    <tr>\n",
       "      <th>297</th>\n",
       "      <td>25363</td>\n",
       "      <td>45989541</td>\n",
       "      <td>Female</td>\n",
       "      <td>American Bulldog</td>\n",
       "      <td>Hi, I'm Jingles. I am very excited to meet you...</td>\n",
       "    </tr>\n",
       "    <tr>\n",
       "      <th>298</th>\n",
       "      <td>27878</td>\n",
       "      <td>43611430</td>\n",
       "      <td>Female</td>\n",
       "      <td>American Bulldog</td>\n",
       "      <td>Olive was a thin, flea-infested stray that too...</td>\n",
       "    </tr>\n",
       "    <tr>\n",
       "      <th>299</th>\n",
       "      <td>55825</td>\n",
       "      <td>46005060</td>\n",
       "      <td>Female</td>\n",
       "      <td>American Bulldog</td>\n",
       "      <td>Poor Jewel was found in the streets with a pro...</td>\n",
       "    </tr>\n",
       "  </tbody>\n",
       "</table>\n",
       "<p>300 rows × 5 columns</p>\n",
       "</div>"
      ],
      "text/plain": [
       "     index        id     sex     breed_primary  \\\n",
       "0    32156  45970614  Female     Affenpinscher   \n",
       "1    54676  45896635  Female     Affenpinscher   \n",
       "2    24994  22427951  Female     Affenpinscher   \n",
       "3    51866  45916762  Female     Affenpinscher   \n",
       "4    32235  45871731  Female     Affenpinscher   \n",
       "..     ...       ...     ...               ...   \n",
       "295  27808  43931069  Female  American Bulldog   \n",
       "296  23806  45517678  Female  American Bulldog   \n",
       "297  25363  45989541  Female  American Bulldog   \n",
       "298  27878  43611430  Female  American Bulldog   \n",
       "299  55825  46005060  Female  American Bulldog   \n",
       "\n",
       "                                           description  \n",
       "0    Elsie.jpgThank you for looking at our availabl...  \n",
       "1    Sweet older girl whose had a rough couple year...  \n",
       "2    To see even more click the following link:\\n\\n...  \n",
       "3    Norma Jean is an Affenpinscher mix girl that w...  \n",
       "4    55351.jpgThank you for looking at our availabl...  \n",
       "..                                                 ...  \n",
       "295  \\nWe cannot look at Sincere's little lovebug f...  \n",
       "296  You can fill out an adoption application onlin...  \n",
       "297  Hi, I'm Jingles. I am very excited to meet you...  \n",
       "298  Olive was a thin, flea-infested stray that too...  \n",
       "299  Poor Jewel was found in the streets with a pro...  \n",
       "\n",
       "[300 rows x 5 columns]"
      ]
     },
     "execution_count": 10,
     "metadata": {},
     "output_type": "execute_result"
    }
   ],
   "source": [
    "prova_female = duplicate_female.iloc[0:300]\n",
    "prova_female"
   ]
  },
  {
   "cell_type": "code",
   "execution_count": 14,
   "id": "9b64675d",
   "metadata": {},
   "outputs": [
    {
     "data": {
      "text/plain": [
       "{45970614: 'duplicate',\n",
       " 45871731: 'duplicate',\n",
       " 46023964: 'duplicate',\n",
       " 46023963: 'duplicate',\n",
       " 42087185: 'duplicate',\n",
       " 43170920: 'duplicate',\n",
       " 45986905: 'duplicate',\n",
       " 45986935: 'duplicate',\n",
       " 44518435: 'duplicate',\n",
       " 44517341: 'duplicate',\n",
       " 44130324: 'duplicate',\n",
       " 45932298: 'duplicate',\n",
       " 45931729: 'duplicate',\n",
       " 46028451: 'duplicate',\n",
       " 46028452: 'duplicate',\n",
       " 46028453: 'duplicate',\n",
       " 45560548: 'duplicate',\n",
       " 45570899: 'duplicate',\n",
       " 45949697: 'duplicate',\n",
       " 46021044: 'duplicate',\n",
       " 45252099: 'duplicate',\n",
       " 45255573: 'duplicate',\n",
       " 45872595: 'duplicate',\n",
       " 45897563: 'duplicate',\n",
       " 45897570: 'duplicate'}"
      ]
     },
     "execution_count": 14,
     "metadata": {},
     "output_type": "execute_result"
    }
   ],
   "source": [
    "r=scannerDuplicate(prova_female)\n",
    "r"
   ]
  },
  {
   "cell_type": "code",
   "execution_count": 15,
   "id": "5810cb0a",
   "metadata": {},
   "outputs": [
    {
     "data": {
      "text/plain": [
       "25"
      ]
     },
     "execution_count": 15,
     "metadata": {},
     "output_type": "execute_result"
    }
   ],
   "source": [
    "len(r)"
   ]
  },
  {
   "cell_type": "code",
   "execution_count": null,
   "id": "49123f7b",
   "metadata": {},
   "outputs": [],
   "source": []
  }
 ],
 "metadata": {
  "kernelspec": {
   "display_name": "Python 3 (ipykernel)",
   "language": "python",
   "name": "python3"
  },
  "language_info": {
   "codemirror_mode": {
    "name": "ipython",
    "version": 3
   },
   "file_extension": ".py",
   "mimetype": "text/x-python",
   "name": "python",
   "nbconvert_exporter": "python",
   "pygments_lexer": "ipython3",
   "version": "3.11.0"
  }
 },
 "nbformat": 4,
 "nbformat_minor": 5
}
